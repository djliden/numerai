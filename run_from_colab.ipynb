{
  "nbformat": 4,
  "nbformat_minor": 0,
  "metadata": {
    "orig_nbformat": 2,
    "colab": {
      "name": "run_from_colab.ipynb",
      "provenance": [],
      "toc_visible": true,
      "machine_shape": "hm",
      "include_colab_link": true
    },
    "kernelspec": {
      "name": "python3",
      "display_name": "Python 3"
    },
    "accelerator": "GPU"
  },
  "cells": [
    {
      "cell_type": "markdown",
      "metadata": {
        "id": "view-in-github",
        "colab_type": "text"
      },
      "source": [
        "<a href=\"https://colab.research.google.com/github/djliden/numerai/blob/main/run_from_colab.ipynb\" target=\"_parent\"><img src=\"https://colab.research.google.com/assets/colab-badge.svg\" alt=\"Open In Colab\"/></a>"
      ]
    },
    {
      "cell_type": "markdown",
      "metadata": {
        "id": "L5E04YfM1EpE"
      },
      "source": [
        "# Run from Colab\n",
        "\n",
        "NB Goal: Set up a system for cloning this package and running the model(s) on colab in a fairly hands-off way.\n",
        "\n",
        "To authenticate, either upload your `.env` file with the necessary API keys to the numerai folder which you will clone below, or you will be prompted to copy the keys."
      ]
    },
    {
      "cell_type": "code",
      "metadata": {
        "id": "PYIQMMmm1EpI",
        "colab": {
          "base_uri": "https://localhost:8080/"
        },
        "outputId": "657cd11c-bc18-4563-f7c9-e38e5a92eb4d"
      },
      "source": [
        "!git clone https://github.com/djliden/numerai.git\n",
        "%cd numerai"
      ],
      "execution_count": 1,
      "outputs": [
        {
          "output_type": "stream",
          "text": [
            "Cloning into 'numerai'...\n",
            "remote: Enumerating objects: 180, done.\u001b[K\n",
            "remote: Counting objects: 100% (180/180), done.\u001b[K\n",
            "remote: Compressing objects: 100% (122/122), done.\u001b[K\n",
            "remote: Total 180 (delta 90), reused 128 (delta 52), pack-reused 0\u001b[K\n",
            "Receiving objects: 100% (180/180), 139.19 KiB | 874.00 KiB/s, done.\n",
            "Resolving deltas: 100% (90/90), done.\n",
            "/content/numerai\n"
          ],
          "name": "stdout"
        }
      ]
    },
    {
      "cell_type": "code",
      "metadata": {
        "id": "S4mvfr4Z1Kx_"
      },
      "source": [
        "%%capture\n",
        "%%bash\n",
        "pip install --upgrade fastai numerapi python-dotenv ipywidgets jupyter ipython ipython-genutils yacs"
      ],
      "execution_count": 3,
      "outputs": []
    },
    {
      "cell_type": "code",
      "metadata": {
        "id": "OlKPARdb2O7q",
        "colab": {
          "base_uri": "https://localhost:8080/"
        },
        "outputId": "ca9d318c-cb35-42de-c604-ccc7f85d6836"
      },
      "source": [
        "!python ./src/fastai_tabular.py ./src/config/experiments/expt_colab.yaml"
      ],
      "execution_count": null,
      "outputs": [
        {
          "output_type": "stream",
          "text": [
            "DATA:\n",
            "  REFRESH: False\n",
            "  SAVE_PROCESSED_TRAIN: True\n",
            "EVAL:\n",
            "  SAVE_PREDS: False\n",
            "MODEL:\n",
            "  BATCHNORM_FINAL: True\n",
            "  DROPOUT_P: 0\n",
            "  EMBED_DROPOUT_P: 0\n",
            "  GROUP: fastai_tabular\n",
            "  LAYERS: [256, 256]\n",
            "  NAME: layers_256_256\n",
            "  USE_BATCHNORM: True\n",
            "  WEIGHT_DECAY: 0\n",
            "  Y_RANGE: [0, 1]\n",
            "RESULTS:\n",
            "  \n",
            "SESSION:\n",
            "  NAME: Default\n",
            "SYSTEM:\n",
            "  DEBUG: False\n",
            "  TIME: 2021_2_28_215\n",
            "TRAIN:\n",
            "  N_EPOCHS: 6\n",
            "Loaded Numerai Public Key into Global Environment!\n",
            "Loaded Numerai Secret Key into Global Environment!\n",
            "The dataset has already been downloaded.\n",
            "You can re-download it with refresh = True\n",
            "setting up fastai dataloaders\n",
            "Loading the processed training data from file\n",
            "\n",
            "tcmalloc: large alloc 1591296000 bytes == 0x55de20cc4000 @  0x7ff81a2e31e7 0x7ff817e6346e 0x7ff817eb3c7b 0x7ff817eb435f 0x7ff817f56103 0x55dd5a2ff0e4 0x55dd5a2fede0 0x55dd5a3736f5 0x55dd5a30069a 0x55dd5a36ea45 0x55dd5a36db0e 0x55dd5a30077a 0x55dd5a36ea45 0x55dd5a30069a 0x55dd5a36ea45 0x55dd5a30069a 0x55dd5a36ea45 0x55dd5a36db0e 0x55dd5a30077a 0x55dd5a36f86a 0x55dd5a36de0d 0x55dd5a30077a 0x55dd5a36f86a 0x55dd5a36de0d 0x55dd5a30077a 0x55dd5a36f86a 0x55dd5a36db0e 0x55dd5a30102c 0x55dd5a341d39 0x55dd5a33ec84 0x55dd5a2ff8e9\n",
            "tcmalloc: large alloc 1591296000 bytes == 0x55de808fc000 @  0x7ff81a2e31e7 0x7ff817e6346e 0x7ff817eb3c7b 0x7ff817eb3d97 0x7ff817ead4a5 0x7ff817f4aeab 0x55dd5a2ff050 0x55dd5a3f099d 0x55dd5a372fe9 0x55dd5a36db0e 0x55dd5a30102c 0x55dd5a301231 0x55dd5a3701e6 0x55dd5a36de0d 0x55dd5a30077a 0x55dd5a36f86a 0x55dd5a36de0d 0x55dd5a30077a 0x55dd5a36f86a 0x55dd5a36db0e 0x55dd5a30077a 0x55dd5a372e50 0x55dd5a36de0d 0x55dd5a30102c 0x55dd5a341d39 0x55dd5a33ec84 0x55dd5a2ff8e9 0x55dd5a373ade 0x55dd5a36db0e 0x55dd5a30077a 0x55dd5a36f86a\n",
            "setting up the fastai model\n",
            "training the model\n",
            "\n",
            "[N | train --------- | valid ----------- | corr ------------- | time]\n"
          ],
          "name": "stdout"
        }
      ]
    },
    {
      "cell_type": "markdown",
      "metadata": {
        "id": "bVLqFYL7EpKs"
      },
      "source": [
        "## Outstanding Issues:\n",
        "- Progress bars not rendering correctly.\n",
        "\n",
        "## Notes\n",
        "- Colab Pro does not seem to have improved training times relative to Colab, but I gues that could depend on which GPU I'm assigned based on overall usage...\n",
        "- Relatively small number of units per layer seems to be working best -- 400, 400 was good.\n",
        "- Using batchnorm: no apparent improvement in training times.\n",
        "    - With: .021 corr .808 sharpe\n",
        "    - Without: (marginally faster): .016 correlation .652 sharpe (notably, running same config locally, ended up with much higher results .023 and > 1)\n",
        "    - With + with final: even slower. .023 corr and 1.051 sharpe\n",
        "- 256, 256 layers"
      ]
    },
    {
      "cell_type": "code",
      "metadata": {
        "id": "Ey4soGw-GEcP",
        "colab": {
          "base_uri": "https://localhost:8080/"
        },
        "outputId": "3493ff00-2fb6-418e-f14d-cca93f6f8faf"
      },
      "source": [
        "#!git pull"
      ],
      "execution_count": 7,
      "outputs": [
        {
          "output_type": "stream",
          "text": [
            "remote: Enumerating objects: 11, done.\u001b[K\n",
            "remote: Counting objects:   9% (1/11)\u001b[K\rremote: Counting objects:  18% (2/11)\u001b[K\rremote: Counting objects:  27% (3/11)\u001b[K\rremote: Counting objects:  36% (4/11)\u001b[K\rremote: Counting objects:  45% (5/11)\u001b[K\rremote: Counting objects:  54% (6/11)\u001b[K\rremote: Counting objects:  63% (7/11)\u001b[K\rremote: Counting objects:  72% (8/11)\u001b[K\rremote: Counting objects:  81% (9/11)\u001b[K\rremote: Counting objects:  90% (10/11)\u001b[K\rremote: Counting objects: 100% (11/11)\u001b[K\rremote: Counting objects: 100% (11/11), done.\u001b[K\n",
            "remote: Compressing objects:  25% (1/4)\u001b[K\rremote: Compressing objects:  50% (2/4)\u001b[K\rremote: Compressing objects:  75% (3/4)\u001b[K\rremote: Compressing objects: 100% (4/4)\u001b[K\rremote: Compressing objects: 100% (4/4), done.\u001b[K\n",
            "remote: Total 7 (delta 5), reused 4 (delta 3), pack-reused 0\u001b[K\n",
            "Unpacking objects:  14% (1/7)   \rUnpacking objects:  28% (2/7)   \rUnpacking objects:  42% (3/7)   \rUnpacking objects:  57% (4/7)   \rUnpacking objects:  71% (5/7)   \rUnpacking objects:  85% (6/7)   \rUnpacking objects: 100% (7/7)   \rUnpacking objects: 100% (7/7), done.\n",
            "From https://github.com/djliden/numerai\n",
            "   02a45ed..73676ba  main       -> origin/main\n",
            "Updating 02a45ed..73676ba\n",
            "Fast-forward\n",
            " run_from_colab.ipynb  | 90 \u001b[32m+++++++++++++++++++++++\u001b[m\u001b[31m----------------------------\u001b[m\n",
            " src/fastai_tabular.py |  3 \u001b[32m+\u001b[m\u001b[31m-\u001b[m\n",
            " 2 files changed, 42 insertions(+), 51 deletions(-)\n"
          ],
          "name": "stdout"
        }
      ]
    },
    {
      "cell_type": "code",
      "metadata": {
        "id": "Y22Is4_7bDqC"
      },
      "source": [
        "!zip -r /logs.zip /content/numerai/output/logs/*\n",
        "from google.colab import files\n",
        "files.download(\"/content/file.zip\")"
      ],
      "execution_count": null,
      "outputs": []
    }
  ]
}