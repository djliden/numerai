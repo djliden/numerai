{
  "nbformat": 4,
  "nbformat_minor": 0,
  "metadata": {
    "orig_nbformat": 2,
    "colab": {
      "name": "run_from_colab.ipynb",
      "provenance": [],
      "toc_visible": true,
      "machine_shape": "hm",
      "include_colab_link": true
    },
    "kernelspec": {
      "name": "python3",
      "display_name": "Python 3"
    },
    "accelerator": "GPU"
  },
  "cells": [
    {
      "cell_type": "markdown",
      "metadata": {
        "id": "view-in-github",
        "colab_type": "text"
      },
      "source": [
        "<a href=\"https://colab.research.google.com/github/djliden/numerai/blob/main/run_from_colab.ipynb\" target=\"_parent\"><img src=\"https://colab.research.google.com/assets/colab-badge.svg\" alt=\"Open In Colab\"/></a>"
      ]
    },
    {
      "cell_type": "markdown",
      "metadata": {
        "id": "L5E04YfM1EpE"
      },
      "source": [
        "# Run from Colab\n",
        "\n",
        "NB Goal: Set up a system for cloning this package and running the model(s) on colab in a fairly hands-off way.\n",
        "\n",
        "To authenticate, either upload your `.env` file with the necessary API keys to the numerai folder which you will clone below, or you will be prompted to copy the keys."
      ]
    },
    {
      "cell_type": "code",
      "metadata": {
        "id": "PYIQMMmm1EpI",
        "colab": {
          "base_uri": "https://localhost:8080/"
        },
        "outputId": "657cd11c-bc18-4563-f7c9-e38e5a92eb4d"
      },
      "source": [
        "!git clone https://github.com/djliden/numerai.git\n",
        "%cd numerai"
      ],
      "execution_count": 1,
      "outputs": [
        {
          "output_type": "stream",
          "text": [
            "Cloning into 'numerai'...\n",
            "remote: Enumerating objects: 180, done.\u001b[K\n",
            "remote: Counting objects: 100% (180/180), done.\u001b[K\n",
            "remote: Compressing objects: 100% (122/122), done.\u001b[K\n",
            "remote: Total 180 (delta 90), reused 128 (delta 52), pack-reused 0\u001b[K\n",
            "Receiving objects: 100% (180/180), 139.19 KiB | 874.00 KiB/s, done.\n",
            "Resolving deltas: 100% (90/90), done.\n",
            "/content/numerai\n"
          ],
          "name": "stdout"
        }
      ]
    },
    {
      "cell_type": "code",
      "metadata": {
        "id": "S4mvfr4Z1Kx_"
      },
      "source": [
        "%%capture\n",
        "%%bash\n",
        "pip install --upgrade fastai numerapi python-dotenv ipywidgets jupyter ipython ipython-genutils yacs"
      ],
      "execution_count": 3,
      "outputs": []
    },
    {
      "cell_type": "code",
      "metadata": {
        "id": "OlKPARdb2O7q",
        "colab": {
          "base_uri": "https://localhost:8080/"
        },
        "outputId": "7faabe56-0ce2-4640-bf68-bd8e0591dbe6"
      },
      "source": [
        "!python ./src/fastai_tabular.py ./src/config/experiments/expt_colab.yaml"
      ],
      "execution_count": null,
      "outputs": [
        {
          "output_type": "stream",
          "text": [
            "DATA:\n",
            "  REFRESH: False\n",
            "  SAVE_PROCESSED_TRAIN: True\n",
            "EVAL:\n",
            "  SAVE_PREDS: False\n",
            "MODEL:\n",
            "  BATCHNORM_FINAL: False\n",
            "  DROPOUT_P: 0\n",
            "  EMBED_DROPOUT_P: 0\n",
            "  GROUP: fastai_tabular\n",
            "  LAYERS: [500, 300]\n",
            "  NAME: size_500_300\n",
            "  USE_BATCHNORM: False\n",
            "  WEIGHT_DECAY: 0\n",
            "  Y_RANGE: [0, 0]\n",
            "RESULTS:\n",
            "  \n",
            "SESSION:\n",
            "  NAME: Default\n",
            "SYSTEM:\n",
            "  DEBUG: False\n",
            "  TIME: 2021_2_28_111\n",
            "TRAIN:\n",
            "  N_EPOCHS: 6\n",
            "Loaded Numerai Public Key into Global Environment!\n",
            "Loaded Numerai Secret Key into Global Environment!\n",
            "input/numerai_dataset_253.zip: 100% 392M/393M [00:25<00:00, 17.4MB/s]2021-02-28 01:12:12,228 INFO numerapi.base_api: unzipping file...\n"
          ],
          "name": "stdout"
        }
      ]
    },
    {
      "cell_type": "markdown",
      "metadata": {
        "id": "bVLqFYL7EpKs"
      },
      "source": [
        "## Outstanding Issues:\n",
        "- Progress bars not rendering correctly."
      ]
    },
    {
      "cell_type": "code",
      "metadata": {
        "id": "Ey4soGw-GEcP"
      },
      "source": [
        "#!git pull"
      ],
      "execution_count": null,
      "outputs": []
    }
  ]
}