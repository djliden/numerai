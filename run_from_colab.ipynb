{
  "nbformat": 4,
  "nbformat_minor": 0,
  "metadata": {
    "orig_nbformat": 2,
    "colab": {
      "name": "run_from_colab.ipynb",
      "provenance": [],
      "toc_visible": true,
      "include_colab_link": true
    },
    "kernelspec": {
      "name": "python3",
      "display_name": "Python 3"
    }
  },
  "cells": [
    {
      "cell_type": "markdown",
      "metadata": {
        "id": "view-in-github",
        "colab_type": "text"
      },
      "source": [
        "<a href=\"https://colab.research.google.com/github/djliden/numerai/blob/main/run_from_colab.ipynb\" target=\"_parent\"><img src=\"https://colab.research.google.com/assets/colab-badge.svg\" alt=\"Open In Colab\"/></a>"
      ]
    },
    {
      "cell_type": "markdown",
      "metadata": {
        "id": "L5E04YfM1EpE"
      },
      "source": [
        "# Run from Colab\n",
        "\n",
        "NB Goal: Set up a system for cloning this package and running the model(s) on colab in a fairly hands-off way.\n",
        "\n",
        "To authenticate, either upload your `.env` file with the necessary API keys to the numerai folder which you will clone below, or you will be prompted to copy the keys."
      ]
    },
    {
      "cell_type": "code",
      "metadata": {
        "id": "PYIQMMmm1EpI",
        "colab": {
          "base_uri": "https://localhost:8080/"
        },
        "outputId": "203ebf39-5a45-4d62-8ba6-5571d7e7f586"
      },
      "source": [
        "!git clone https://github.com/djliden/numerai.git"
      ],
      "execution_count": 1,
      "outputs": [
        {
          "output_type": "stream",
          "text": [
            "Cloning into 'numerai'...\n",
            "remote: Enumerating objects: 79, done.\u001b[K\n",
            "remote: Counting objects: 100% (79/79), done.\u001b[K\n",
            "remote: Compressing objects: 100% (53/53), done.\u001b[K\n",
            "remote: Total 79 (delta 32), reused 66 (delta 24), pack-reused 0\u001b[K\n",
            "Unpacking objects: 100% (79/79), done.\n"
          ],
          "name": "stdout"
        }
      ]
    },
    {
      "cell_type": "code",
      "metadata": {
        "id": "S4mvfr4Z1Kx_"
      },
      "source": [
        "%%capture\n",
        "%cd numerai\n",
        "!pwd\n",
        "!pip install --upgrade fastai numerapi python-dotenv ipywidgets"
      ],
      "execution_count": 2,
      "outputs": []
    },
    {
      "cell_type": "code",
      "metadata": {
        "id": "OlKPARdb2O7q",
        "colab": {
          "base_uri": "https://localhost:8080/"
        },
        "outputId": "66bdf67f-8cc6-49b5-c27f-f6201021b2e0"
      },
      "source": [
        "!python src/fastai_tabular.py"
      ],
      "execution_count": 19,
      "outputs": [
        {
          "output_type": "stream",
          "text": [
            "Loaded Numerai Public Key into Global Environment!\n",
            "Loaded Numerai Secret Key into Global Environment!\n",
            "The dataset has already been downloaded.\n",
            "You can re-download it with refresh = True\n",
            "setting up fastai dataloaders\n",
            "Loading the processed training data from file\n",
            "\n",
            "tcmalloc: large alloc 1591296000 bytes == 0xc6232000 @  0x7effcc81d1e7 0x7effca39d41e 0x7effca3edc2b 0x7effca3ee30f 0x7effca4900a3 0x50a4a5 0x50cc96 0x5095c8 0x50a2fd 0x50beb4 0x507be4 0x509900 0x50a2fd 0x50beb4 0x5095c8 0x50a2fd 0x50beb4 0x5095c8 0x50a2fd 0x50beb4 0x507be4 0x509900 0x50a2fd 0x50cc96 0x507be4 0x509900 0x50a2fd 0x50cc96 0x507be4 0x509900 0x50a2fd\n",
            "using a debugging sample of 1500 rows\n",
            "\n",
            "setting up the fastai model\n",
            "training the model\n",
            "[0, 0.2622736096382141, 0.09808066487312317, -0.05381333416722975, '00:00']\n",
            "[1, 0.14100795984268188, 0.06656462699174881, -0.03775601625816017, '00:00']\n",
            "Making Predictions on Validation Set\n",
            "Model training has completed.\n",
            "Validation correlation: 0.001.\n",
            "validation sharpe: 0.054\n"
          ],
          "name": "stdout"
        }
      ]
    },
    {
      "cell_type": "markdown",
      "metadata": {
        "id": "bVLqFYL7EpKs"
      },
      "source": [
        "## Outstanding Issues:\n",
        "- Progress bars not rendering correctly. I would rather they render as text anyway."
      ]
    },
    {
      "cell_type": "code",
      "metadata": {
        "id": "Ey4soGw-GEcP",
        "outputId": "76cf12db-8a89-4f9c-def9-9da8fe1c9585",
        "colab": {
          "base_uri": "https://localhost:8080/"
        }
      },
      "source": [
        "#!git pull"
      ],
      "execution_count": 18,
      "outputs": [
        {
          "output_type": "stream",
          "text": [
            "remote: Enumerating objects: 7, done.\u001b[K\n",
            "remote: Counting objects:  14% (1/7)\u001b[K\rremote: Counting objects:  28% (2/7)\u001b[K\rremote: Counting objects:  42% (3/7)\u001b[K\rremote: Counting objects:  57% (4/7)\u001b[K\rremote: Counting objects:  71% (5/7)\u001b[K\rremote: Counting objects:  85% (6/7)\u001b[K\rremote: Counting objects: 100% (7/7)\u001b[K\rremote: Counting objects: 100% (7/7), done.\u001b[K\n",
            "remote: Compressing objects:  33% (1/3)\u001b[K\rremote: Compressing objects:  66% (2/3)\u001b[K\rremote: Compressing objects: 100% (3/3)\u001b[K\rremote: Compressing objects: 100% (3/3), done.\u001b[K\n",
            "remote: Total 4 (delta 2), reused 3 (delta 1), pack-reused 0\u001b[K\n",
            "Unpacking objects:  25% (1/4)   \rUnpacking objects:  50% (2/4)   \rUnpacking objects:  75% (3/4)   \rUnpacking objects: 100% (4/4)   \rUnpacking objects: 100% (4/4), done.\n",
            "From https://github.com/djliden/numerai\n",
            "   d93c9bc..07c1325  main       -> origin/main\n",
            "Updating d93c9bc..07c1325\n",
            "Fast-forward\n",
            " src/fastai_tabular.py | 4 \u001b[32m++\u001b[m\u001b[31m--\u001b[m\n",
            " 1 file changed, 2 insertions(+), 2 deletions(-)\n"
          ],
          "name": "stdout"
        }
      ]
    },
    {
      "cell_type": "code",
      "metadata": {
        "id": "mjd6aZ9jGFP6"
      },
      "source": [
        ""
      ],
      "execution_count": null,
      "outputs": []
    }
  ]
}