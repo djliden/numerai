{
 "cells": [
  {
   "cell_type": "markdown",
   "metadata": {
    "colab_type": "text",
    "id": "view-in-github"
   },
   "source": [
    "<a href=\"https://colab.research.google.com/github/djliden/numerai/blob/main/run_from_colab.ipynb\" target=\"_parent\"><img src=\"https://colab.research.google.com/assets/colab-badge.svg\" alt=\"Open In Colab\"/></a>"
   ]
  },
  {
   "cell_type": "markdown",
   "metadata": {
    "id": "L5E04YfM1EpE"
   },
   "source": [
    "# Run from Colab\n",
    "\n",
    "NB Goal: Set up a system for cloning this package and running the model(s) on colab in a fairly hands-off way.\n",
    "\n",
    "To authenticate, either upload your `.env` file with the necessary API keys to the numerai folder which you will clone below, or you will be prompted to copy the keys."
   ]
  },
  {
   "cell_type": "code",
   "execution_count": 2,
   "metadata": {
    "colab": {
     "base_uri": "https://localhost:8080/"
    },
    "id": "PYIQMMmm1EpI",
    "outputId": "657cd11c-bc18-4563-f7c9-e38e5a92eb4d"
   },
   "outputs": [
    {
     "name": "stdout",
     "output_type": "stream",
     "text": [
      "Cloning into 'numerai'...\n",
      "remote: Enumerating objects: 383, done.\u001b[K\n",
      "remote: Counting objects: 100% (383/383), done.\u001b[K\n",
      "remote: Compressing objects: 100% (285/285), done.\u001b[K\n",
      "remote: Total 383 (delta 226), reused 207 (delta 89), pack-reused 0\u001b[K\n",
      "Receiving objects: 100% (383/383), 233.26 KiB | 1.20 MiB/s, done.\n",
      "Resolving deltas: 100% (226/226), done.\n",
      "/home/djliden91/git/projects/numerai/numerai\n"
     ]
    }
   ],
   "source": [
    "!git clone https://github.com/djliden/numerai.git\n",
    "%cd numerai"
   ]
  },
  {
   "cell_type": "code",
   "execution_count": 1,
   "metadata": {
    "id": "S4mvfr4Z1Kx_"
   },
   "outputs": [],
   "source": [
    "%%capture\n",
    "%%bash\n",
    "pip install --upgrade fastai numerapi python-dotenv ipywidgets jupyter ipython ipython-genutils"
   ]
  },
  {
   "cell_type": "code",
   "execution_count": 1,
   "metadata": {
    "colab": {
     "base_uri": "https://localhost:8080/"
    },
    "id": "OlKPARdb2O7q",
    "outputId": "641909a2-cda5-4368-dbdf-bb0d43b75cd8"
   },
   "outputs": [
    {
     "name": "stdout",
     "output_type": "stream",
     "text": [
      "CV:\n",
      "  GAP: 0\n",
      "  TRAIN_START: 0\n",
      "  TRAIN_STOP: null\n",
      "  VAL_END: 210\n",
      "  VAL_N_ERAS: 4\n",
      "  VAL_START: 206\n",
      "DATA:\n",
      "  REFRESH: false\n",
      "  SAVE_PROCESSED_TRAIN: true\n",
      "EVAL:\n",
      "  CHUNK_SIZE: 1000000\n",
      "  SAVE_PREDS: true\n",
      "  SUBMIT_PREDS: true\n",
      "MODEL:\n",
      "  BATCHNORM_FINAL: true\n",
      "  BATCH_SIZE: 2048\n",
      "  DROPOUT_P: 0.05\n",
      "  EMBED_DROPOUT_P: 0\n",
      "  GROUP: fastai_tabular\n",
      "  LAYERS:\n",
      "  - 400\n",
      "  - 400\n",
      "  LEARNING_RATE: 0.001\n",
      "  LOSS_FUNCTION: MSELossFlat\n",
      "  METRICS:\n",
      "  - SpearmanCorrCoef\n",
      "  NAME: subattempt\n",
      "  N_EPOCHS: 6\n",
      "  TYPE: fastai_tabular\n",
      "  USE_BATCHNORM: true\n",
      "  WEIGHT_DECAY: 0\n",
      "  Y_RANGE:\n",
      "  - 0\n",
      "  - 1.1\n",
      "SYSTEM:\n",
      "  DEBUG: false\n",
      "  TIME: '2021_4_3_756'\n",
      "TRAIN:\n",
      "  N_EPOCHS: 6\n",
      "\n",
      "Loaded Numerai Public Key into Global Environment!\n",
      "Loaded Numerai Secret Key into Global Environment!\n",
      "The dataset has already been downloaded.\n",
      "You can re-download it with refresh = True\n",
      "Loading the pickled training data from file\n",
      "\n",
      "  0%|                                                     | 0/4 [00:00<?, ?it/s]training the model\n",
      "\n",
      "[N | train --------- | valid ----------- | corr ------------- | time]\n",
      "[0, 0.08181564509868622, 0.05984537675976753, 0.011278129596455877, '00:36']\n",
      "^C\n",
      "  0%|                                                     | 0/4 [00:59<?, ?it/s]\n",
      "Traceback (most recent call last):\n",
      "  File \"/home/djliden91/git/projects/numerai/./src/exec_config.py\", line 82, in <module>\n",
      "    mod.fit(df = training_data, cont_names = list(feature_cols),\n",
      "  File \"/home/djliden91/git/projects/numerai/src/models/fastai_tabular.py\", line 64, in fit\n",
      "    self.learn()\n",
      "  File \"/home/djliden91/git/projects/numerai/src/models/fastai_tabular.py\", line 55, in learn\n",
      "    self.learner.fit_one_cycle(n_epoch = self.N_EPOCHS,\n",
      "  File \"/home/djliden91/.virtualenvs/numerai/lib/python3.9/site-packages/fastai/callback/schedule.py\", line 112, in fit_one_cycle\n",
      "    self.fit(n_epoch, cbs=ParamScheduler(scheds)+L(cbs), reset_opt=reset_opt, wd=wd)\n",
      "  File \"/home/djliden91/.virtualenvs/numerai/lib/python3.9/site-packages/fastai/learner.py\", line 211, in fit\n",
      "    self._with_events(self._do_fit, 'fit', CancelFitException, self._end_cleanup)\n",
      "  File \"/home/djliden91/.virtualenvs/numerai/lib/python3.9/site-packages/fastai/learner.py\", line 160, in _with_events\n",
      "    try: self(f'before_{event_type}');  f()\n",
      "  File \"/home/djliden91/.virtualenvs/numerai/lib/python3.9/site-packages/fastai/learner.py\", line 202, in _do_fit\n",
      "    self._with_events(self._do_epoch, 'epoch', CancelEpochException)\n",
      "  File \"/home/djliden91/.virtualenvs/numerai/lib/python3.9/site-packages/fastai/learner.py\", line 160, in _with_events\n",
      "    try: self(f'before_{event_type}');  f()\n",
      "  File \"/home/djliden91/.virtualenvs/numerai/lib/python3.9/site-packages/fastai/learner.py\", line 196, in _do_epoch\n",
      "    self._do_epoch_train()\n",
      "  File \"/home/djliden91/.virtualenvs/numerai/lib/python3.9/site-packages/fastai/learner.py\", line 188, in _do_epoch_train\n",
      "    self._with_events(self.all_batches, 'train', CancelTrainException)\n",
      "  File \"/home/djliden91/.virtualenvs/numerai/lib/python3.9/site-packages/fastai/learner.py\", line 160, in _with_events\n",
      "    try: self(f'before_{event_type}');  f()\n",
      "  File \"/home/djliden91/.virtualenvs/numerai/lib/python3.9/site-packages/fastai/learner.py\", line 166, in all_batches\n",
      "    for o in enumerate(self.dl): self.one_batch(*o)\n",
      "  File \"/home/djliden91/.virtualenvs/numerai/lib/python3.9/site-packages/fastai/data/load.py\", line 109, in __iter__\n",
      "    for b in _loaders[self.fake_l.num_workers==0](self.fake_l):\n",
      "  File \"/home/djliden91/.virtualenvs/numerai/lib/python3.9/site-packages/torch/utils/data/dataloader.py\", line 518, in __next__\n",
      "    data = self._next_data()\n",
      "  File \"/home/djliden91/.virtualenvs/numerai/lib/python3.9/site-packages/torch/utils/data/dataloader.py\", line 558, in _next_data\n",
      "    data = self._dataset_fetcher.fetch(index)  # may raise StopIteration\n",
      "  File \"/home/djliden91/.virtualenvs/numerai/lib/python3.9/site-packages/torch/utils/data/_utils/fetch.py\", line 34, in fetch\n",
      "    data = next(self.dataset_iter)\n",
      "  File \"/home/djliden91/.virtualenvs/numerai/lib/python3.9/site-packages/fastai/data/load.py\", line 118, in create_batches\n",
      "    yield from map(self.do_batch, self.chunkify(res))\n",
      "  File \"/home/djliden91/.virtualenvs/numerai/lib/python3.9/site-packages/fastai/data/load.py\", line 144, in do_batch\n",
      "    def do_batch(self, b): return self.retain(self.create_batch(self.before_batch(b)), b)\n",
      "  File \"/home/djliden91/.virtualenvs/numerai/lib/python3.9/site-packages/fastai/tabular/core.py\", line 352, in create_batch\n",
      "    def create_batch(self, b): return self.dataset.iloc[b]\n",
      "  File \"/home/djliden91/.virtualenvs/numerai/lib/python3.9/site-packages/fastai/tabular/core.py\", line 139, in __getitem__\n",
      "    return self.to.new(df.iloc[rows, cols])\n",
      "  File \"/home/djliden91/.virtualenvs/numerai/lib/python3.9/site-packages/pandas/core/indexing.py\", line 889, in __getitem__\n",
      "    return self._getitem_tuple(key)\n",
      "  File \"/home/djliden91/.virtualenvs/numerai/lib/python3.9/site-packages/pandas/core/indexing.py\", line 1454, in _getitem_tuple\n",
      "    return self._getitem_tuple_same_dim(tup)\n",
      "  File \"/home/djliden91/.virtualenvs/numerai/lib/python3.9/site-packages/pandas/core/indexing.py\", line 775, in _getitem_tuple_same_dim\n",
      "    retval = getattr(retval, self.name)._getitem_axis(key, axis=i)\n",
      "  File \"/home/djliden91/.virtualenvs/numerai/lib/python3.9/site-packages/pandas/core/indexing.py\", line 1492, in _getitem_axis\n",
      "    return self._get_list_axis(key, axis=axis)\n",
      "  File \"/home/djliden91/.virtualenvs/numerai/lib/python3.9/site-packages/pandas/core/indexing.py\", line 1474, in _get_list_axis\n",
      "    return self.obj._take_with_is_copy(key, axis=axis)\n",
      "  File \"/home/djliden91/.virtualenvs/numerai/lib/python3.9/site-packages/pandas/core/generic.py\", line 3599, in _take_with_is_copy\n",
      "    result = self.take(indices=indices, axis=axis)\n",
      "  File \"/home/djliden91/.virtualenvs/numerai/lib/python3.9/site-packages/pandas/core/generic.py\", line 3585, in take\n",
      "    new_data = self._mgr.take(\n",
      "  File \"/home/djliden91/.virtualenvs/numerai/lib/python3.9/site-packages/pandas/core/internals/managers.py\", line 1474, in take\n",
      "    return self.reindex_indexer(\n",
      "  File \"/home/djliden91/.virtualenvs/numerai/lib/python3.9/site-packages/pandas/core/internals/managers.py\", line 1311, in reindex_indexer\n",
      "    new_blocks = [\n",
      "  File \"/home/djliden91/.virtualenvs/numerai/lib/python3.9/site-packages/pandas/core/internals/managers.py\", line 1312, in <listcomp>\n",
      "    blk.take_nd(\n",
      "  File \"/home/djliden91/.virtualenvs/numerai/lib/python3.9/site-packages/pandas/core/internals/blocks.py\", line 1863, in take_nd\n",
      "    new_values = self.values.take(indexer, fill_value=fill_value, allow_fill=True)\n",
      "  File \"/home/djliden91/.virtualenvs/numerai/lib/python3.9/site-packages/pandas/core/arrays/_mixins.py\", line 78, in take\n",
      "    return self._from_backing_data(new_data)\n",
      "  File \"/home/djliden91/.virtualenvs/numerai/lib/python3.9/site-packages/pandas/core/arrays/categorical.py\", line 1711, in _from_backing_data\n",
      "    return self._constructor(arr, dtype=self.dtype, fastpath=True)\n",
      "  File \"/home/djliden91/.virtualenvs/numerai/lib/python3.9/site-packages/pandas/core/arrays/categorical.py\", line 304, in __init__\n",
      "    dtype = CategoricalDtype._from_values_or_dtype(\n",
      "  File \"/home/djliden91/.virtualenvs/numerai/lib/python3.9/site-packages/pandas/core/dtypes/dtypes.py\", line 252, in _from_values_or_dtype\n",
      "    if isinstance(dtype, str):\n",
      "KeyboardInterrupt\n"
     ]
    }
   ],
   "source": [
    "!python ./src/exec_config.py \"fastai_tabular\" ./src/config/experiments/expt_2.yaml"
   ]
  },
  {
   "cell_type": "markdown",
   "metadata": {
    "id": "bVLqFYL7EpKs"
   },
   "source": [
    "## Outstanding Issues:\n",
    "- Progress bars not rendering correctly.\n",
    "\n",
    "## Notes\n",
    "- Colab Pro does not seem to have improved training times relative to Colab, but I gues that could depend on which GPU I'm assigned based on overall usage...\n",
    "- Relatively small number of units per layer seems to be working best -- 400, 400 was good.\n",
    "- Using batchnorm: no apparent improvement in training times.\n",
    "    - With: .021 corr .808 sharpe\n",
    "    - Without: (marginally faster): .016 correlation .652 sharpe (notably, running same config locally, ended up with much higher results .023 and > 1)\n",
    "    - With + with final: even slower. .023 corr and 1.051 sharpe\n",
    "- 256, 256 layers\n",
    "    - Same time roughly\n",
    "    - .023 corr .917 sharpe\n",
    "- back to 400, increase y_range max to 1.2\n",
    "    - .021, .941 -- so pretty much the same.\n",
    "- dropout 0.5; embed_dropout 0.5, 20 epochs: .021, .722\n",
    "- 6 epochs, dropout .1: .023, .822\n",
    "    - dropout 0.2: .020, .758\n",
    "    - dropout 0.3: .021, .784\n",
    "- Bigger network: 1500, 1500, no dropout: .021, .848\n",
    "    - with embed dropout only 0.5 BUT this doesn't make sense because our vars are treated as continuous so must just be randomness.\n",
    "    - with embed [0.5, 0] to capture the intended effect: .021, .707.\n",
    "\n",
    "\n",
    "## Ideas\n",
    "- Option to add a new config at end -- \"if you would like to add a new config, please enter a path\"\n"
   ]
  },
  {
   "cell_type": "code",
   "execution_count": 27,
   "metadata": {
    "colab": {
     "base_uri": "https://localhost:8080/"
    },
    "id": "Ey4soGw-GEcP",
    "outputId": "ebfde8a8-92fc-4e76-c760-3bba31829268"
   },
   "outputs": [
    {
     "name": "stdout",
     "output_type": "stream",
     "text": [
      "remote: Enumerating objects: 27, done.\u001b[K\n",
      "remote: Counting objects: 100% (27/27), done.\u001b[K\n",
      "remote: Compressing objects: 100% (11/11), done.\u001b[K\n",
      "remote: Total 19 (delta 11), reused 13 (delta 8), pack-reused 0\u001b[K\n",
      "Unpacking objects: 100% (19/19), done.\n",
      "From https://github.com/djliden/numerai\n",
      "   73676ba..b9dabd8  main       -> origin/main\n",
      "Updating 73676ba..b9dabd8\n",
      "Fast-forward\n",
      " run_from_colab.ipynb   | 107 \u001b[32m+++++++++++++++++++++++++++++++++++++++++++\u001b[m\u001b[31m------\u001b[m\n",
      " src/config/config.py   |   2 \u001b[32m+\u001b[m\n",
      " src/fastai_tabular.py  |  10 \u001b[32m+++\u001b[m\u001b[31m--\u001b[m\n",
      " src/utils/prep_data.py |   4 \u001b[32m+\u001b[m\u001b[31m-\u001b[m\n",
      " 4 files changed, 105 insertions(+), 18 deletions(-)\n"
     ]
    }
   ],
   "source": [
    "!git pull"
   ]
  },
  {
   "cell_type": "code",
   "execution_count": null,
   "metadata": {
    "id": "Y22Is4_7bDqC"
   },
   "outputs": [],
   "source": [
    "!zip -r /logs.zip /content/numerai/output/logs/*\n",
    "from google.colab import files\n",
    "files.download(\"/content/file.zip\")"
   ]
  }
 ],
 "metadata": {
  "accelerator": "GPU",
  "colab": {
   "include_colab_link": true,
   "machine_shape": "hm",
   "name": "run_from_colab.ipynb",
   "provenance": [],
   "toc_visible": true
  },
  "kernelspec": {
   "display_name": "numerai",
   "language": "python",
   "name": "numerai"
  },
  "language_info": {
   "codemirror_mode": {
    "name": "ipython",
    "version": 3
   },
   "file_extension": ".py",
   "mimetype": "text/x-python",
   "name": "python",
   "nbconvert_exporter": "python",
   "pygments_lexer": "ipython3",
   "version": "3.9.2"
  }
 },
 "nbformat": 4,
 "nbformat_minor": 4
}
