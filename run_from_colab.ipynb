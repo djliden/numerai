{
  "nbformat": 4,
  "nbformat_minor": 0,
  "metadata": {
    "orig_nbformat": 2,
    "colab": {
      "name": "run_from_colab.ipynb",
      "provenance": [],
      "include_colab_link": true
    },
    "kernelspec": {
      "name": "python3",
      "display_name": "Python 3"
    },
    "accelerator": "GPU"
  },
  "cells": [
    {
      "cell_type": "markdown",
      "metadata": {
        "id": "view-in-github",
        "colab_type": "text"
      },
      "source": [
        "<a href=\"https://colab.research.google.com/github/djliden/numerai/blob/main/run_from_colab.ipynb\" target=\"_parent\"><img src=\"https://colab.research.google.com/assets/colab-badge.svg\" alt=\"Open In Colab\"/></a>"
      ]
    },
    {
      "cell_type": "markdown",
      "metadata": {
        "id": "L5E04YfM1EpE"
      },
      "source": [
        "# Run from Colab\n",
        "\n",
        "NB Goal: Set up a system for cloning this package and running the model(s) on colab in a fairly hands-off way.\n",
        "\n",
        "To authenticate, either upload your `.env` file with the necessary API keys to the numerai folder which you will clone below, or you will be prompted to copy the keys."
      ]
    },
    {
      "cell_type": "code",
      "metadata": {
        "id": "PYIQMMmm1EpI",
        "colab": {
          "base_uri": "https://localhost:8080/"
        },
        "outputId": "bd6b8fa1-4695-42a0-b021-c40fceec4822"
      },
      "source": [
        "!git clone https://github.com/djliden/numerai.git\n",
        "%cd numerai"
      ],
      "execution_count": 1,
      "outputs": [
        {
          "output_type": "stream",
          "text": [
            "Cloning into 'numerai'...\n",
            "remote: Enumerating objects: 126, done.\u001b[K\n",
            "remote: Counting objects: 100% (126/126), done.\u001b[K\n",
            "remote: Compressing objects: 100% (92/92), done.\u001b[K\n",
            "remote: Total 126 (delta 62), reused 84 (delta 32), pack-reused 0\u001b[K\n",
            "Receiving objects: 100% (126/126), 130.58 KiB | 1.04 MiB/s, done.\n",
            "Resolving deltas: 100% (62/62), done.\n",
            "/content/numerai\n"
          ],
          "name": "stdout"
        }
      ]
    },
    {
      "cell_type": "code",
      "metadata": {
        "id": "S4mvfr4Z1Kx_"
      },
      "source": [
        "%%capture\n",
        "%%bash\n",
        "pip install --upgrade fastai numerapi python-dotenv ipywidgets jupyter ipython ipython-genutils"
      ],
      "execution_count": 2,
      "outputs": []
    },
    {
      "cell_type": "code",
      "metadata": {
        "id": "OlKPARdb2O7q",
        "colab": {
          "base_uri": "https://localhost:8080/"
        },
        "outputId": "83da8576-159c-435a-c55a-c36f07ace997"
      },
      "source": [
        "!python ./src/fastai_tabular.py"
      ],
      "execution_count": 3,
      "outputs": [
        {
          "output_type": "stream",
          "text": [
            "Loaded Numerai Public Key into Global Environment!\n",
            "Loaded Numerai Secret Key into Global Environment!\n",
            "input/numerai_dataset_252.zip: 392MB [00:08, 44.3MB/s]               \n",
            "2021-02-26 05:21:15,747 INFO numerapi.base_api: unzipping file...\n",
            "setting up fastai dataloaders\n",
            "Reading tournament data in chunks\n",
            "17it [01:05,  3.87s/it]\n",
            "tcmalloc: large alloc 1248501760 bytes == 0x55b71e48c000 @  0x7fdd182781e7 0x7fdd15e3846e 0x7fdd15e88c7b 0x7fdd15e8935f 0x7fdd15f2b103 0x55b67c1950e4 0x55b67c194de0 0x55b67c2096f5 0x55b67c19669a 0x55b67c204a45 0x55b67c203b0e 0x55b67c19677a 0x55b67c204a45 0x55b67c19669a 0x55b67c204a45 0x55b67c19669a 0x55b67c204a45 0x55b67c203b0e 0x55b67c19677a 0x55b67c20586a 0x55b67c203e0d 0x55b67c19677a 0x55b67c20586a 0x55b67c203e0d 0x55b67c19677a 0x55b67c20586a 0x55b67c203b0e 0x55b67c19702c 0x55b67c1d7d39 0x55b67c1d4c84 0x55b67c1958e9\n",
            "tcmalloc: large alloc 1591296000 bytes == 0x55b769eb4000 @  0x7fdd182781e7 0x7fdd15e3846e 0x7fdd15e88c7b 0x7fdd15e88d18 0x7fdd15f30010 0x7fdd15f3073c 0x7fdd15f3085d 0x55b67c1972f8 0x7fdd15e75ef7 0x55b67c194fd7 0x55b67c194de0 0x55b67c208ac2 0x55b67c203b0e 0x55b67c19677a 0x55b67c20586a 0x55b67c203e0d 0x55b67c19677a 0x55b67c20586a 0x55b67c203b0e 0x55b67c19677a 0x55b67c20586a 0x55b67c19669a 0x55b67c204c9e 0x55b67c203b0e 0x55b67c19677a 0x55b67c208e50 0x55b67c203b0e 0x55b67c19677a 0x55b67c20586a 0x55b67c203b0e 0x55b67c203813\n",
            "Loading the processed training data from file\n",
            "\n",
            "tcmalloc: large alloc 1591296000 bytes == 0x55b7c8c48000 @  0x7fdd182781e7 0x7fdd15e3846e 0x7fdd15e88c7b 0x7fdd15e8935f 0x7fdd15f2b103 0x55b67c1950e4 0x55b67c194de0 0x55b67c2096f5 0x55b67c19669a 0x55b67c204a45 0x55b67c203b0e 0x55b67c19677a 0x55b67c204a45 0x55b67c19669a 0x55b67c204a45 0x55b67c19669a 0x55b67c204a45 0x55b67c203b0e 0x55b67c19677a 0x55b67c20586a 0x55b67c203e0d 0x55b67c19677a 0x55b67c20586a 0x55b67c203e0d 0x55b67c19677a 0x55b67c20586a 0x55b67c203b0e 0x55b67c19702c 0x55b67c1d7d39 0x55b67c1d4c84 0x55b67c1958e9\n",
            "using a debugging sample of 1500 rows\n",
            "\n",
            "setting up the fastai model\n",
            "training the model\n",
            "[0, 0.2649860680103302, 0.0983237773180008, -0.07136830796787993, '00:00']\n",
            "[1, 0.14084097743034363, 0.06252437829971313, -0.013482637631067645, '00:00']\n",
            "Making Predictions on Validation Set\n",
            "Model training has completed.\n",
            "Validation correlation: 0.001.\n",
            "validation sharpe: 0.096\n",
            "Generating and Saving Predictions\n",
            "Generating Predictions...\n",
            "\n",
            "Saving Predictions...\n",
            "\n",
            "Predictions Saved!\n"
          ],
          "name": "stdout"
        }
      ]
    },
    {
      "cell_type": "markdown",
      "metadata": {
        "id": "bVLqFYL7EpKs"
      },
      "source": [
        "## Outstanding Issues:\n",
        "- Progress bars not rendering correctly."
      ]
    },
    {
      "cell_type": "code",
      "metadata": {
        "id": "Ey4soGw-GEcP"
      },
      "source": [
        "#!git pull"
      ],
      "execution_count": 15,
      "outputs": []
    },
    {
      "cell_type": "code",
      "metadata": {
        "id": "mjd6aZ9jGFP6"
      },
      "source": [
        ""
      ],
      "execution_count": 15,
      "outputs": []
    }
  ]
}