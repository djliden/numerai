{
 "cells": [
  {
   "cell_type": "markdown",
   "id": "spiritual-reconstruction",
   "metadata": {},
   "source": [
    "# Spearman Simulation"
   ]
  },
  {
   "cell_type": "code",
   "execution_count": 1,
   "id": "special-chester",
   "metadata": {},
   "outputs": [],
   "source": [
    "import numpy as np\n",
    "import pandas as pd\n",
    "from matplotlib import pyplot as plt\n",
    "from scipy.stats import spearmanr"
   ]
  },
  {
   "cell_type": "code",
   "execution_count": 2,
   "id": "useful-province",
   "metadata": {},
   "outputs": [
    {
     "data": {
      "text/plain": [
       "(0.0, 1.0, 0.5)"
      ]
     },
     "execution_count": 2,
     "metadata": {},
     "output_type": "execute_result"
    }
   ],
   "source": [
    "true_target = np.arange(0,5000) / 4999\n",
    "label = []\n",
    "\n",
    "dist = {0:250,\n",
    "       0.25:1000,\n",
    "       0.5:2500,\n",
    "       0.75:1000,\n",
    "       1:250}\n",
    "\n",
    "for lab, rep in dist.items():\n",
    "    label.extend([lab]*rep)\n",
    "label = np.array(label)\n",
    "label.min(), label.max(), label.mean()"
   ]
  },
  {
   "cell_type": "code",
   "execution_count": 3,
   "id": "desirable-journalism",
   "metadata": {},
   "outputs": [
    {
     "data": {
      "image/png": "[encoded data removed]",
      "text/plain": [
       "<Figure size 432x288 with 1 Axes>"
      ]
     },
     "metadata": {
      "needs_background": "light"
     },
     "output_type": "display_data"
    }
   ],
   "source": [
    "plt.hist(label, bins=5, rwidth=0.9)\n",
    "plt.xlabel('label')\n",
    "plt.ylabel('count')\n",
    "plt.title('distribution of labels')\n",
    "plt.grid(axis='y', alpha=0.5)"
   ]
  },
  {
   "cell_type": "markdown",
   "id": "enclosed-spanking",
   "metadata": {},
   "source": [
    "# Some Simple Test Cases\n",
    "## Case 1: Exactly correct predictions\n",
    "This is just to make sure the most obvious case works as anticipated."
   ]
  },
  {
   "cell_type": "code",
   "execution_count": 4,
   "id": "roman-honduras",
   "metadata": {},
   "outputs": [
    {
     "data": {
      "text/plain": [
       "SpearmanrResult(correlation=0.9999999999999999, pvalue=0.0)"
      ]
     },
     "execution_count": 4,
     "metadata": {},
     "output_type": "execute_result"
    }
   ],
   "source": [
    "preds = np.arange(0,5000) / 4999\n",
    "spearmanr(preds, true_target)"
   ]
  },
  {
   "cell_type": "markdown",
   "id": "formed-skating",
   "metadata": {},
   "source": [
    "## Case 2: Randomized\n",
    "Another mostly-obvious case. What degree of ordering could we expect by shuffling our predictions?"
   ]
  },
  {
   "cell_type": "code",
   "execution_count": 5,
   "id": "dimensional-scotland",
   "metadata": {},
   "outputs": [],
   "source": [
    "preds = np.arange(0,5000) / 4999\n",
    "shuffle_corr = []\n",
    "for i in range(5000):\n",
    "    np.random.shuffle(preds)\n",
    "    shuffle_corr.append(spearmanr(preds,true_target)[0])  \n",
    "    "
   ]
  },
  {
   "cell_type": "code",
   "execution_count": 6,
   "id": "continent-pricing",
   "metadata": {},
   "outputs": [
    {
     "data": {
      "image/png": "[encoded data removed]",
      "text/plain": [
       "<Figure size 432x288 with 1 Axes>"
      ]
     },
     "metadata": {
      "needs_background": "light"
     },
     "output_type": "display_data"
    }
   ],
   "source": [
    "shuffle_corr = np.array(shuffle_corr)\n",
    "plt.hist(shuffle_corr, bins=10, rwidth=0.9)\n",
    "plt.xlabel('correlation')\n",
    "plt.ylabel('count')\n",
    "plt.title('distribution of Spearman correlations after shuffling')\n",
    "plt.grid(axis='y', alpha=0.5)"
   ]
  },
  {
   "cell_type": "markdown",
   "id": "handed-establishment",
   "metadata": {},
   "source": [
    "Now we have the simplest of baselines. The spearman correlation of an ordered array with itself is 1; the average spearman correlation of an ordered array with that same array randomly shuffled is zero.\n",
    "\n",
    "## Case 3: identical results by label\n",
    "\n",
    "What happens if we try to get the correlation with only five values? Basically, if the labels (0, 0.25, ..., 1) are the predictions?"
   ]
  },
  {
   "cell_type": "code",
   "execution_count": 7,
   "id": "digital-workshop",
   "metadata": {},
   "outputs": [
    {
     "data": {
      "text/plain": [
       "SpearmanrResult(correlation=0.9266876681762855, pvalue=0.0)"
      ]
     },
     "execution_count": 7,
     "metadata": {},
     "output_type": "execute_result"
    }
   ],
   "source": [
    "preds = label\n",
    "spearmanr(preds, true_target)"
   ]
  },
  {
   "cell_type": "markdown",
   "id": "correct-oxide",
   "metadata": {},
   "source": [
    "Interesting -- still an extremely high correlation, but not exactly 1.\n",
    "\n",
    "Now the real question: what if the results *within each label* are shuffled? That is, if we correctly predict each label, but then within each label we randomly order the results? Let's construct a DataFrame to better visualize."
   ]
  },
  {
   "cell_type": "code",
   "execution_count": 8,
   "id": "second-fighter",
   "metadata": {},
   "outputs": [],
   "source": [
    "labelcat = pd.Categorical(label)\n",
    "df = pd.DataFrame({'Label':labelcat, 'true_target':true_target, 'pred':np.zeros_like(true_target)})"
   ]
  },
  {
   "cell_type": "code",
   "execution_count": 9,
   "id": "surgical-leather",
   "metadata": {},
   "outputs": [],
   "source": [
    "pred = []\n",
    "for label in df.Label.unique():\n",
    "    ordered = df.loc[df.Label==label, 'true_target']\n",
    "    shuffled = list(ordered)\n",
    "    np.random.shuffle(shuffled)\n",
    "    pred.extend(shuffled)"
   ]
  },
  {
   "cell_type": "markdown",
   "id": "specialized-watts",
   "metadata": {},
   "source": [
    "The below test show that `pred` is not ordered, BUT that the preds in each category are lower than the preds in each subsequent category. (not comprehensive)"
   ]
  },
  {
   "cell_type": "code",
   "execution_count": 10,
   "id": "electronic-carry",
   "metadata": {},
   "outputs": [
    {
     "data": {
      "text/plain": [
       "(False, True, 0.02490498099619924, 0.890621324264853)"
      ]
     },
     "execution_count": 10,
     "metadata": {},
     "output_type": "execute_result"
    }
   ],
   "source": [
    "all(pred[i] <= pred[i+1] for i in range(len(pred)-1)), np.all(pred[0:250] < pred[250:1250]), np.mean(pred[0:250]), np.mean(pred[4250:])"
   ]
  },
  {
   "cell_type": "markdown",
   "id": "laden-wound",
   "metadata": {},
   "source": [
    "Let's try this shuffling process a bunch of times and take the correlations."
   ]
  },
  {
   "cell_type": "code",
   "execution_count": 11,
   "id": "announced-partner",
   "metadata": {},
   "outputs": [],
   "source": [
    "df = pd.DataFrame({'Label':labelcat, 'true_target':true_target})\n",
    "corrs = []\n",
    "for i in range(5000):\n",
    "    pred=[]\n",
    "    for label in df.Label.unique():\n",
    "        ordered = df.loc[df.Label==label, 'true_target']\n",
    "        shuffled = list(ordered)\n",
    "        np.random.shuffle(shuffled)\n",
    "        #np.flip(shuffled)\n",
    "        pred.extend(shuffled)\n",
    "    corrs.append(spearmanr(pred,true_target)[0])"
   ]
  },
  {
   "cell_type": "code",
   "execution_count": 12,
   "id": "korean-blogger",
   "metadata": {},
   "outputs": [
    {
     "data": {
      "image/png": "[encoded data removed]",
      "text/plain": [
       "<Figure size 432x288 with 1 Axes>"
      ]
     },
     "metadata": {
      "needs_background": "light"
     },
     "output_type": "display_data"
    }
   ],
   "source": [
    "group_shuffle_corr = np.array(corrs)\n",
    "plt.hist(group_shuffle_corr, bins=10, rwidth=0.9)\n",
    "plt.xlabel('correlation')\n",
    "plt.ylabel('count')\n",
    "plt.title('distribution of Spearman correlations after shuffling\\nwithin groups')\n",
    "plt.grid(axis='y', alpha=0.5)"
   ]
  },
  {
   "cell_type": "code",
   "execution_count": 13,
   "id": "million-girlfriend",
   "metadata": {},
   "outputs": [
    {
     "data": {
      "text/plain": [
       "0.8587495014376023"
      ]
     },
     "execution_count": 13,
     "metadata": {},
     "output_type": "execute_result"
    }
   ],
   "source": [
    "np.mean(corrs)"
   ]
  }
 ],
 "metadata": {
  "kernelspec": {
   "display_name": "numerai",
   "language": "python",
   "name": "numerai"
  },
  "language_info": {
   "codemirror_mode": {
    "name": "ipython",
    "version": 3
   },
   "file_extension": ".py",
   "mimetype": "text/x-python",
   "name": "python",
   "nbconvert_exporter": "python",
   "pygments_lexer": "ipython3",
   "version": "3.9.2"
  }
 },
 "nbformat": 4,
 "nbformat_minor": 5
}
