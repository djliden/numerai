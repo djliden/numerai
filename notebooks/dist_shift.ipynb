{
 "cells": [
  {
   "cell_type": "markdown",
   "id": "published-reservoir",
   "metadata": {},
   "source": [
    "# Testing for Distribution Shift\n",
    "\n",
    "This short exploration was inspired by the discussion [here](http://www.d2l.ai/chapter_multilayer-perceptrons/environment.html#correction-of-distribution-shift), along with my own exploration of the gap between the training and live eras. Basically, we will separate the training set from the test/live data and label the former \"0\" and the latter \"1\" and see if we can tell them apart with logistic regression. If we can, then we have some evidence of distribution shift, and working to correct it could be valuable.\n",
    "\n",
    "This exploration could also show whether or not numerically-closer eras are more similar to each other than more distant eras."
   ]
  },
  {
   "cell_type": "code",
   "execution_count": 1,
   "id": "permanent-asbestos",
   "metadata": {},
   "outputs": [
    {
     "name": "stdout",
     "output_type": "stream",
     "text": [
      "/home/djliden91/git/projects/numerai\n"
     ]
    }
   ],
   "source": [
    "%cd /home/djliden91/git/projects/numerai/\n",
    "from src.utils import setup\n",
    "from pathlib import Path\n",
    "import pandas as pd\n",
    "from tqdm import tqdm"
   ]
  },
  {
   "cell_type": "code",
   "execution_count": 2,
   "id": "local-grove",
   "metadata": {},
   "outputs": [
    {
     "name": "stdout",
     "output_type": "stream",
     "text": [
      "Loaded Numerai Public Key into Global Environment!\n",
      "Loaded Numerai Secret Key into Global Environment!\n",
      "The dataset has already been downloaded.\n",
      "You can re-download it with refresh = True\n",
      "Loading the processed training data from file\n",
      "\n"
     ]
    }
   ],
   "source": [
    "setup.credential()\n",
    "napi = setup.init_numerapi()\n",
    "setup.download_current(napi=napi)\n",
    "\n",
    "# Define paths\n",
    "round = napi.get_current_round()\n",
    "#current_file = Path(data_dir/f\"numerai_dataset_{round}.zip\")\n",
    "train = Path(f\"./input/numerai_dataset_{round}/numerai_training_data.csv\")\n",
    "tourn = Path(f\"./input/numerai_dataset_{round}/numerai_tournament_data.csv\")\n",
    "processed = Path('./input/training_processed.csv')\n",
    "output = Path(\"./output/\")\n",
    "\n",
    "# process data\n",
    "training_data, feature_cols, target_cols = setup.process_current(processed, train, tourn)"
   ]
  },
  {
   "cell_type": "code",
   "execution_count": 3,
   "id": "alert-jamaica",
   "metadata": {},
   "outputs": [
    {
     "data": {
      "text/plain": [
       "0    0\n",
       "1    0\n",
       "2    0\n",
       "3    0\n",
       "4    0\n",
       "Name: target, dtype: int64"
      ]
     },
     "execution_count": 3,
     "metadata": {},
     "output_type": "execute_result"
    }
   ],
   "source": [
    "training_data['target'] = 0\n",
    "training_data['target'].head()"
   ]
  },
  {
   "cell_type": "code",
   "execution_count": 5,
   "id": "disciplinary-grade",
   "metadata": {},
   "outputs": [],
   "source": [
    "live = Path('./input/live.csv')\n",
    "if not live.exists():\n",
    "    tourn_iter_csv = pd.read_csv(tourn, iterator=True, chunksize=1e6)\n",
    "    live_df = pd.concat([chunk[chunk['data_type'] == 'live'] \\\n",
    "                        for chunk in tqdm(tourn_iter_csv)])\n",
    "    tourn_iter_csv.close()\n",
    "live_df = pd.read_csv(live)\n",
    "live_df.target = 1\n",
    "live_df.to_csv(live, index=False)"
   ]
  },
  {
   "cell_type": "code",
   "execution_count": 70,
   "id": "inappropriate-clearing",
   "metadata": {},
   "outputs": [],
   "source": [
    "train_sub = training_data[training_data.era=='era211']"
   ]
  },
  {
   "cell_type": "code",
   "execution_count": 71,
   "id": "gothic-kazakhstan",
   "metadata": {},
   "outputs": [],
   "source": [
    "data = pd.concat((train_sub, live_df))\n",
    "data.reset_index(drop=True, inplace=True)\n",
    "X,y = data[feature_cols], data['target']"
   ]
  },
  {
   "cell_type": "code",
   "execution_count": 72,
   "id": "intended-alpha",
   "metadata": {},
   "outputs": [],
   "source": [
    "from sklearn.model_selection import StratifiedShuffleSplit\n",
    "strat = StratifiedShuffleSplit(n_splits=1, test_size=0.25, random_state=11235)\n",
    "\n",
    "for train_idx, test_idx in strat.split(X, y):\n",
    "    X_train, X_test = X.iloc[train_idx], X.iloc[test_idx]\n",
    "    y_train, y_test = y.iloc[train_idx], y.iloc[test_idx]"
   ]
  },
  {
   "cell_type": "code",
   "execution_count": 73,
   "id": "differential-guitar",
   "metadata": {},
   "outputs": [
    {
     "data": {
      "text/plain": [
       "LogisticRegression(max_iter=1000, n_jobs=-1)"
      ]
     },
     "execution_count": 73,
     "metadata": {},
     "output_type": "execute_result"
    }
   ],
   "source": [
    "from sklearn.linear_model import LogisticRegression\n",
    "mod = LogisticRegression(n_jobs=-1, max_iter=1000)\n",
    "mod.fit(X_train, y_train)"
   ]
  },
  {
   "cell_type": "code",
   "execution_count": 74,
   "id": "invisible-meeting",
   "metadata": {},
   "outputs": [
    {
     "data": {
      "text/plain": [
       "0.3976674191121144"
      ]
     },
     "execution_count": 74,
     "metadata": {},
     "output_type": "execute_result"
    }
   ],
   "source": [
    "mod.score(X_test, y_test)"
   ]
  },
  {
   "cell_type": "code",
   "execution_count": 69,
   "id": "interested-housing",
   "metadata": {},
   "outputs": [
    {
     "data": {
      "text/plain": [
       "0.5112951807228916"
      ]
     },
     "execution_count": 69,
     "metadata": {},
     "output_type": "execute_result"
    }
   ],
   "source": [
    "sum(y_test==1)/len(y_test)"
   ]
  },
  {
   "cell_type": "code",
   "execution_count": 77,
   "id": "about-circus",
   "metadata": {},
   "outputs": [
    {
     "data": {
      "text/plain": [
       "0.5492975413948821"
      ]
     },
     "execution_count": 77,
     "metadata": {},
     "output_type": "execute_result"
    }
   ],
   "source": [
    "mod.score(X_train, y_train)"
   ]
  },
  {
   "cell_type": "code",
   "execution_count": null,
   "id": "binding-barrel",
   "metadata": {},
   "outputs": [],
   "source": []
  }
 ],
 "metadata": {
  "kernelspec": {
   "display_name": "numerai",
   "language": "python",
   "name": "numerai"
  },
  "language_info": {
   "codemirror_mode": {
    "name": "ipython",
    "version": 3
   },
   "file_extension": ".py",
   "mimetype": "text/x-python",
   "name": "python",
   "nbconvert_exporter": "python",
   "pygments_lexer": "ipython3",
   "version": "3.9.2"
  }
 },
 "nbformat": 4,
 "nbformat_minor": 5
}
