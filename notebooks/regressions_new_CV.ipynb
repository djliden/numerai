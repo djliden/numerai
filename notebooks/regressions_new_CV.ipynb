{
  "nbformat": 4,
  "nbformat_minor": 0,
  "metadata": {
    "colab": {
      "name": "Numerai Starter Kit",
      "provenance": [],
      "toc_visible": true,
      "machine_shape": "hm",
      "authorship_tag": "ABX9TyPiEPNjUSxfHbzO8RX3FImF",
      "include_colab_link": true
    },
    "kernelspec": {
      "display_name": "Python 3",
      "language": "python",
      "name": "python3"
    },
    "language_info": {
      "codemirror_mode": {
        "name": "ipython",
        "version": 3
      },
      "file_extension": ".py",
      "mimetype": "text/x-python",
      "name": "python",
      "nbconvert_exporter": "python",
      "pygments_lexer": "ipython3",
      "version": "3.9.2"
    }
  },
  "cells": [
    {
      "cell_type": "markdown",
      "metadata": {
        "id": "view-in-github",
        "colab_type": "text"
      },
      "source": [
        "<a href=\"https://colab.research.google.com/github/djliden/numerai/blob/main/notebooks/regressions_new_CV.ipynb\" target=\"_parent\"><img src=\"https://colab.research.google.com/assets/colab-badge.svg\" alt=\"Open In Colab\"/></a>"
      ]
    },
    {
      "cell_type": "markdown",
      "metadata": {
        "id": "bGlc6WXctP3Y"
      },
      "source": [
        "# 1 Introduction\n",
        "This notebook will walk you through the entire process of making a [numerai](numer.ai) submission, from downloading the data to submitting final predictions, all in a google colab notebook. In particular, it will address two challenges:\n",
        "- handling API keys in a remote environment (colab)\n",
        "- parsing the large CSV files which, if read all at once, will exceed colab's memory and cause the notebook to crash.\n",
        "\n",
        "This notebook will implement two models: a basic tabular neural network using `fastai` and a linear regression model using `scikit-learn`."
      ]
    },
    {
      "cell_type": "markdown",
      "metadata": {
        "id": "ma62H4nY5DOt"
      },
      "source": [
        "## 1.1 Installing and Importing Dependencies\n",
        "First, we install and import the necessary packages. This cell is currently set *not* to print any output; if you run into any issues and need to check for error messages, comment out the `%%capture` line"
      ]
    },
    {
      "cell_type": "code",
      "metadata": {
        "id": "6fitBsr_ty8_"
      },
      "source": [
        "%%capture\n",
        "# install\n",
        "!pip install --upgrade python-dotenv numerapi\n",
        "\n",
        "# import dependencies\n",
        "import gc\n",
        "import os\n",
        "from dotenv import load_dotenv, find_dotenv\n",
        "from getpass import getpass\n",
        "import pandas as pd\n",
        "import numpy as np\n",
        "import numerapi\n",
        "from pathlib import Path\n",
        "from scipy.stats import spearmanr\n",
        "import sklearn.linear_model\n",
        "from tqdm import tqdm"
      ],
      "execution_count": 1,
      "outputs": []
    },
    {
      "cell_type": "markdown",
      "metadata": {
        "id": "T8k1mucsueRZ"
      },
      "source": [
        "## 1.2 Setting Up numerapi\n",
        "We will use the [numerapi](https://github.com/uuazed/numerapi) package to access the data and make submissions. For this to work, numerapi needs to use your API keys (which can be obtained [here](https://numer.ai/submit)). We will set up two main ways of passing these API keys to a numerapi instance:\n",
        "1. Read a `.env` file using the `python-dotenv` package. This will require you to upload a `.env` file (which contains your secret key and should *not* be kept under version control). Using this method means you will not have to directly enter your keys each time you use this notebook, though you will need to re-upload the `.env` file.\n",
        "2. Manually entering the API keys -- if you don't have access to, or don't want to mess with, your `.env` file.\n",
        "\n",
        "If you have a `.env` file, upload it to the default working directory, `content`, now. In either case, run the cell below to set up the numerapi instance. See [Appendix A](#app_a) for instructions on generating and downloading a .env file."
      ]
    },
    {
      "cell_type": "code",
      "metadata": {
        "colab": {
          "base_uri": "https://localhost:8080/"
        },
        "id": "1Z1CS2Uwv79C",
        "outputId": "2e68a0ba-df67-4e9a-f0fd-88d5c600a7e1"
      },
      "source": [
        "# Load the numerapi credentials from .env or prompt for them if not available\n",
        "def credential():\n",
        "    dotenv_path = find_dotenv()\n",
        "    load_dotenv(dotenv_path)\n",
        "\n",
        "    if os.getenv(\"NUMERAI_PUBLIC_KEY\"):\n",
        "        print(\"Loaded Numerai Public Key into Global Environment!\")\n",
        "    else:\n",
        "        os.environ[\"NUMERAI_PUBLIC_KEY\"] = getpass(\"Please enter your Numerai Public Key. You can find your key here: https://numer.ai/submit -> \")\n",
        "    \n",
        "    if os.getenv(\"NUMERAI_SECRET_KEY\"):\n",
        "        print(\"Loaded Numerai Secret Key into Global Environment!\")\n",
        "    else:\n",
        "        os.environ[\"NUMERAI_SECRET_KEY\"] = getpass(\"Please enter your Numerai Secret Key. You can find your key here: https://numer.ai/submit -> \")\n",
        "    \n",
        "    if os.getenv(\"NUMERAI_MODEL_ID_REGRESSIONS\"):\n",
        "        print(\"Loaded Numerai Model ID into Global Environment!\")\n",
        "    else:\n",
        "        os.environ[\"NUMERAI_MODEL_ID_REGRESSIONS\"] = getpass(\"Please enter your Numerai Model ID. You can find your key here: https://numer.ai/submit -> \")\n",
        "\n",
        "credential()\n",
        "public_key = os.environ.get(\"NUMERAI_PUBLIC_KEY\")\n",
        "secret_key = os.environ.get(\"NUMERAI_SECRET_KEY\")\n",
        "model_id = os.environ.get(\"NUMERAI_MODEL_ID_REGRESSIONS\")\n",
        "napi = numerapi.NumerAPI(verbosity=\"info\", public_id=public_key, secret_key=secret_key)"
      ],
      "execution_count": 2,
      "outputs": [
        {
          "output_type": "stream",
          "text": [
            "Loaded Numerai Public Key into Global Environment!\n",
            "Loaded Numerai Secret Key into Global Environment!\n",
            "Loaded Numerai Model ID into Global Environment!\n"
          ],
          "name": "stdout"
        }
      ]
    },
    {
      "cell_type": "markdown",
      "metadata": {
        "id": "w1LhPvUS7RLk"
      },
      "source": [
        "You can read up on the functionality of numerapi [here](https://github.com/uuazed/numerapi). You can use it to download the competition data, view other numerai users' public profiles, check submission status, manage your stake, and much more. In this case, we'll only be using it to download competition data and submit predictions.\n",
        "\n",
        "## 1.3 Downloading Competition Data\n",
        "In a more structured project, you'll probably want to keep the data in a seprate directory from your scripts etc. You could also link google colab to your google drive and store the data there in order to avoid needing to download and process the data every time. In this case, however, we'll keep everything in `./content`, and download the data fresh each time."
      ]
    },
    {
      "cell_type": "code",
      "metadata": {
        "colab": {
          "base_uri": "https://localhost:8080/",
          "height": 54
        },
        "id": "VcCNcVMv7y1B",
        "outputId": "84078e58-0105-48fc-99e0-d66d9d2e56e9"
      },
      "source": [
        "napi.download_current_dataset()"
      ],
      "execution_count": 3,
      "outputs": [
        {
          "output_type": "stream",
          "text": [
            "./numerai_dataset_257.zip:  99%|█████████▉| 395M/397M [00:24<00:00, 17.5MB/s]2021-03-28 14:10:46,560 INFO numerapi.base_api: unzipping file...\n",
            "./numerai_dataset_257.zip: 397MB [00:39, 17.5MB/s]                           "
          ],
          "name": "stderr"
        },
        {
          "output_type": "execute_result",
          "data": {
            "application/vnd.google.colaboratory.intrinsic+json": {
              "type": "string"
            },
            "text/plain": [
              "'./numerai_dataset_257.zip'"
            ]
          },
          "metadata": {
            "tags": []
          },
          "execution_count": 3
        }
      ]
    },
    {
      "cell_type": "markdown",
      "metadata": {
        "id": "hm7lo6fe8Qsy"
      },
      "source": [
        "## 1.4 Generating the Training Sample\n",
        "\n",
        "If you look at the files we downloaded above, you'll see a `numerai_tournament_data.csv` file and a `numerai_training_data.csv` file. The \"tournament\" file contains many rows with targets which we can use for validation, so let's extract those and combine them with our training set. Note that this cell saves a new `csv` after combining the training and validation data, so we can avoid the time-consuming parsing process if we run this cell again in the same session."
      ]
    },
    {
      "cell_type": "code",
      "metadata": {
        "colab": {
          "base_uri": "https://localhost:8080/"
        },
        "id": "vd06RGi4840k",
        "outputId": "4ddae210-121d-4a19-acc4-15907722846e"
      },
      "source": [
        "tourn_file = Path(f'./numerai_dataset_{napi.get_current_round()}/numerai_tournament_data.csv')\n",
        "train_file = Path(f'./numerai_dataset_{napi.get_current_round()}/numerai_training_data.csv')\n",
        "processed_train_file = Path('./training_processed.csv')\n",
        "\n",
        "if processed_train_file.exists():\n",
        "    print(\"Loading the processed training data from file\\n\")\n",
        "    training_data = pd.read_csv(processed_train_file)\n",
        "else:\n",
        "    tourn_iter_csv = pd.read_csv(tourn_file, iterator=True, chunksize=1e6)\n",
        "    val_df = pd.concat([chunk[chunk['data_type'] == 'validation'] for chunk in tqdm(tourn_iter_csv)])\n",
        "    tourn_iter_csv.close()\n",
        "    training_data = pd.read_csv(train_file)\n",
        "    training_data = pd.concat([training_data, val_df])\n",
        "    training_data.reset_index(drop=True, inplace=True)\n",
        "    print(\"Training Dataset Generated! Saving to file ...\")\n",
        "    training_data.to_csv(processed_train_file, index=False)\n",
        "\n",
        "\n",
        "feature_cols = training_data.columns[training_data.columns.str.startswith('feature')]\n",
        "target_cols = ['target']\n",
        "\n",
        "train_idx = training_data.index[training_data.data_type=='train'].tolist()\n",
        "val_idx = training_data.index[training_data.data_type=='validation'].tolist()"
      ],
      "execution_count": 4,
      "outputs": [
        {
          "output_type": "stream",
          "text": [
            "\n",
            "0it [00:00, ?it/s]\u001b[A\n",
            "1it [00:34, 34.19s/it]\u001b[A\n",
            "2it [00:56, 28.02s/it]\n"
          ],
          "name": "stderr"
        },
        {
          "output_type": "stream",
          "text": [
            "Training Dataset Generated! Saving to file ...\n"
          ],
          "name": "stdout"
        }
      ]
    },
    {
      "cell_type": "markdown",
      "metadata": {
        "id": "8BSr1BMR5Ilh"
      },
      "source": [
        "# 2 Modeling the Data\n",
        "\n",
        "In this section, we will define our evaluation metrics; run two different models (a linear regression model from `scikit-learn` and a neural network from `fastai`); and generate submission dataframes from those files."
      ]
    },
    {
      "cell_type": "markdown",
      "metadata": {
        "id": "WeYfQcry6svF"
      },
      "source": [
        "## 2.1 Evaluation Metrics\n",
        "\n",
        "In this section, we will define two key evaluation metrics used to assess the performance of models before submitting to the tournament. These metrics are:\n",
        "- Average Spearman Correlation per era: The sum of each era's Spearman correlation divided by the number of eras.\n",
        "- Sharpe Ratio: The average correlation per era divided by the standard deviation of the correlations per era.\n",
        "\n",
        "Both are defined in reasonable detail [here](https://wandb.ai/carlolepelaars/numerai_tutorial/reports/How-to-get-Started-With-Numerai--VmlldzoxODU0NTQ). The methods defined below are modified versions of the methods described in that post."
      ]
    },
    {
      "cell_type": "code",
      "metadata": {
        "id": "DtFniCX98z6i"
      },
      "source": [
        "def corr(df: pd.DataFrame) -> np.float32:\n",
        "    \"\"\"\n",
        "    Calculate the correlation by using grouped per-era data\n",
        "    :param df: A Pandas DataFrame containing the columns \"era\", \"target\" and \"prediction\"\n",
        "    :return: The average per-era correlations.\n",
        "    \"\"\"\n",
        "    def _score(sub_df: pd.DataFrame) -> np.float32:\n",
        "        \"\"\" Calculate Spearman correlation for Pandas' apply method \"\"\"\n",
        "        return spearmanr(sub_df[\"target\"],  sub_df[\"prediction\"])[0]\n",
        "    corrs = df.groupby(\"era\").apply(_score)\n",
        "    return corrs.mean() \n",
        "\n",
        "def sharpe(df: pd.DataFrame) -> np.float32:\n",
        "    \"\"\"\n",
        "    Calculate the Sharpe ratio by using grouped per-era data\n",
        "    :param df: A Pandas DataFrame containing the columns \"era\", \"target\" and \"prediction\"\n",
        "    :return: The Sharpe ratio for your predictions.\n",
        "    \"\"\"\n",
        "    def _score(sub_df: pd.DataFrame) -> np.float32:\n",
        "        \"\"\" Calculate Spearman correlation for Pandas' apply method \"\"\"\n",
        "        return spearmanr(sub_df[\"target\"],  sub_df[\"prediction\"])[0]\n",
        "    corrs = df.groupby(\"era\").apply(_score)\n",
        "    return corrs.mean() / corrs.std()"
      ],
      "execution_count": 5,
      "outputs": []
    },
    {
      "cell_type": "markdown",
      "metadata": {
        "id": "I4azmVvR6ZhT"
      },
      "source": [
        "## 2.2 Cross Validation Setup"
      ]
    },
    {
      "cell_type": "markdown",
      "metadata": {
        "id": "d-9-4GmFvjMY"
      },
      "source": [
        "### 2.2.1 Custom Cross Validation Setup\n",
        "\n",
        "The goal of this section is to set up a \"group time series\" approach where we specify a certain set of \"eras\" for training with the last era for validation. We will be training on segments of the validation set.\n",
        "\n",
        "There are a few ways to do this; I want to write a class that can take the \"eras to test on\" as input and return CV folds as outout. Perhaps a future refinement would include an argument for number of eras validate on. Perhaps unnecessary given that the \"real\" task is testing on a single era. Or four eras?\n",
        "\n",
        "#### Usage\n",
        "\n",
        "1. Initialize the class with the eras column: `cv = EraCV(training_data.era)`\n",
        "2. Get splits: `X, y = test.get_splits(valid_start = 80, valid_n_eras = 4, train_n_eras = None)`\n",
        "\n",
        "The `valid_start` argument identifies the first training era; it takes an integer value. `valid_n_eras` is the number of eras to include in the validation set. `train_n_eras` is the number of eras to include in the training set. `train_n_eras` before `valid_start` are included in the training set. If no argument is passed to `train_n_eras`, all eras from 0 to `valid_start` are included.\n",
        "\n",
        "A single instance of this class can be used in a loop to generate multiple train/test splits. Assuming you want to keep the number of train and test eras constant, you can just iterate over a list of validation starting eras.\n",
        "\n",
        "Features such as checking if a given validation era actually exists have not yet been implemented."
      ]
    },
    {
      "cell_type": "code",
      "metadata": {
        "id": "8hy_qJIWyA4i"
      },
      "source": [
        "class EraCV:\n",
        "    \"\"\"Select validation eras and train on previous eras\n",
        "    provides train/test indices to split data in train/test splits. In\n",
        "    each split, one or more eras are used as a validation set while the\n",
        "    specified number of immediately preceding eras are used as a\n",
        "    training set.\n",
        "    \"\"\"\n",
        "\n",
        "    def __init__(self, eras):\n",
        "        self.eras = eras\n",
        "        self.unique_eras = self._era_to_int(self.eras.unique())\n",
        "        self.eras_int = self._era_to_int(self.eras)\n",
        "    \n",
        "    def _era_to_int(self, eras):\n",
        "        return [int(era[3:]) for era in eras]\n",
        "\n",
        "    def get_valid_indices(self, valid_start, valid_n_eras):\n",
        "        self.valid_eras = self.unique_eras[self.unique_eras.index(valid_start):\\\n",
        "                                      self.unique_eras.index(valid_start)+\\\n",
        "                                      valid_n_eras]\n",
        "        valid_bool = [era in self.valid_eras for era in self.eras_int] \n",
        "        self.valid_indices = np.where(valid_bool)\n",
        "\n",
        "    def get_train_indices(self, valid_start:int, train_start:int = 0,\n",
        "                          train_stop:int = None):\n",
        "        train_stop = valid_start if (train_stop is None) else train_stop\n",
        "        self.train_eras = [era for era in self.unique_eras if era <\\\n",
        "                           valid_start][train_start:train_stop]\n",
        "        train_bool = [era in self.train_eras for era in self.eras_int]\n",
        "        self.train_indices = np.where(train_bool)\n",
        "\n",
        "    def get_splits(self, valid_start:int, valid_n_eras:int, train_start:int,\n",
        "                   train_stop:int=None):\n",
        "        self.get_valid_indices(valid_start, valid_n_eras)\n",
        "        self.get_train_indices(valid_start, train_start, train_stop)\n",
        "        return self.train_indices[0], self.valid_indices[0]\n",
        "\n",
        "    def __repr__(self):\n",
        "       return (f'{self.__class__.__name__}('\n",
        "               f'last era:{max(self.eras_int)})')"
      ],
      "execution_count": 16,
      "outputs": []
    },
    {
      "cell_type": "code",
      "metadata": {
        "id": "IIxhf77EOrK5",
        "outputId": "488c90bf-b27e-4c7d-c7ae-b97083d943c7",
        "colab": {
          "base_uri": "https://localhost:8080/"
        }
      },
      "source": [
        "training_data.era.unique()"
      ],
      "execution_count": 14,
      "outputs": [
        {
          "output_type": "execute_result",
          "data": {
            "text/plain": [
              "array(['era1', 'era2', 'era3', 'era4', 'era5', 'era6', 'era7', 'era8',\n",
              "       'era9', 'era10', 'era11', 'era12', 'era13', 'era14', 'era15',\n",
              "       'era16', 'era17', 'era18', 'era19', 'era20', 'era21', 'era22',\n",
              "       'era23', 'era24', 'era25', 'era26', 'era27', 'era28', 'era29',\n",
              "       'era30', 'era31', 'era32', 'era33', 'era34', 'era35', 'era36',\n",
              "       'era37', 'era38', 'era39', 'era40', 'era41', 'era42', 'era43',\n",
              "       'era44', 'era45', 'era46', 'era47', 'era48', 'era49', 'era50',\n",
              "       'era51', 'era52', 'era53', 'era54', 'era55', 'era56', 'era57',\n",
              "       'era58', 'era59', 'era60', 'era61', 'era62', 'era63', 'era64',\n",
              "       'era65', 'era66', 'era67', 'era68', 'era69', 'era70', 'era71',\n",
              "       'era72', 'era73', 'era74', 'era75', 'era76', 'era77', 'era78',\n",
              "       'era79', 'era80', 'era81', 'era82', 'era83', 'era84', 'era85',\n",
              "       'era86', 'era87', 'era88', 'era89', 'era90', 'era91', 'era92',\n",
              "       'era93', 'era94', 'era95', 'era96', 'era97', 'era98', 'era99',\n",
              "       'era100', 'era101', 'era102', 'era103', 'era104', 'era105',\n",
              "       'era106', 'era107', 'era108', 'era109', 'era110', 'era111',\n",
              "       'era112', 'era113', 'era114', 'era115', 'era116', 'era117',\n",
              "       'era118', 'era119', 'era120', 'era121', 'era122', 'era123',\n",
              "       'era124', 'era125', 'era126', 'era127', 'era128', 'era129',\n",
              "       'era130', 'era131', 'era132', 'era197', 'era198', 'era199',\n",
              "       'era200', 'era201', 'era202', 'era203', 'era204', 'era205',\n",
              "       'era206', 'era207', 'era208', 'era209', 'era210', 'era211',\n",
              "       'era212'], dtype=object)"
            ]
          },
          "metadata": {
            "tags": []
          },
          "execution_count": 14
        }
      ]
    },
    {
      "cell_type": "markdown",
      "metadata": {
        "id": "Q3qwFNYGF5TB"
      },
      "source": [
        "## 2.3 Linear Regression Model\n",
        "This model closely follows the tutorial example [here](https://colab.research.google.com/github/numerai/example-scripts/blob/master/making-your-first-submission-on-numerai.ipynb). We will use the `scikit-learn` package, with which we can implement and fit our regression model in just a couple of lines of code."
      ]
    },
    {
      "cell_type": "markdown",
      "metadata": {
        "id": "i-el1HtBefnb"
      },
      "source": [
        "#### Fitting the Linear Regression Model"
      ]
    },
    {
      "cell_type": "code",
      "metadata": {
        "id": "qKG75I7-yKvA"
      },
      "source": [
        "%%time\n",
        "corrs = []\n",
        "sharpes = []\n",
        "era_split = EraCV(eras = training_data.era)\n",
        "X, y, era = training_data[feature_cols], training_data.target, training_data.era\n",
        "for valid_era in tqdm(range(200,209)):\n",
        "    train, test = era_split.get_splits(valid_start = valid_era,\n",
        "                           valid_n_eras = 4,\n",
        "                           train_n_eras = 50\n",
        "                           )\n",
        "    model = sklearn.linear_model.LinearRegression(n_jobs = -1)\n",
        "    model.fit(X.iloc[train], y.iloc[train])\n",
        "    val_preds = model.predict(X.iloc[test])\n",
        "    eval_df = pd.DataFrame({'prediction':val_preds,\n",
        "                        'target':y.iloc[test],\n",
        "                        'era':era.iloc[test]}).reset_index()\n",
        "    corrs.append(corr(eval_df))\n",
        "    sharpes.append(sharpe(eval_df))\n",
        "\n",
        "print(corrs)\n",
        "print(sharpes)"
      ],
      "execution_count": null,
      "outputs": []
    },
    {
      "cell_type": "code",
      "metadata": {
        "id": "0fL4MLgxKYHB"
      },
      "source": [
        "models = [\n",
        "          # sklearn.linear_model.LinearRegression(n_jobs = -1),\n",
        "          # sklearn.linear_model.Lasso(alpha=0.00006), # good! Takes pretty long time.\n",
        "          # sklearn.linear_model.Lasso(alpha=0.00001), # Takes a long time, worse than .00005\n",
        "          # sklearn.linear_model.Lasso(alpha=0.000005), # Takes a really long time, worse than .00001\n",
        "          # sklearn.linear_model.Lasso(alpha=0.01), # fails\n",
        "          # sklearn.linear_model.Ridge(alpha=0.0001),\n",
        "          sklearn.linear_model.Ridge(alpha=0.001),\n",
        "          sklearn.linear_model.Lasso(alpha=0.0006)\n",
        "          #sklearn.linear_model.Ridge(alpha = 0.1),\n",
        "          #sklearn.linear_model.ElasticNet(alpha=.0001, l1_ratio=0.5),  # Good! .0145 mean\n",
        "          # sklearn.linear_model.ElasticNet(alpha=.0001, l1_ratio=0.4),\n",
        "          #sklearn.linear_model.ElasticNet(alpha=.001, l1_ratio=0.5),  # .0162\n",
        "          #sklearn.linear_model.ElasticNet(alpha=.001, l1_ratio=0.4),  # .0167\n",
        "          #sklearn.linear_model.ElasticNet(alpha=.001, l1_ratio=0.6)  # .0146\n",
        "          #*sklearn.linear_model.ElasticNet(alpha=.001, l1_ratio=0.3), #.0167\n",
        "          #*sklearn.linear_model.ElasticNet(alpha=.001, l1_ratio=0.4), #  .015\n",
        "          #*sklearn.linear_model.ElasticNet(alpha=.001, l1_ratio=0.5) # .015\n",
        "          # sklearn.linear_model.ElasticNet(alpha=.0002, l1_ratio=0.5),\n",
        "          # sklearn.linear_model.ElasticNet(alpha=.0001, l1_ratio=0.4),\n",
        "          #sklearn.linear_model.ElasticNet(alpha=.0001, l1_ratio=0.6), # Good! Best?\n",
        "          #sklearn.linear_model.ElasticNet(alpha=.0001, l1_ratio=0.7) # Good! Best?\n",
        "\n",
        "          # sklearn.linear_model.ElasticNet(alpha=.00005, l1_ratio=0.5),\n",
        "          # sklearn.linear_model.ElasticNet(alpha=.0005, l1_ratio=0.5),\n",
        "          # sklearn.linear_model.ElasticNet(alpha=.00001, l1_ratio=0.25) # Takes very long time\n",
        "          # sklearn.linear_model.ElasticNet(alpha=.01, l1_ratio=0.5), # fails\n",
        "          # sklearn.linear_model.ElasticNet(alpha=.001, l1_ratio=0.25),\n",
        "          # sklearn.linear_model.ElasticNet(alpha=.001, l1_ratio=0.75) # bad result\n",
        "          ]"
      ],
      "execution_count": 15,
      "outputs": []
    },
    {
      "cell_type": "code",
      "metadata": {
        "colab": {
          "base_uri": "https://localhost:8080/"
        },
        "id": "1RuK4TFtKX3l",
        "outputId": "b4236015-3b7c-47f1-a17d-72946c22b360"
      },
      "source": [
        "era_split = EraCV(eras = training_data.era)\n",
        "X, y, era = training_data[feature_cols], training_data.target, training_data.era\n",
        "for model in models:\n",
        "    corrs = []\n",
        "    sharpes = []\n",
        "    for valid_era in tqdm(range(200,209)):\n",
        "        train, test = era_split.get_splits(valid_start = valid_era,\n",
        "                                           valid_n_eras = 4,\n",
        "                                           train_start = 0,\n",
        "                                           train_stop = valid_era - 90)\n",
        "        model.fit(X.iloc[train], y.iloc[train])\n",
        "        val_preds = model.predict(X.iloc[test])\n",
        "        eval_df = pd.DataFrame({'prediction':val_preds,\n",
        "                            'target':y.iloc[test],\n",
        "                            'era':era.iloc[test]}).reset_index()\n",
        "        corrs.append(corr(eval_df))\n",
        "        sharpes.append(sharpe(eval_df))\n",
        "    print(f'\\nmodel: {model.__class__.__name__}')\n",
        "    if model.__class__.__name__!=\"LinearRegression\":\n",
        "        print(f'alpha: {model.alpha}')\n",
        "    if model.__class__.__name__==\"ElasticNet\":\n",
        "        print(f'L1 Ratio: {model.l1_ratio}')\n",
        "    print(f'validation correlations: {corrs}, mean: {np.array(corrs).mean()}')\n",
        "    print(f'validation sharpes: {sharpes}, mean: {np.array(sharpes).mean()}')"
      ],
      "execution_count": 21,
      "outputs": [
        {
          "output_type": "stream",
          "text": [
            "\n",
            "\n",
            "  0%|          | 0/9 [00:00<?, ?it/s]\u001b[A\u001b[A\n",
            "\n",
            " 11%|█         | 1/9 [00:02<00:22,  2.81s/it]\u001b[A\u001b[A\n",
            "\n",
            " 22%|██▏       | 2/9 [00:05<00:19,  2.82s/it]\u001b[A\u001b[A\n",
            "\n",
            " 33%|███▎      | 3/9 [00:08<00:17,  2.84s/it]\u001b[A\u001b[A\n",
            "\n",
            " 44%|████▍     | 4/9 [00:11<00:14,  2.84s/it]\u001b[A\u001b[A\n",
            "\n",
            " 56%|█████▌    | 5/9 [00:14<00:11,  2.84s/it]\u001b[A\u001b[A\n",
            "\n",
            " 67%|██████▋   | 6/9 [00:17<00:08,  2.86s/it]\u001b[A\u001b[A\n",
            "\n",
            " 78%|███████▊  | 7/9 [00:20<00:05,  2.88s/it]\u001b[A\u001b[A\n",
            "\n",
            " 89%|████████▉ | 8/9 [00:23<00:02,  2.92s/it]\u001b[A\u001b[A\n",
            "\n",
            "100%|██████████| 9/9 [00:26<00:00,  2.89s/it]\n",
            "\n",
            "\n",
            "  0%|          | 0/9 [00:00<?, ?it/s]\u001b[A\u001b[A"
          ],
          "name": "stderr"
        },
        {
          "output_type": "stream",
          "text": [
            "\n",
            "model: Ridge\n",
            "alpha: 0.001\n",
            "validation correlations: [0.01990950333660761, 0.01650206855049885, 0.010215662724542614, 0.006019974321682741, 0.008604681677444725, 0.01036306286825967, 0.02511553121002312, 0.023824693305187754, 0.0038932704117987625], mean: 0.013827605378449539\n",
            "validation sharpes: [1.1317439967223069, 1.1327793904534311, 0.3798638348890706, 0.2201708542276422, 0.2810672629117585, 0.32341461521994713, 1.2192475645337137, 1.0725412787896011, 0.11403367383444654], mean: 0.6527624968424354\n"
          ],
          "name": "stdout"
        },
        {
          "output_type": "stream",
          "text": [
            "\n",
            "\n",
            " 11%|█         | 1/9 [00:05<00:42,  5.35s/it]\u001b[A\u001b[A\n",
            "\n",
            " 22%|██▏       | 2/9 [00:10<00:36,  5.22s/it]\u001b[A\u001b[A\n",
            "\n",
            " 33%|███▎      | 3/9 [00:15<00:31,  5.18s/it]\u001b[A\u001b[A\n",
            "\n",
            " 44%|████▍     | 4/9 [00:21<00:26,  5.37s/it]\u001b[A\u001b[A\n",
            "\n",
            " 56%|█████▌    | 5/9 [00:26<00:21,  5.43s/it]\u001b[A\u001b[A\n",
            "\n",
            " 67%|██████▋   | 6/9 [00:32<00:16,  5.51s/it]\u001b[A\u001b[A\n",
            "\n",
            " 78%|███████▊  | 7/9 [00:38<00:11,  5.57s/it]\u001b[A\u001b[A\n",
            "\n",
            " 89%|████████▉ | 8/9 [00:42<00:05,  5.32s/it]\u001b[A\u001b[A\n",
            "\n",
            "100%|██████████| 9/9 [00:48<00:00,  5.38s/it]"
          ],
          "name": "stderr"
        },
        {
          "output_type": "stream",
          "text": [
            "\n",
            "model: Lasso\n",
            "alpha: 0.0006\n",
            "validation correlations: [0.021035898559438666, 0.015231147369826815, 0.017013163610462644, 0.00339715775186422, 0.01547443978151274, 0.025722862905343244, 0.038343758043668255, 0.0350590069637217, 0.004315664809575846], mean: 0.01951034442171268\n",
            "validation sharpes: [0.6170270821564587, 0.4865357846910317, 0.5568580531421911, 0.13356504600128083, 0.3578648854307941, 0.5129696984388977, 1.0825690618657147, 0.8161344275772603, 0.08936746700948044], mean: 0.516987945145901\n"
          ],
          "name": "stdout"
        },
        {
          "output_type": "stream",
          "text": [
            "\n"
          ],
          "name": "stderr"
        }
      ]
    },
    {
      "cell_type": "markdown",
      "metadata": {
        "id": "inUbdhvb66Pb"
      },
      "source": [
        "#### Assessing Regression Model Performance\n",
        "\n",
        "Here we apply the `corr` and `sharpe` methods defined above to predictions made on the validation sample in order to estimate our model's tournament performance."
      ]
    },
    {
      "cell_type": "code",
      "metadata": {
        "colab": {
          "base_uri": "https://localhost:8080/"
        },
        "id": "wgU0Pz9x9vpv",
        "outputId": "ee2e408a-6714-49eb-97f3-a44f5c1eced5"
      },
      "source": [
        "# Fit final model\n",
        "X, y, era = training_data[feature_cols], training_data.target, training_data.era\n",
        "model = sklearn.linear_model.ElasticNet(alpha=.001, l1_ratio=0.4)\n",
        "model.fit(X, y)\n",
        "val_sample = training_data.iloc[val_idx]\n",
        "val_preds = model.predict(val_sample[feature_cols])\n",
        "eval_df = pd.DataFrame({'prediction':val_preds,\n",
        "                        'target':val_sample.target,\n",
        "                        'era':val_sample.era}).reset_index()\n",
        "val_sharpe = sharpe(eval_df)\n",
        "val_corr = corr(eval_df)\n",
        "\n",
        "print((f'The linear regression model\\'s validation correlation is {val_corr}. '\n",
        "       f'Its validation sharpe is {val_sharpe}'))"
      ],
      "execution_count": null,
      "outputs": [
        {
          "output_type": "stream",
          "text": [
            "The linear regression model's validation correlation is 0.021927411934820517. Its validation sharpe is 0.547569078760028\n"
          ],
          "name": "stdout"
        }
      ]
    },
    {
      "cell_type": "markdown",
      "metadata": {
        "id": "oRLGopZF0r7T"
      },
      "source": [
        "#### Making Predictions with the Regression Model"
      ]
    },
    {
      "cell_type": "code",
      "metadata": {
        "id": "nOeJjJdZ08aV"
      },
      "source": [
        "ids = []\n",
        "preds = []\n",
        "\n",
        "chunksize = 50000\n",
        "\n",
        "tourn_iter_csv = pd.read_csv(tourn_file, iterator=True, chunksize=1e6)\n",
        "for chunk in tourn_iter_csv:\n",
        "    df = chunk[feature_cols]\n",
        "    out = model.predict(df)\n",
        "    ids.extend(chunk[\"id\"])\n",
        "    preds.extend(out)\n",
        "tourn_iter_csv.close()"
      ],
      "execution_count": null,
      "outputs": []
    },
    {
      "cell_type": "code",
      "metadata": {
        "colab": {
          "base_uri": "https://localhost:8080/",
          "height": 206
        },
        "id": "-9HN8lrw2zd_",
        "outputId": "82ca06a5-1919-40d6-ac6f-460d57922e70"
      },
      "source": [
        "linear_regression_predictions_df = pd.DataFrame({\n",
        "    'id':ids,\n",
        "    'prediction':preds\n",
        "})\n",
        "linear_regression_predictions_df.head()"
      ],
      "execution_count": null,
      "outputs": [
        {
          "output_type": "execute_result",
          "data": {
            "text/html": [
              "<div>\n",
              "<style scoped>\n",
              "    .dataframe tbody tr th:only-of-type {\n",
              "        vertical-align: middle;\n",
              "    }\n",
              "\n",
              "    .dataframe tbody tr th {\n",
              "        vertical-align: top;\n",
              "    }\n",
              "\n",
              "    .dataframe thead th {\n",
              "        text-align: right;\n",
              "    }\n",
              "</style>\n",
              "<table border=\"1\" class=\"dataframe\">\n",
              "  <thead>\n",
              "    <tr style=\"text-align: right;\">\n",
              "      <th></th>\n",
              "      <th>id</th>\n",
              "      <th>prediction</th>\n",
              "    </tr>\n",
              "  </thead>\n",
              "  <tbody>\n",
              "    <tr>\n",
              "      <th>0</th>\n",
              "      <td>n0003aa52cab36c2</td>\n",
              "      <td>0.494364</td>\n",
              "    </tr>\n",
              "    <tr>\n",
              "      <th>1</th>\n",
              "      <td>n000920ed083903f</td>\n",
              "      <td>0.497263</td>\n",
              "    </tr>\n",
              "    <tr>\n",
              "      <th>2</th>\n",
              "      <td>n0038e640522c4a6</td>\n",
              "      <td>0.506464</td>\n",
              "    </tr>\n",
              "    <tr>\n",
              "      <th>3</th>\n",
              "      <td>n004ac94a87dc54b</td>\n",
              "      <td>0.499510</td>\n",
              "    </tr>\n",
              "    <tr>\n",
              "      <th>4</th>\n",
              "      <td>n0052fe97ea0c05f</td>\n",
              "      <td>0.499483</td>\n",
              "    </tr>\n",
              "  </tbody>\n",
              "</table>\n",
              "</div>"
            ],
            "text/plain": [
              "                 id  prediction\n",
              "0  n0003aa52cab36c2    0.494364\n",
              "1  n000920ed083903f    0.497263\n",
              "2  n0038e640522c4a6    0.506464\n",
              "3  n004ac94a87dc54b    0.499510\n",
              "4  n0052fe97ea0c05f    0.499483"
            ]
          },
          "metadata": {
            "tags": []
          },
          "execution_count": 17
        }
      ]
    },
    {
      "cell_type": "code",
      "metadata": {
        "id": "Xg_HdPki6Mh3"
      },
      "source": [
        "linear_regression_predictions_df.to_csv(\"lr_predictions.csv\", index=False)"
      ],
      "execution_count": null,
      "outputs": []
    },
    {
      "cell_type": "markdown",
      "metadata": {
        "id": "HEwbRegtWrRE"
      },
      "source": [
        "#### Submitting Predictions from the Linear Regression Model\n",
        "\n",
        "We can use `numerapi` to submit these predictions as follows:"
      ]
    },
    {
      "cell_type": "code",
      "metadata": {
        "colab": {
          "base_uri": "https://localhost:8080/",
          "height": 54
        },
        "id": "DW-zccdgW0GX",
        "outputId": "bbe11a23-2acb-4416-c7d4-55b3400362f1"
      },
      "source": [
        "napi.upload_predictions(\"lr_predictions.csv\", model_id=os.environ.get(\"NUMERAI_MODEL_ID_REGRESSIONS\"))"
      ],
      "execution_count": null,
      "outputs": [
        {
          "output_type": "stream",
          "text": [
            "2021-03-13 19:48:56,546 INFO numerapi.base_api: uploading predictions...\n"
          ],
          "name": "stderr"
        },
        {
          "output_type": "execute_result",
          "data": {
            "application/vnd.google.colaboratory.intrinsic+json": {
              "type": "string"
            },
            "text/plain": [
              "'f0d64837-ad84-49c9-ac04-2d0b8353d8c9'"
            ]
          },
          "metadata": {
            "tags": []
          },
          "execution_count": 19
        }
      ]
    },
    {
      "cell_type": "code",
      "metadata": {
        "id": "MJzBmQoQ5aD5"
      },
      "source": [
        "os.environ.get(\"NUMERAI_MODEL_ID_REGRESSIONS\")"
      ],
      "execution_count": null,
      "outputs": []
    },
    {
      "cell_type": "code",
      "metadata": {
        "id": "jPYqPYbAP8-A"
      },
      "source": [
        ""
      ],
      "execution_count": null,
      "outputs": []
    }
  ]
}