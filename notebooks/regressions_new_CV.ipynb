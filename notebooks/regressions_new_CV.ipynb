{
  "nbformat": 4,
  "nbformat_minor": 0,
  "metadata": {
    "colab": {
      "name": "Numerai Starter Kit",
      "provenance": [],
      "toc_visible": true,
      "machine_shape": "hm",
      "authorship_tag": "ABX9TyO6FPfSoeOyERU4OwWoeOG1",
      "include_colab_link": true
    },
    "kernelspec": {
      "display_name": "Python 3",
      "language": "python",
      "name": "python3"
    },
    "language_info": {
      "codemirror_mode": {
        "name": "ipython",
        "version": 3
      },
      "file_extension": ".py",
      "mimetype": "text/x-python",
      "name": "python",
      "nbconvert_exporter": "python",
      "pygments_lexer": "ipython3",
      "version": "3.9.2"
    }
  },
  "cells": [
    {
      "cell_type": "markdown",
      "metadata": {
        "id": "view-in-github",
        "colab_type": "text"
      },
      "source": [
        "<a href=\"https://colab.research.google.com/github/djliden/numerai/blob/main/notebooks/regressions_new_CV.ipynb\" target=\"_parent\"><img src=\"https://colab.research.google.com/assets/colab-badge.svg\" alt=\"Open In Colab\"/></a>"
      ]
    },
    {
      "cell_type": "markdown",
      "metadata": {
        "id": "bGlc6WXctP3Y"
      },
      "source": [
        "# 1 Introduction\n",
        "This notebook will walk you through the entire process of making a [numerai](numer.ai) submission, from downloading the data to submitting final predictions, all in a google colab notebook. In particular, it will address two challenges:\n",
        "- handling API keys in a remote environment (colab)\n",
        "- parsing the large CSV files which, if read all at once, will exceed colab's memory and cause the notebook to crash.\n",
        "\n",
        "This notebook will implement two models: a basic tabular neural network using `fastai` and a linear regression model using `scikit-learn`."
      ]
    },
    {
      "cell_type": "markdown",
      "metadata": {
        "id": "ma62H4nY5DOt"
      },
      "source": [
        "## 1.1 Installing and Importing Dependencies\n",
        "First, we install and import the necessary packages. This cell is currently set *not* to print any output; if you run into any issues and need to check for error messages, comment out the `%%capture` line"
      ]
    },
    {
      "cell_type": "code",
      "metadata": {
        "id": "6fitBsr_ty8_"
      },
      "source": [
        "%%capture\n",
        "# install\n",
        "!pip install --upgrade python-dotenv numerapi\n",
        "!pip install --upgrade \"dask[complete]\"\n",
        "\n",
        "# import dependencies\n",
        "import dask.dataframe as dd\n",
        "import gc\n",
        "import os\n",
        "from dotenv import load_dotenv, find_dotenv\n",
        "from getpass import getpass\n",
        "import pandas as pd\n",
        "import numpy as np\n",
        "import numerapi\n",
        "from pathlib import Path\n",
        "from scipy.stats import spearmanr\n",
        "import sklearn.linear_model\n",
        "from tqdm import tqdm"
      ],
      "execution_count": 1,
      "outputs": []
    },
    {
      "cell_type": "markdown",
      "metadata": {
        "id": "T8k1mucsueRZ"
      },
      "source": [
        "## 1.2 Setting Up numerapi\n",
        "We will use the [numerapi](https://github.com/uuazed/numerapi) package to access the data and make submissions. For this to work, numerapi needs to use your API keys (which can be obtained [here](https://numer.ai/submit)). We will set up two main ways of passing these API keys to a numerapi instance:\n",
        "1. Read a `.env` file using the `python-dotenv` package. This will require you to upload a `.env` file (which contains your secret key and should *not* be kept under version control). Using this method means you will not have to directly enter your keys each time you use this notebook, though you will need to re-upload the `.env` file.\n",
        "2. Manually entering the API keys -- if you don't have access to, or don't want to mess with, your `.env` file.\n",
        "\n",
        "If you have a `.env` file, upload it to the default working directory, `content`, now. In either case, run the cell below to set up the numerapi instance. See [Appendix A](#app_a) for instructions on generating and downloading a .env file."
      ]
    },
    {
      "cell_type": "code",
      "metadata": {
        "colab": {
          "base_uri": "https://localhost:8080/"
        },
        "id": "1Z1CS2Uwv79C",
        "outputId": "2e267fd5-d5d5-4512-aff7-de606b4f9455"
      },
      "source": [
        "# Load the numerapi credentials from .env or prompt for them if not available\n",
        "def credential():\n",
        "    dotenv_path = find_dotenv()\n",
        "    load_dotenv(dotenv_path)\n",
        "\n",
        "    if os.getenv(\"NUMERAI_PUBLIC_KEY\"):\n",
        "        print(\"Loaded Numerai Public Key into Global Environment!\")\n",
        "    else:\n",
        "        os.environ[\"NUMERAI_PUBLIC_KEY\"] = getpass(\"Please enter your Numerai Public Key. You can find your key here: https://numer.ai/submit -> \")\n",
        "    \n",
        "    if os.getenv(\"NUMERAI_SECRET_KEY\"):\n",
        "        print(\"Loaded Numerai Secret Key into Global Environment!\")\n",
        "    else:\n",
        "        os.environ[\"NUMERAI_SECRET_KEY\"] = getpass(\"Please enter your Numerai Secret Key. You can find your key here: https://numer.ai/submit -> \")\n",
        "    \n",
        "    if os.getenv(\"NUMERAI_MODEL_ID_REGRESSIONS\"):\n",
        "        print(\"Loaded Numerai Model ID into Global Environment!\")\n",
        "    else:\n",
        "        os.environ[\"NUMERAI_MODEL_ID_REGRESSIONS\"] = getpass(\"Please enter your Numerai Model ID. You can find your key here: https://numer.ai/submit -> \")\n",
        "\n",
        "credential()\n",
        "public_key = os.environ.get(\"NUMERAI_PUBLIC_KEY\")\n",
        "secret_key = os.environ.get(\"NUMERAI_SECRET_KEY\")\n",
        "model_id = os.environ.get(\"NUMERAI_MODEL_ID_REGRESSIONS\")\n",
        "napi = numerapi.NumerAPI(verbosity=\"info\", public_id=public_key, secret_key=secret_key)"
      ],
      "execution_count": 2,
      "outputs": [
        {
          "output_type": "stream",
          "text": [
            "Loaded Numerai Public Key into Global Environment!\n",
            "Loaded Numerai Secret Key into Global Environment!\n",
            "Loaded Numerai Model ID into Global Environment!\n"
          ],
          "name": "stdout"
        }
      ]
    },
    {
      "cell_type": "markdown",
      "metadata": {
        "id": "w1LhPvUS7RLk"
      },
      "source": [
        "You can read up on the functionality of numerapi [here](https://github.com/uuazed/numerapi). You can use it to download the competition data, view other numerai users' public profiles, check submission status, manage your stake, and much more. In this case, we'll only be using it to download competition data and submit predictions.\n",
        "\n",
        "## 1.3 Downloading Competition Data\n",
        "In a more structured project, you'll probably want to keep the data in a seprate directory from your scripts etc. You could also link google colab to your google drive and store the data there in order to avoid needing to download and process the data every time. In this case, however, we'll keep everything in `./content`, and download the data fresh each time."
      ]
    },
    {
      "cell_type": "code",
      "metadata": {
        "colab": {
          "base_uri": "https://localhost:8080/",
          "height": 54
        },
        "id": "VcCNcVMv7y1B",
        "outputId": "68a9c0cf-1c1f-49e7-dc4a-424465be25d1"
      },
      "source": [
        "napi.download_current_dataset()"
      ],
      "execution_count": 3,
      "outputs": [
        {
          "output_type": "stream",
          "text": [
            "2021-04-10 19:45:31,283 INFO numerapi.base_api: target file already exists\n"
          ],
          "name": "stderr"
        },
        {
          "output_type": "execute_result",
          "data": {
            "application/vnd.google.colaboratory.intrinsic+json": {
              "type": "string"
            },
            "text/plain": [
              "'./numerai_dataset_259.zip'"
            ]
          },
          "metadata": {
            "tags": []
          },
          "execution_count": 3
        }
      ]
    },
    {
      "cell_type": "markdown",
      "metadata": {
        "id": "hm7lo6fe8Qsy"
      },
      "source": [
        "## 1.4 Generating the Training Sample\n",
        "\n",
        "If you look at the files we downloaded above, you'll see a `numerai_tournament_data.csv` file and a `numerai_training_data.csv` file. The \"tournament\" file contains many rows with targets which we can use for validation, so let's extract those and combine them with our training set. Note that this cell saves a new `csv` after combining the training and validation data, so we can avoid the time-consuming parsing process if we run this cell again in the same session."
      ]
    },
    {
      "cell_type": "code",
      "metadata": {
        "colab": {
          "base_uri": "https://localhost:8080/"
        },
        "id": "vd06RGi4840k",
        "outputId": "3354ff50-1882-48c4-b3ae-7fdf380f6e9d"
      },
      "source": [
        "tourn_file = Path(f'./numerai_dataset_{napi.get_current_round()}/numerai_tournament_data.csv')\n",
        "train_file = Path(f'./numerai_dataset_{napi.get_current_round()}/numerai_training_data.csv')\n",
        "processed_pkl = Path('./training_processed.pkl')\n",
        "\n",
        "def process_current(processed_train_pickle,\n",
        "                    train_file, tourn_file,\n",
        "                    pickle_out=True):\n",
        "    \n",
        "    if processed_train_pickle.exists():\n",
        "        print(\"Loading the pickled training data from file\\n\")\n",
        "        training_data = pd.read_pickle(processed_train_pickle)\n",
        "    else:\n",
        "        print(\"Processing training data...\\n\")\n",
        "        tourn_iter_csv = dd.read_csv(tourn_file)\n",
        "        tmp_df = tourn_iter_csv[tourn_iter_csv['data_type'] == 'validation']\n",
        "        training_data = dd.read_csv(train_file)\n",
        "        training_data = dd.concat([training_data, tmp_df])\n",
        "        training_data = training_data.compute()\n",
        "        training_data.reset_index(drop=True, inplace=True)\n",
        "        #tourn_iter_csv.close()\n",
        "        print(\"Training Dataset Generated! Saving to file ...\")\n",
        "        \n",
        "        if pickle_out:\n",
        "            training_data.to_pickle(processed_train_pickle)\n",
        "        \n",
        "    feature_cols = training_data.columns[training_data.columns.str.startswith('feature')]\n",
        "    target_cols = ['target']\n",
        "    return training_data, feature_cols, target_cols\n",
        "\n",
        "training_data, feature_cols, target_cols = process_current(processed_pkl,\n",
        "                                                           train_file,\n",
        "                                                           tourn_file)\n",
        "\n",
        "train_idx = training_data.index[training_data.data_type=='train'].tolist()\n",
        "val_idx = training_data.index[training_data.data_type=='validation'].tolist()"
      ],
      "execution_count": 4,
      "outputs": [
        {
          "output_type": "stream",
          "text": [
            "Processing training data...\n",
            "\n",
            "Training Dataset Generated! Saving to file ...\n"
          ],
          "name": "stdout"
        }
      ]
    },
    {
      "cell_type": "markdown",
      "metadata": {
        "id": "8BSr1BMR5Ilh"
      },
      "source": [
        "# 2 Modeling the Data\n",
        "\n",
        "In this section, we will define our evaluation metrics; run two different models (a linear regression model from `scikit-learn` and a neural network from `fastai`); and generate submission dataframes from those files."
      ]
    },
    {
      "cell_type": "markdown",
      "metadata": {
        "id": "WeYfQcry6svF"
      },
      "source": [
        "## 2.1 Evaluation Metrics\n",
        "\n",
        "In this section, we will define two key evaluation metrics used to assess the performance of models before submitting to the tournament. These metrics are:\n",
        "- Average Spearman Correlation per era: The sum of each era's Spearman correlation divided by the number of eras.\n",
        "- Sharpe Ratio: The average correlation per era divided by the standard deviation of the correlations per era.\n",
        "\n",
        "Both are defined in reasonable detail [here](https://wandb.ai/carlolepelaars/numerai_tutorial/reports/How-to-get-Started-With-Numerai--VmlldzoxODU0NTQ). The methods defined below are modified versions of the methods described in that post."
      ]
    },
    {
      "cell_type": "code",
      "metadata": {
        "id": "DtFniCX98z6i"
      },
      "source": [
        "def corr(df: pd.DataFrame) -> np.float32:\n",
        "    \"\"\"\n",
        "    Calculate the correlation by using grouped per-era data\n",
        "    :param df: A Pandas DataFrame containing the columns \"era\", \"target\" and \"prediction\"\n",
        "    :return: The average per-era correlations.\n",
        "    \"\"\"\n",
        "    def _score(sub_df: pd.DataFrame) -> np.float32:\n",
        "        \"\"\" Calculate Spearman correlation for Pandas' apply method \"\"\"\n",
        "        return spearmanr(sub_df[\"target\"],  sub_df[\"prediction\"])[0]\n",
        "    corrs = df.groupby(\"era\").apply(_score)\n",
        "    return corrs.mean() \n",
        "\n",
        "def sharpe(df: pd.DataFrame) -> np.float32:\n",
        "    \"\"\"\n",
        "    Calculate the Sharpe ratio by using grouped per-era data\n",
        "    :param df: A Pandas DataFrame containing the columns \"era\", \"target\" and \"prediction\"\n",
        "    :return: The Sharpe ratio for your predictions.\n",
        "    \"\"\"\n",
        "    def _score(sub_df: pd.DataFrame) -> np.float32:\n",
        "        \"\"\" Calculate Spearman correlation for Pandas' apply method \"\"\"\n",
        "        return spearmanr(sub_df[\"target\"],  sub_df[\"prediction\"])[0]\n",
        "    corrs = df.groupby(\"era\").apply(_score)\n",
        "    return corrs.mean() / corrs.std()"
      ],
      "execution_count": 5,
      "outputs": []
    },
    {
      "cell_type": "markdown",
      "metadata": {
        "id": "I4azmVvR6ZhT"
      },
      "source": [
        "## 2.2 Cross Validation Setup"
      ]
    },
    {
      "cell_type": "markdown",
      "metadata": {
        "id": "d-9-4GmFvjMY"
      },
      "source": [
        "### 2.2.1 Custom Cross Validation Setup\n",
        "\n",
        "The goal of this section is to set up a \"group time series\" approach where we specify a certain set of \"eras\" for training with the last era for validation. We will be training on segments of the validation set.\n",
        "\n",
        "There are a few ways to do this; I want to write a class that can take the \"eras to test on\" as input and return CV folds as outout. Perhaps a future refinement would include an argument for number of eras validate on. Perhaps unnecessary given that the \"real\" task is testing on a single era. Or four eras?\n",
        "\n",
        "#### Usage\n",
        "\n",
        "1. Initialize the class with the eras column: `cv = EraCV(training_data.era)`\n",
        "2. Get splits: `X, y = test.get_splits(valid_start = 80, valid_n_eras = 4, train_n_eras = None)`\n",
        "\n",
        "The `valid_start` argument identifies the first training era; it takes an integer value. `valid_n_eras` is the number of eras to include in the validation set. `train_n_eras` is the number of eras to include in the training set. `train_n_eras` before `valid_start` are included in the training set. If no argument is passed to `train_n_eras`, all eras from 0 to `valid_start` are included.\n",
        "\n",
        "A single instance of this class can be used in a loop to generate multiple train/test splits. Assuming you want to keep the number of train and test eras constant, you can just iterate over a list of validation starting eras.\n",
        "\n",
        "Features such as checking if a given validation era actually exists have not yet been implemented."
      ]
    },
    {
      "cell_type": "code",
      "metadata": {
        "id": "8hy_qJIWyA4i"
      },
      "source": [
        "class EraCV:\n",
        "    \"\"\"Select validation eras and train on previous eras\n",
        "    provides train/test indices to split data in train/test splits. In\n",
        "    each split, one or more eras are used as a validation set while the\n",
        "    specified number of immediately preceding eras are used as a\n",
        "    training set.\n",
        "    \"\"\"\n",
        "\n",
        "    def __init__(self, eras):\n",
        "        self.eras = eras\n",
        "        self.unique_eras = self._era_to_int(self.eras.unique())\n",
        "        self.eras_int = self._era_to_int(self.eras)\n",
        "    \n",
        "    def _era_to_int(self, eras):\n",
        "        return [int(era[3:]) for era in eras]\n",
        "\n",
        "    def get_valid_indices(self, valid_start, valid_n_eras):\n",
        "        self.valid_eras = self.unique_eras[self.unique_eras.index(valid_start):\\\n",
        "                                      self.unique_eras.index(valid_start)+\\\n",
        "                                      valid_n_eras]\n",
        "        valid_bool = [era in self.valid_eras for era in self.eras_int] \n",
        "        self.valid_indices = np.where(valid_bool)\n",
        "\n",
        "    def get_train_indices(self, valid_start:int, train_start:int = 0,\n",
        "                          train_stop:int = None):\n",
        "        train_stop = valid_start if (train_stop is None) else train_stop\n",
        "        self.train_eras = [era for era in self.unique_eras if era <\\\n",
        "                           valid_start][train_start:train_stop]\n",
        "        train_bool = [era in self.train_eras for era in self.eras_int]\n",
        "        self.train_indices = np.where(train_bool)\n",
        "\n",
        "    def get_splits(self, valid_start:int, valid_n_eras:int, train_start:int,\n",
        "                   train_stop:int=None):\n",
        "        self.get_valid_indices(valid_start, valid_n_eras)\n",
        "        self.get_train_indices(valid_start, train_start, train_stop)\n",
        "        return self.train_indices[0], self.valid_indices[0]\n",
        "\n",
        "    def __repr__(self):\n",
        "       return (f'{self.__class__.__name__}('\n",
        "               f'last era:{max(self.eras_int)})')"
      ],
      "execution_count": 6,
      "outputs": []
    },
    {
      "cell_type": "code",
      "metadata": {
        "id": "IIxhf77EOrK5",
        "colab": {
          "base_uri": "https://localhost:8080/"
        },
        "outputId": "7aebcb90-b965-42aa-e16d-7a4fe37fe80a"
      },
      "source": [
        "training_data.era.unique()"
      ],
      "execution_count": 7,
      "outputs": [
        {
          "output_type": "execute_result",
          "data": {
            "text/plain": [
              "array(['era1', 'era2', 'era3', 'era4', 'era5', 'era6', 'era7', 'era8',\n",
              "       'era9', 'era10', 'era11', 'era12', 'era13', 'era14', 'era15',\n",
              "       'era16', 'era17', 'era18', 'era19', 'era20', 'era21', 'era22',\n",
              "       'era23', 'era24', 'era25', 'era26', 'era27', 'era28', 'era29',\n",
              "       'era30', 'era31', 'era32', 'era33', 'era34', 'era35', 'era36',\n",
              "       'era37', 'era38', 'era39', 'era40', 'era41', 'era42', 'era43',\n",
              "       'era44', 'era45', 'era46', 'era47', 'era48', 'era49', 'era50',\n",
              "       'era51', 'era52', 'era53', 'era54', 'era55', 'era56', 'era57',\n",
              "       'era58', 'era59', 'era60', 'era61', 'era62', 'era63', 'era64',\n",
              "       'era65', 'era66', 'era67', 'era68', 'era69', 'era70', 'era71',\n",
              "       'era72', 'era73', 'era74', 'era75', 'era76', 'era77', 'era78',\n",
              "       'era79', 'era80', 'era81', 'era82', 'era83', 'era84', 'era85',\n",
              "       'era86', 'era87', 'era88', 'era89', 'era90', 'era91', 'era92',\n",
              "       'era93', 'era94', 'era95', 'era96', 'era97', 'era98', 'era99',\n",
              "       'era100', 'era101', 'era102', 'era103', 'era104', 'era105',\n",
              "       'era106', 'era107', 'era108', 'era109', 'era110', 'era111',\n",
              "       'era112', 'era113', 'era114', 'era115', 'era116', 'era117',\n",
              "       'era118', 'era119', 'era120', 'era121', 'era122', 'era123',\n",
              "       'era124', 'era125', 'era126', 'era127', 'era128', 'era129',\n",
              "       'era130', 'era131', 'era132', 'era197', 'era198', 'era199',\n",
              "       'era200', 'era201', 'era202', 'era203', 'era204', 'era205',\n",
              "       'era206', 'era207', 'era208', 'era209', 'era210', 'era211',\n",
              "       'era212'], dtype=object)"
            ]
          },
          "metadata": {
            "tags": []
          },
          "execution_count": 7
        }
      ]
    },
    {
      "cell_type": "markdown",
      "metadata": {
        "id": "Q3qwFNYGF5TB"
      },
      "source": [
        "## 2.3 Linear Regression Model\n",
        "This model closely follows the tutorial example [here](https://colab.research.google.com/github/numerai/example-scripts/blob/master/making-your-first-submission-on-numerai.ipynb). We will use the `scikit-learn` package, with which we can implement and fit our regression model in just a couple of lines of code."
      ]
    },
    {
      "cell_type": "markdown",
      "metadata": {
        "id": "i-el1HtBefnb"
      },
      "source": [
        "#### Fitting the Linear Regression Model"
      ]
    },
    {
      "cell_type": "code",
      "metadata": {
        "id": "qKG75I7-yKvA"
      },
      "source": [
        "%%time\n",
        "corrs = []\n",
        "sharpes = []\n",
        "era_split = EraCV(eras = training_data.era)\n",
        "X, y, era = training_data[feature_cols], training_data.target, training_data.era\n",
        "for valid_era in tqdm(range(200,209)):\n",
        "    train, test = era_split.get_splits(valid_start = valid_era,\n",
        "                           valid_n_eras = 4,\n",
        "                           train_n_eras = 50\n",
        "                           )\n",
        "    model = sklearn.linear_model.LinearRegression(n_jobs = -1)\n",
        "    model.fit(X.iloc[train], y.iloc[train])\n",
        "    val_preds = model.predict(X.iloc[test])\n",
        "    eval_df = pd.DataFrame({'prediction':val_preds,\n",
        "                        'target':y.iloc[test],\n",
        "                        'era':era.iloc[test]}).reset_index()\n",
        "    corrs.append(corr(eval_df))\n",
        "    sharpes.append(sharpe(eval_df))\n",
        "\n",
        "print(corrs)\n",
        "print(sharpes)"
      ],
      "execution_count": null,
      "outputs": []
    },
    {
      "cell_type": "code",
      "metadata": {
        "id": "0fL4MLgxKYHB"
      },
      "source": [
        "models = [\n",
        "          # sklearn.linear_model.LinearRegression(n_jobs = -1),\n",
        "          # sklearn.linear_model.Lasso(alpha=0.00006), # good! Takes pretty long time.\n",
        "          # sklearn.linear_model.Lasso(alpha=0.00001), # Takes a long time, worse than .00005\n",
        "          # sklearn.linear_model.Lasso(alpha=0.000005), # Takes a really long time, worse than .00001\n",
        "          # sklearn.linear_model.Lasso(alpha=0.01), # fails\n",
        "          # sklearn.linear_model.Ridge(alpha=0.0001),\n",
        "          #sklearn.linear_model.Lasso(alpha=0.0008),\n",
        "          sklearn.linear_model.Lasso(alpha=0.0006),\n",
        "          sklearn.linear_model.Lasso(alpha=0.0005),\n",
        "          sklearn.linear_model.Lasso(alpha=0.0004),\n",
        "          sklearn.linear_model.Lasso(alpha=0.0003)\n",
        "          #sklearn.linear_model.Ridge(alpha = 0.1),\n",
        "          #sklearn.linear_model.ElasticNet(alpha=.0001, l1_ratio=0.5),  # Good! .0145 mean\n",
        "          # sklearn.linear_model.ElasticNet(alpha=.0001, l1_ratio=0.4),\n",
        "          #sklearn.linear_model.ElasticNet(alpha=.001, l1_ratio=0.5),  # .0162\n",
        "          #sklearn.linear_model.ElasticNet(alpha=.001, l1_ratio=0.4),  # .0167\n",
        "          #sklearn.linear_model.ElasticNet(alpha=.001, l1_ratio=0.6)  # .0146\n",
        "          #*sklearn.linear_model.ElasticNet(alpha=.001, l1_ratio=0.3), #.0167\n",
        "          #*sklearn.linear_model.ElasticNet(alpha=.001, l1_ratio=0.4), #  .015\n",
        "          #*sklearn.linear_model.ElasticNet(alpha=.001, l1_ratio=0.5) # .015\n",
        "          # sklearn.linear_model.ElasticNet(alpha=.0002, l1_ratio=0.5),\n",
        "          # sklearn.linear_model.ElasticNet(alpha=.0001, l1_ratio=0.4),\n",
        "          #sklearn.linear_model.ElasticNet(alpha=.0001, l1_ratio=0.6), # Good! Best?\n",
        "          #sklearn.linear_model.ElasticNet(alpha=.0001, l1_ratio=0.7) # Good! Best?\n",
        "\n",
        "          # sklearn.linear_model.ElasticNet(alpha=.00005, l1_ratio=0.5),\n",
        "          # sklearn.linear_model.ElasticNet(alpha=.0005, l1_ratio=0.5),\n",
        "          # sklearn.linear_model.ElasticNet(alpha=.00001, l1_ratio=0.25) # Takes very long time\n",
        "          # sklearn.linear_model.ElasticNet(alpha=.01, l1_ratio=0.5), # fails\n",
        "          # sklearn.linear_model.ElasticNet(alpha=.001, l1_ratio=0.25),\n",
        "          # sklearn.linear_model.ElasticNet(alpha=.001, l1_ratio=0.75) # bad result\n",
        "          ]"
      ],
      "execution_count": null,
      "outputs": []
    },
    {
      "cell_type": "code",
      "metadata": {
        "colab": {
          "base_uri": "https://localhost:8080/"
        },
        "id": "1RuK4TFtKX3l",
        "outputId": "aecfb25e-3a4b-4f35-b4b3-bfb14cf59652"
      },
      "source": [
        "era_split = EraCV(eras = training_data.era)\n",
        "X, y, era = training_data[feature_cols], training_data.target, training_data.era\n",
        "for model in models:\n",
        "    corrs = []\n",
        "    sharpes = []\n",
        "    for valid_era in tqdm(range(200,209)):\n",
        "        train, test = era_split.get_splits(valid_start = valid_era,\n",
        "                                           valid_n_eras = 4,\n",
        "                                           train_start = 0,\n",
        "                                           train_stop = valid_era - 150)\n",
        "        model.fit(X.iloc[train], y.iloc[train])\n",
        "        val_preds = model.predict(X.iloc[test])\n",
        "        eval_df = pd.DataFrame({'prediction':val_preds,\n",
        "                            'target':y.iloc[test],\n",
        "                            'era':era.iloc[test]}).reset_index()\n",
        "        corrs.append(corr(eval_df))\n",
        "        sharpes.append(sharpe(eval_df))\n",
        "    print(f'\\nmodel: {model.__class__.__name__}')\n",
        "    if model.__class__.__name__!=\"LinearRegression\":\n",
        "        print(f'alpha: {model.alpha}')\n",
        "    if model.__class__.__name__==\"ElasticNet\":\n",
        "        print(f'L1 Ratio: {model.l1_ratio}')\n",
        "    print(f'validation correlations: {corrs}, mean: {np.array(corrs).mean()}')\n",
        "    print(f'validation sharpes: {sharpes}, mean: {np.array(sharpes).mean()}')"
      ],
      "execution_count": null,
      "outputs": [
        {
          "output_type": "stream",
          "text": [
            "\n",
            "  0%|          | 0/9 [00:00<?, ?it/s]\u001b[A\n",
            " 11%|█         | 1/9 [00:04<00:36,  4.61s/it]\u001b[A\n",
            " 22%|██▏       | 2/9 [00:08<00:29,  4.28s/it]\u001b[A\n",
            " 33%|███▎      | 3/9 [00:11<00:24,  4.08s/it]\u001b[A\n",
            " 44%|████▍     | 4/9 [00:15<00:19,  3.95s/it]\u001b[A\n",
            " 56%|█████▌    | 5/9 [00:19<00:15,  3.86s/it]\u001b[A\n",
            " 67%|██████▋   | 6/9 [00:23<00:11,  3.90s/it]\u001b[A\n",
            " 78%|███████▊  | 7/9 [00:26<00:07,  3.90s/it]\u001b[A\n",
            " 89%|████████▉ | 8/9 [00:31<00:03,  3.95s/it]\u001b[A\n",
            "100%|██████████| 9/9 [00:35<00:00,  3.91s/it]\n",
            "\n",
            "  0%|          | 0/9 [00:00<?, ?it/s]\u001b[A"
          ],
          "name": "stderr"
        },
        {
          "output_type": "stream",
          "text": [
            "\n",
            "model: Lasso\n",
            "alpha: 0.0006\n",
            "validation correlations: [0.03014910511964791, 0.020066023930782058, 0.023455331495271712, 0.00683277598546162, 0.007698004166776415, 0.011314037489005734, 0.029237444796944085, 0.03258967412588846, 0.008701314275919737], mean: 0.018893745709521972\n",
            "validation sharpes: [0.7434463679838746, 0.5733117199808012, 0.8088501666389876, 0.22813292627408807, 0.25717342233908236, 0.3262026022078953, 0.8863905844769363, 1.1196655547967, 0.18406534489031698], mean: 0.5696931877320758\n"
          ],
          "name": "stdout"
        },
        {
          "output_type": "stream",
          "text": [
            "\n",
            " 11%|█         | 1/9 [00:03<00:27,  3.43s/it]\u001b[A\n",
            " 22%|██▏       | 2/9 [00:07<00:24,  3.49s/it]\u001b[A\n",
            " 33%|███▎      | 3/9 [00:10<00:21,  3.55s/it]\u001b[A\n",
            " 44%|████▍     | 4/9 [00:14<00:17,  3.58s/it]\u001b[A\n",
            " 56%|█████▌    | 5/9 [00:18<00:14,  3.62s/it]\u001b[A\n",
            " 67%|██████▋   | 6/9 [00:22<00:11,  3.70s/it]\u001b[A\n",
            " 78%|███████▊  | 7/9 [00:25<00:07,  3.77s/it]\u001b[A\n",
            " 89%|████████▉ | 8/9 [00:29<00:03,  3.84s/it]\u001b[A\n",
            "100%|██████████| 9/9 [00:34<00:00,  3.79s/it]\n",
            "\n",
            "  0%|          | 0/9 [00:00<?, ?it/s]\u001b[A"
          ],
          "name": "stderr"
        },
        {
          "output_type": "stream",
          "text": [
            "\n",
            "model: Lasso\n",
            "alpha: 0.0005\n",
            "validation correlations: [0.029458740894043794, 0.01817598998852242, 0.020780791805464587, 0.004907890584493157, 0.0065858642394740746, 0.010076660981507151, 0.029197870015915478, 0.034526534718563436, 0.009094310924760311], mean: 0.0180894060169716\n",
            "validation sharpes: [0.7004305367849344, 0.5167690055372463, 0.7048099452932559, 0.15907672864116681, 0.20285032773084904, 0.28438488307263393, 0.8363068169016569, 1.2414054777706072, 0.19224294034779724], mean: 0.5375862957866829\n"
          ],
          "name": "stdout"
        },
        {
          "output_type": "stream",
          "text": [
            "\n",
            " 11%|█         | 1/9 [00:03<00:28,  3.53s/it]\u001b[A\n",
            " 22%|██▏       | 2/9 [00:07<00:25,  3.59s/it]\u001b[A\n",
            " 33%|███▎      | 3/9 [00:11<00:21,  3.65s/it]\u001b[A\n",
            " 44%|████▍     | 4/9 [00:14<00:18,  3.69s/it]\u001b[A\n",
            " 56%|█████▌    | 5/9 [00:18<00:15,  3.76s/it]\u001b[A\n",
            " 67%|██████▋   | 6/9 [00:22<00:11,  3.85s/it]\u001b[A\n",
            " 78%|███████▊  | 7/9 [00:26<00:07,  3.91s/it]\u001b[A\n",
            " 89%|████████▉ | 8/9 [00:30<00:03,  3.97s/it]\u001b[A\n",
            "100%|██████████| 9/9 [00:35<00:00,  3.93s/it]\n",
            "\n",
            "  0%|          | 0/9 [00:00<?, ?it/s]\u001b[A"
          ],
          "name": "stderr"
        },
        {
          "output_type": "stream",
          "text": [
            "\n",
            "model: Lasso\n",
            "alpha: 0.0004\n",
            "validation correlations: [0.0279975978270083, 0.01584959139434165, 0.017644828277383895, 0.002780866237883827, 0.0035963132276918266, 0.0064540538965367055, 0.026885716534763706, 0.03320744903177996, 0.00824856587997525], mean: 0.01585166470081835\n",
            "validation sharpes: [0.6697118481097557, 0.4744749117924069, 0.5978362668500886, 0.08680343840298997, 0.11041701692582734, 0.19421810522085706, 0.780371847775435, 1.372086781838461, 0.17570614001928694], mean: 0.4957362618816787\n"
          ],
          "name": "stdout"
        },
        {
          "output_type": "stream",
          "text": [
            "\n",
            " 11%|█         | 1/9 [00:03<00:29,  3.66s/it]\u001b[A\n",
            " 22%|██▏       | 2/9 [00:07<00:25,  3.70s/it]\u001b[A\n",
            " 33%|███▎      | 3/9 [00:11<00:22,  3.76s/it]\u001b[A\n",
            " 44%|████▍     | 4/9 [00:15<00:18,  3.79s/it]\u001b[A\n",
            " 56%|█████▌    | 5/9 [00:19<00:15,  3.83s/it]\u001b[A\n",
            " 67%|██████▋   | 6/9 [00:23<00:11,  3.91s/it]\u001b[A\n",
            " 78%|███████▊  | 7/9 [00:27<00:08,  4.00s/it]\u001b[A\n",
            " 89%|████████▉ | 8/9 [00:31<00:04,  4.06s/it]\u001b[A\n",
            "100%|██████████| 9/9 [00:36<00:00,  4.00s/it]"
          ],
          "name": "stderr"
        },
        {
          "output_type": "stream",
          "text": [
            "\n",
            "model: Lasso\n",
            "alpha: 0.0003\n",
            "validation correlations: [0.026516622597210708, 0.013907756014351794, 0.014699317607767387, 0.0010740341494903313, 0.00197442079728831, 0.004031132750163562, 0.0254930813092623, 0.03174874965824679, 0.006476573489574136], mean: 0.013991298708150591\n",
            "validation sharpes: [0.6604167392239403, 0.4588178935263151, 0.5156142385316167, 0.03430708843623324, 0.06330095261940913, 0.13080380513877027, 0.7769631761006194, 1.3458658794977612, 0.13253236270839683], mean: 0.4576246817536736\n"
          ],
          "name": "stdout"
        },
        {
          "output_type": "stream",
          "text": [
            "\n"
          ],
          "name": "stderr"
        }
      ]
    },
    {
      "cell_type": "markdown",
      "metadata": {
        "id": "inUbdhvb66Pb"
      },
      "source": [
        "#### Assessing Regression Model Performance\n",
        "\n",
        "Here we apply the `corr` and `sharpe` methods defined above to predictions made on the validation sample in order to estimate our model's tournament performance."
      ]
    },
    {
      "cell_type": "code",
      "metadata": {
        "colab": {
          "base_uri": "https://localhost:8080/"
        },
        "id": "wgU0Pz9x9vpv",
        "outputId": "06f9cd6b-3622-4dfc-e39a-7c4440bda267"
      },
      "source": [
        "# Fit final model\n",
        "X, y, era = training_data[feature_cols], training_data.target, training_data.era\n",
        "model = sklearn.linear_model.Lasso(alpha=.0005)\n",
        "model.fit(X, y)\n",
        "val_sample = training_data.iloc[val_idx]\n",
        "val_preds = model.predict(val_sample[feature_cols])\n",
        "eval_df = pd.DataFrame({'prediction':val_preds,\n",
        "                        'target':val_sample.target,\n",
        "                        'era':val_sample.era}).reset_index()\n",
        "val_sharpe = sharpe(eval_df)\n",
        "val_corr = corr(eval_df)\n",
        "\n",
        "print((f'The linear regression model\\'s validation correlation is {val_corr}. '\n",
        "       f'Its validation sharpe is {val_sharpe}'))"
      ],
      "execution_count": 8,
      "outputs": [
        {
          "output_type": "stream",
          "text": [
            "The linear regression model's validation correlation is 0.02053708106323659. Its validation sharpe is 0.5184176707367818\n"
          ],
          "name": "stdout"
        }
      ]
    },
    {
      "cell_type": "markdown",
      "metadata": {
        "id": "oRLGopZF0r7T"
      },
      "source": [
        "#### Making Predictions with the Regression Model"
      ]
    },
    {
      "cell_type": "code",
      "metadata": {
        "id": "nOeJjJdZ08aV"
      },
      "source": [
        "ids = []\n",
        "preds = []\n",
        "\n",
        "chunksize = 50000\n",
        "\n",
        "tourn_iter_csv = pd.read_csv(tourn_file, iterator=True, chunksize=1e6)\n",
        "for chunk in tourn_iter_csv:\n",
        "    df = chunk[feature_cols]\n",
        "    out = model.predict(df)\n",
        "    ids.extend(chunk[\"id\"])\n",
        "    preds.extend(out)\n",
        "tourn_iter_csv.close()"
      ],
      "execution_count": 9,
      "outputs": []
    },
    {
      "cell_type": "code",
      "metadata": {
        "colab": {
          "base_uri": "https://localhost:8080/",
          "height": 206
        },
        "id": "-9HN8lrw2zd_",
        "outputId": "f0ff4390-74d2-4bc2-f520-7e657d059e15"
      },
      "source": [
        "linear_regression_predictions_df = pd.DataFrame({\n",
        "    'id':ids,\n",
        "    'prediction':preds\n",
        "})\n",
        "linear_regression_predictions_df.head()"
      ],
      "execution_count": 10,
      "outputs": [
        {
          "output_type": "execute_result",
          "data": {
            "text/html": [
              "<div>\n",
              "<style scoped>\n",
              "    .dataframe tbody tr th:only-of-type {\n",
              "        vertical-align: middle;\n",
              "    }\n",
              "\n",
              "    .dataframe tbody tr th {\n",
              "        vertical-align: top;\n",
              "    }\n",
              "\n",
              "    .dataframe thead th {\n",
              "        text-align: right;\n",
              "    }\n",
              "</style>\n",
              "<table border=\"1\" class=\"dataframe\">\n",
              "  <thead>\n",
              "    <tr style=\"text-align: right;\">\n",
              "      <th></th>\n",
              "      <th>id</th>\n",
              "      <th>prediction</th>\n",
              "    </tr>\n",
              "  </thead>\n",
              "  <tbody>\n",
              "    <tr>\n",
              "      <th>0</th>\n",
              "      <td>n0003aa52cab36c2</td>\n",
              "      <td>0.495973</td>\n",
              "    </tr>\n",
              "    <tr>\n",
              "      <th>1</th>\n",
              "      <td>n000920ed083903f</td>\n",
              "      <td>0.497192</td>\n",
              "    </tr>\n",
              "    <tr>\n",
              "      <th>2</th>\n",
              "      <td>n0038e640522c4a6</td>\n",
              "      <td>0.504312</td>\n",
              "    </tr>\n",
              "    <tr>\n",
              "      <th>3</th>\n",
              "      <td>n004ac94a87dc54b</td>\n",
              "      <td>0.500128</td>\n",
              "    </tr>\n",
              "    <tr>\n",
              "      <th>4</th>\n",
              "      <td>n0052fe97ea0c05f</td>\n",
              "      <td>0.499820</td>\n",
              "    </tr>\n",
              "  </tbody>\n",
              "</table>\n",
              "</div>"
            ],
            "text/plain": [
              "                 id  prediction\n",
              "0  n0003aa52cab36c2    0.495973\n",
              "1  n000920ed083903f    0.497192\n",
              "2  n0038e640522c4a6    0.504312\n",
              "3  n004ac94a87dc54b    0.500128\n",
              "4  n0052fe97ea0c05f    0.499820"
            ]
          },
          "metadata": {
            "tags": []
          },
          "execution_count": 10
        }
      ]
    },
    {
      "cell_type": "code",
      "metadata": {
        "id": "Xg_HdPki6Mh3"
      },
      "source": [
        "linear_regression_predictions_df.to_csv(\"lr_predictions.csv\", index=False)"
      ],
      "execution_count": 11,
      "outputs": []
    },
    {
      "cell_type": "markdown",
      "metadata": {
        "id": "HEwbRegtWrRE"
      },
      "source": [
        "#### Submitting Predictions from the Linear Regression Model\n",
        "\n",
        "We can use `numerapi` to submit these predictions as follows:"
      ]
    },
    {
      "cell_type": "code",
      "metadata": {
        "id": "DW-zccdgW0GX",
        "outputId": "21748541-e3b4-477f-dc65-b632718cff8c",
        "colab": {
          "base_uri": "https://localhost:8080/",
          "height": 54
        }
      },
      "source": [
        "napi.upload_predictions(\"lr_predictions.csv\", model_id=os.environ.get(\"NUMERAI_MODEL_ID_REGRESSIONS\"))"
      ],
      "execution_count": 12,
      "outputs": [
        {
          "output_type": "stream",
          "text": [
            "2021-04-10 19:49:41,303 INFO numerapi.base_api: uploading predictions...\n"
          ],
          "name": "stderr"
        },
        {
          "output_type": "execute_result",
          "data": {
            "application/vnd.google.colaboratory.intrinsic+json": {
              "type": "string"
            },
            "text/plain": [
              "'ce552d66-89a5-4b6e-943e-dec5d3691cc8'"
            ]
          },
          "metadata": {
            "tags": []
          },
          "execution_count": 12
        }
      ]
    },
    {
      "cell_type": "code",
      "metadata": {
        "id": "MJzBmQoQ5aD5"
      },
      "source": [
        "#os.environ.get(\"NUMERAI_MODEL_ID_REGRESSIONS\")"
      ],
      "execution_count": null,
      "outputs": []
    },
    {
      "cell_type": "code",
      "metadata": {
        "id": "jPYqPYbAP8-A"
      },
      "source": [
        ""
      ],
      "execution_count": null,
      "outputs": []
    }
  ]
}