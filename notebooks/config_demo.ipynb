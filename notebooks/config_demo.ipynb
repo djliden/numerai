{
 "cells": [
  {
   "cell_type": "markdown",
   "id": "addressed-payment",
   "metadata": {},
   "source": [
    "# Demonstration and Testing of the Config() class\n",
    "\n",
    "The purpose of the Config class is to offer a lightweight and easy-to-use configuration system. Conceptually, configurations are (optionally-nested) dictionaries. This class can represent and output the configuration as a dictionary or as a possibly more-readable YAML file. This notebook walks through some of the core funtionality of the class.\n",
    "\n",
    "## Imports and Setup"
   ]
  },
  {
   "cell_type": "code",
   "execution_count": 1,
   "id": "subject-craft",
   "metadata": {},
   "outputs": [],
   "source": [
    "import os\n",
    "os.chdir('/home/djliden91/git/projects/numerai')\n",
    "from src.config import config\n",
    "import yaml\n",
    "from pathlib import Path"
   ]
  },
  {
   "cell_type": "markdown",
   "id": "preceding-lewis",
   "metadata": {},
   "source": [
    "## Example Configurations\n",
    "We will be working with two configuration files: `dafault_config` and `update_config`. When a `Config` instance is updated with a new configuration file, any new key/value pairs are added to the configuration. If a new configuration contains keys also contained in the existing configuration, the values are updated to match the new configuration file. Old keys not included in the new configuration are left as they are.\n",
    "\n",
    "Both of these samples start out as `yaml` files, but we can just as easily start with python dictionaries."
   ]
  },
  {
   "cell_type": "code",
   "execution_count": 2,
   "id": "similar-universal",
   "metadata": {},
   "outputs": [],
   "source": [
    "default_config = Path(\"./src/config/default_config.yaml\")\n",
    "update_config = Path(\"./src/config/experiments/config_debug.yaml\")"
   ]
  },
  {
   "cell_type": "code",
   "execution_count": 3,
   "id": "closing-norman",
   "metadata": {},
   "outputs": [
    {
     "data": {
      "text/plain": [
       "{'SYSTEM': {'DEBUG': False},\n",
       " 'DATA': {'REFRESH': False, 'SAVE_PROCESSED_TRAIN': True},\n",
       " 'EVAL': {'SAVE_PREDS': True, 'SUBMIT_PREDS': False},\n",
       " 'MODEL': {'NAME': 'Unnamed'}}"
      ]
     },
     "execution_count": 3,
     "metadata": {},
     "output_type": "execute_result"
    }
   ],
   "source": [
    "yaml.load(open(default_config, 'r'), Loader=yaml.SafeLoader)"
   ]
  },
  {
   "cell_type": "code",
   "execution_count": 4,
   "id": "pretty-schedule",
   "metadata": {},
   "outputs": [
    {
     "data": {
      "text/plain": [
       "{'MODEL': {'NAME': 'config_debug', 'WEIGHT_DECAY': 0.5, 'LAYERS': [400, 200]},\n",
       " 'EVAL': {'SAVE_PREDS': False},\n",
       " 'TRAIN': {'N_EPOCHS': 2}}"
      ]
     },
     "execution_count": 4,
     "metadata": {},
     "output_type": "execute_result"
    }
   ],
   "source": [
    "yaml.load(open(update_config, 'r'), Loader=yaml.SafeLoader)"
   ]
  },
  {
   "cell_type": "markdown",
   "id": "norwegian-point",
   "metadata": {},
   "source": [
    "Some key differences between these configurations to pay attention to:\n",
    "* The \"default\" name is `Unnamed` while the \"update\" name is `config_debug`\n",
    "* The \"default\" config does not include a `TRAIN` key.\n",
    "* The \"update\" config does not include a `SYSTEM` key.\n",
    "\n",
    "## Initialize our Configuration\n",
    "We can pass one of our paths to a yaml config to the `Config` class to get started."
   ]
  },
  {
   "cell_type": "code",
   "execution_count": 5,
   "id": "framed-heath",
   "metadata": {},
   "outputs": [],
   "source": [
    "cfg = config.Config(default_config)"
   ]
  },
  {
   "cell_type": "markdown",
   "id": "induced-popularity",
   "metadata": {},
   "source": [
    "### Useful Methods\n",
    "Before getting into the addition of new configurations and some of the additional features of this system, we'll go over the \"core functionality.\" We can:\n",
    "1. View our whole config using the `config` attribute"
   ]
  },
  {
   "cell_type": "code",
   "execution_count": 6,
   "id": "round-medicine",
   "metadata": {},
   "outputs": [
    {
     "data": {
      "text/plain": [
       "{'SYSTEM': {'DEBUG': False},\n",
       " 'DATA': {'REFRESH': False, 'SAVE_PROCESSED_TRAIN': True},\n",
       " 'EVAL': {'SAVE_PREDS': True, 'SUBMIT_PREDS': False},\n",
       " 'MODEL': {'NAME': 'Unnamed'}}"
      ]
     },
     "execution_count": 6,
     "metadata": {},
     "output_type": "execute_result"
    }
   ],
   "source": [
    "cfg.config"
   ]
  },
  {
   "cell_type": "markdown",
   "id": "micro-shirt",
   "metadata": {},
   "source": [
    "Or we can view it in YAML formatting using `dump_config`. If we pass a path argument to this method, it will save the output as a `yaml` file at the location indicated."
   ]
  },
  {
   "cell_type": "code",
   "execution_count": 7,
   "id": "cardiac-hazard",
   "metadata": {},
   "outputs": [
    {
     "name": "stdout",
     "output_type": "stream",
     "text": [
      "DATA:\n",
      "  REFRESH: false\n",
      "  SAVE_PROCESSED_TRAIN: true\n",
      "EVAL:\n",
      "  SAVE_PREDS: true\n",
      "  SUBMIT_PREDS: false\n",
      "MODEL:\n",
      "  NAME: Unnamed\n",
      "SYSTEM:\n",
      "  DEBUG: false\n",
      "\n"
     ]
    }
   ],
   "source": [
    "cfg.dump_config()"
   ]
  },
  {
   "cell_type": "markdown",
   "id": "younger-essay",
   "metadata": {},
   "source": [
    "We can use dot notation to reference individual elements of the configuration or to print \"nodes\" of the configuration. Eventually, it would probably be useful to make sure the actual nested dictionaries are returned when their nodes are called."
   ]
  },
  {
   "cell_type": "code",
   "execution_count": 8,
   "id": "secure-scott",
   "metadata": {},
   "outputs": [
    {
     "data": {
      "text/plain": [
       "False"
      ]
     },
     "execution_count": 8,
     "metadata": {},
     "output_type": "execute_result"
    }
   ],
   "source": [
    "cfg.DATA.REFRESH"
   ]
  },
  {
   "cell_type": "code",
   "execution_count": 9,
   "id": "purple-being",
   "metadata": {},
   "outputs": [
    {
     "data": {
      "text/plain": [
       "Config Object with Keys:\n",
       "REFRESH: false\n",
       "SAVE_PROCESSED_TRAIN: true"
      ]
     },
     "execution_count": 9,
     "metadata": {},
     "output_type": "execute_result"
    }
   ],
   "source": [
    "cfg.DATA"
   ]
  },
  {
   "cell_type": "markdown",
   "id": "alternate-robinson",
   "metadata": {},
   "source": [
    "The corresponding dictionary can be obtained with:"
   ]
  },
  {
   "cell_type": "code",
   "execution_count": 10,
   "id": "sunrise-jimmy",
   "metadata": {},
   "outputs": [
    {
     "data": {
      "text/plain": [
       "{'REFRESH': False, 'SAVE_PROCESSED_TRAIN': True}"
      ]
     },
     "execution_count": 10,
     "metadata": {},
     "output_type": "execute_result"
    }
   ],
   "source": [
    "cfg.DATA.config"
   ]
  },
  {
   "cell_type": "markdown",
   "id": "painted-demand",
   "metadata": {},
   "source": [
    "## Update the Configuration\n",
    "\n",
    "Once initialized, the configuration can be updated with new dictionaries or yaml files. This can be used to add new configuration options or overwrite existing ones."
   ]
  },
  {
   "cell_type": "code",
   "execution_count": 11,
   "id": "british-wages",
   "metadata": {},
   "outputs": [
    {
     "data": {
      "text/plain": [
       "'Unnamed'"
      ]
     },
     "execution_count": 11,
     "metadata": {},
     "output_type": "execute_result"
    }
   ],
   "source": [
    "cfg.MODEL.NAME"
   ]
  },
  {
   "cell_type": "code",
   "execution_count": 12,
   "id": "hawaiian-promotion",
   "metadata": {},
   "outputs": [
    {
     "data": {
      "text/plain": [
       "'config_debug'"
      ]
     },
     "execution_count": 12,
     "metadata": {},
     "output_type": "execute_result"
    }
   ],
   "source": [
    "cfg.update_config(update_config)\n",
    "cfg.MODEL.NAME"
   ]
  },
  {
   "cell_type": "code",
   "execution_count": 13,
   "id": "fleet-insurance",
   "metadata": {},
   "outputs": [
    {
     "data": {
      "text/plain": [
       "Config Object with Keys:\n",
       "DATA:\n",
       "  REFRESH: false\n",
       "  SAVE_PROCESSED_TRAIN: true\n",
       "EVAL:\n",
       "  SAVE_PREDS: false\n",
       "MODEL:\n",
       "  LAYERS:\n",
       "  - 400\n",
       "  - 200\n",
       "  NAME: config_debug\n",
       "  WEIGHT_DECAY: 0.5\n",
       "SYSTEM:\n",
       "  DEBUG: false\n",
       "TRAIN:\n",
       "  N_EPOCHS: 2"
      ]
     },
     "execution_count": 13,
     "metadata": {},
     "output_type": "execute_result"
    }
   ],
   "source": [
    "cfg"
   ]
  },
  {
   "cell_type": "markdown",
   "id": "premium-tomorrow",
   "metadata": {},
   "source": [
    "The only way to add to the config is via the `update_config` method. If we try to add a new configuration option, we will get an error:"
   ]
  },
  {
   "cell_type": "code",
   "execution_count": 14,
   "id": "worse-amsterdam",
   "metadata": {},
   "outputs": [
    {
     "ename": "TypeError",
     "evalue": " Directly adding new attributes to a Configuration  object using dot\nnotation is not supported. Please use  the update_config() method",
     "output_type": "error",
     "traceback": [
      "\u001b[0;31m---------------------------------------------------------------------------\u001b[0m",
      "\u001b[0;31mTypeError\u001b[0m                                 Traceback (most recent call last)",
      "\u001b[0;32m<ipython-input-14-3716c99c7425>\u001b[0m in \u001b[0;36m<module>\u001b[0;34m\u001b[0m\n\u001b[0;32m----> 1\u001b[0;31m \u001b[0mcfg\u001b[0m\u001b[0;34m.\u001b[0m\u001b[0mCOMMENT\u001b[0m \u001b[0;34m=\u001b[0m \u001b[0;34m\"I'm trying to add a comment with dot notation\"\u001b[0m\u001b[0;34m\u001b[0m\u001b[0;34m\u001b[0m\u001b[0m\n\u001b[0m",
      "\u001b[0;32m~/git/projects/numerai/src/config/config.py\u001b[0m in \u001b[0;36m__setattr__\u001b[0;34m(self, key, value)\u001b[0m\n\u001b[1;32m     15\u001b[0m         \"\"\"\n\u001b[1;32m     16\u001b[0m         \u001b[0;32mif\u001b[0m \u001b[0mself\u001b[0m\u001b[0;34m.\u001b[0m\u001b[0m__isFrozen\u001b[0m \u001b[0;32mand\u001b[0m \u001b[0;32mnot\u001b[0m \u001b[0mhasattr\u001b[0m\u001b[0;34m(\u001b[0m\u001b[0mself\u001b[0m\u001b[0;34m,\u001b[0m \u001b[0mkey\u001b[0m\u001b[0;34m)\u001b[0m\u001b[0;34m:\u001b[0m\u001b[0;34m\u001b[0m\u001b[0;34m\u001b[0m\u001b[0m\n\u001b[0;32m---> 17\u001b[0;31m             raise TypeError(textwrap.fill(textwrap.dedent(\"\"\"\n\u001b[0m\u001b[1;32m     18\u001b[0m             \u001b[0mDirectly\u001b[0m \u001b[0madding\u001b[0m \u001b[0mnew\u001b[0m \u001b[0mattributes\u001b[0m \u001b[0mto\u001b[0m \u001b[0ma\u001b[0m \u001b[0mConfiguration\u001b[0m\u001b[0;34m\u001b[0m\u001b[0;34m\u001b[0m\u001b[0m\n\u001b[1;32m     19\u001b[0m             \u001b[0mobject\u001b[0m \u001b[0musing\u001b[0m \u001b[0mdot\u001b[0m \u001b[0mnotation\u001b[0m \u001b[0;32mis\u001b[0m \u001b[0;32mnot\u001b[0m \u001b[0msupported\u001b[0m\u001b[0;34m.\u001b[0m \u001b[0mPlease\u001b[0m \u001b[0muse\u001b[0m\u001b[0;34m\u001b[0m\u001b[0;34m\u001b[0m\u001b[0m\n",
      "\u001b[0;31mTypeError\u001b[0m:  Directly adding new attributes to a Configuration  object using dot\nnotation is not supported. Please use  the update_config() method"
     ]
    }
   ],
   "source": [
    "cfg.COMMENT = \"I'm trying to add a comment with dot notation\""
   ]
  },
  {
   "cell_type": "markdown",
   "id": "chubby-listening",
   "metadata": {},
   "source": [
    "Lastly, a small example showing how we might use the configuration."
   ]
  },
  {
   "cell_type": "code",
   "execution_count": 15,
   "id": "particular-demonstration",
   "metadata": {},
   "outputs": [],
   "source": [
    "cfg_dict = {'name':'Dan', 'n_apples':12, 'wallet':{'dollars':8, 'cents':15}}\n",
    "cfg = config.Config(cfg_dict)"
   ]
  },
  {
   "cell_type": "code",
   "execution_count": 18,
   "id": "activated-phase",
   "metadata": {},
   "outputs": [
    {
     "data": {
      "text/plain": [
       "'Dan has 12 apples. He can sell the apples for $1.00 each. After he sells the apples, he will have 20 dollars and 15 cents'"
      ]
     },
     "execution_count": 18,
     "metadata": {},
     "output_type": "execute_result"
    }
   ],
   "source": [
    "(f'{cfg.name} has {cfg.n_apples} apples. He can sell the apples for $1.00 each. '\n",
    " f'After he sells the apples, he will have {cfg.wallet.dollars + cfg.n_apples} '\n",
    " f'dollars and {cfg.wallet.cents} cents')"
   ]
  }
 ],
 "metadata": {
  "kernelspec": {
   "display_name": "numerai",
   "language": "python",
   "name": "numerai"
  },
  "language_info": {
   "codemirror_mode": {
    "name": "ipython",
    "version": 3
   },
   "file_extension": ".py",
   "mimetype": "text/x-python",
   "name": "python",
   "nbconvert_exporter": "python",
   "pygments_lexer": "ipython3",
   "version": "3.9.2"
  }
 },
 "nbformat": 4,
 "nbformat_minor": 5
}
