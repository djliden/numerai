{
 "cells": [
  {
   "cell_type": "markdown",
   "id": "ultimate-latest",
   "metadata": {
    "colab_type": "text",
    "id": "view-in-github"
   },
   "source": [
    "<a href=\"https://colab.research.google.com/github/djliden/numerai/blob/main/notebooks/fastai_tabular.ipynb\" target=\"_parent\"><img src=\"https://colab.research.google.com/assets/colab-badge.svg\" alt=\"Open In Colab\"/></a>"
   ]
  },
  {
   "cell_type": "markdown",
   "id": "exciting-columbus",
   "metadata": {
    "id": "hired-atlantic"
   },
   "source": [
    "# Tabular Learner with Fastai\n",
    "\n",
    "The goal of this notebook is to implement a tabular deep learning model using fastai and submit to this week's competition. I eventually plan to build this out into a more structured and modular PyTorch project, but for now I want to make sure that this works and will generate reasonable results.\n",
    "\n",
    "There's a lot to explore -- such as choice of loss function and evaluation metri [link](https://forum.numer.ai/t/model-evaluation-metrics/337) -- but we're keeping it simple for now.\n",
    "\n",
    "## Dependencies and Data Download"
   ]
  },
  {
   "cell_type": "code",
   "execution_count": 1,
   "id": "worse-discretion",
   "metadata": {
    "colab": {
     "base_uri": "https://localhost:8080/",
     "height": 1000
    },
    "id": "random-minutes",
    "outputId": "5d6c12b8-f29a-46a4-bd0c-b8b529693ea7"
   },
   "outputs": [
    {
     "name": "stdout",
     "output_type": "stream",
     "text": [
      "Requirement already satisfied: python-dotenv in /home/djliden91/.virtualenvs/numerai/lib/python3.9/site-packages (0.15.0)\n",
      "Requirement already satisfied: fastai in /home/djliden91/.virtualenvs/numerai/lib/python3.9/site-packages (2.2.7)\n",
      "Requirement already satisfied: numerapi in /home/djliden91/.virtualenvs/numerai/lib/python3.9/site-packages (2.4.2)\n",
      "Collecting numerapi\n",
      "  Downloading numerapi-2.4.5-py3-none-any.whl (25 kB)\n",
      "Requirement already satisfied: pyyaml in /home/djliden91/.virtualenvs/numerai/lib/python3.9/site-packages (from fastai) (5.4.1)\n",
      "Requirement already satisfied: spacy<3 in /home/djliden91/.virtualenvs/numerai/lib/python3.9/site-packages (from fastai) (2.3.5)\n",
      "Requirement already satisfied: scikit-learn in /home/djliden91/.virtualenvs/numerai/lib/python3.9/site-packages (from fastai) (0.24.1)\n",
      "Requirement already satisfied: packaging in /home/djliden91/.virtualenvs/numerai/lib/python3.9/site-packages (from fastai) (20.9)\n",
      "Requirement already satisfied: pandas in /home/djliden91/.virtualenvs/numerai/lib/python3.9/site-packages (from fastai) (1.2.2)\n",
      "Requirement already satisfied: pillow>6.0.0 in /home/djliden91/.virtualenvs/numerai/lib/python3.9/site-packages (from fastai) (8.1.0)\n",
      "Requirement already satisfied: requests in /home/djliden91/.virtualenvs/numerai/lib/python3.9/site-packages (from fastai) (2.25.1)\n",
      "Requirement already satisfied: scipy in /home/djliden91/.virtualenvs/numerai/lib/python3.9/site-packages (from fastai) (1.6.0)\n",
      "Requirement already satisfied: fastcore<1.4,>=1.3.8 in /home/djliden91/.virtualenvs/numerai/lib/python3.9/site-packages (from fastai) (1.3.19)\n",
      "Requirement already satisfied: fastprogress>=0.2.4 in /home/djliden91/.virtualenvs/numerai/lib/python3.9/site-packages (from fastai) (1.0.0)\n",
      "Collecting torchvision<0.9,>=0.8\n",
      "  Using cached torchvision-0.8.2-cp39-cp39-manylinux1_x86_64.whl (12.7 MB)\n",
      "Requirement already satisfied: matplotlib in /home/djliden91/.virtualenvs/numerai/lib/python3.9/site-packages (from fastai) (3.3.4)\n",
      "Collecting torch<1.8,>=1.7.0\n",
      "  Using cached torch-1.7.1-cp39-cp39-manylinux1_x86_64.whl (776.8 MB)\n",
      "^C\n",
      "\u001b[31mERROR: Operation cancelled by user\u001b[0m\n"
     ]
    },
    {
     "ename": "KeyboardInterrupt",
     "evalue": "",
     "output_type": "error",
     "traceback": [
      "\u001b[0;31m-----------------------------------\u001b[0m",
      "\u001b[0;31mKeyboardInterrupt\u001b[0mTraceback (most recent call last)",
      "\u001b[0;32m<ipython-input-1-854de32c4c4a>\u001b[0m in \u001b[0;36m<module>\u001b[0;34m\u001b[0m\n\u001b[1;32m     17\u001b[0m \u001b[0;34m\u001b[0m\u001b[0m\n\u001b[1;32m     18\u001b[0m \u001b[0mnapi\u001b[0m \u001b[0;34m=\u001b[0m \u001b[0mnumerapi\u001b[0m\u001b[0;34m.\u001b[0m\u001b[0mNumerAPI\u001b[0m\u001b[0;34m(\u001b[0m\u001b[0mverbosity\u001b[0m\u001b[0;34m=\u001b[0m\u001b[0;34m\"info\"\u001b[0m\u001b[0;34m,\u001b[0m \u001b[0mpublic_id\u001b[0m\u001b[0;34m=\u001b[0m\u001b[0mpublic_key\u001b[0m\u001b[0;34m,\u001b[0m \u001b[0msecret_key\u001b[0m\u001b[0;34m=\u001b[0m\u001b[0mprivate_key\u001b[0m\u001b[0;34m)\u001b[0m\u001b[0;34m\u001b[0m\u001b[0;34m\u001b[0m\u001b[0m\n\u001b[0;32m---> 19\u001b[0;31m \u001b[0mnapi\u001b[0m\u001b[0;34m.\u001b[0m\u001b[0mdownload_current_dataset\u001b[0m\u001b[0;34m(\u001b[0m\u001b[0mdest_path\u001b[0m\u001b[0;34m=\u001b[0m\u001b[0;34m\"../input/\"\u001b[0m\u001b[0;34m,\u001b[0m \u001b[0munzip\u001b[0m\u001b[0;34m=\u001b[0m\u001b[0;32mTrue\u001b[0m\u001b[0;34m)\u001b[0m\u001b[0;34m\u001b[0m\u001b[0;34m\u001b[0m\u001b[0m\n\u001b[0m",
      "\u001b[0;32m~/.virtualenvs/numerai/lib/python3.9/site-packages/numerapi/numerapi.py\u001b[0m in \u001b[0;36mdownload_current_dataset\u001b[0;34m(self, dest_path, dest_filename, unzip, tournament)\u001b[0m\n\u001b[1;32m     88\u001b[0m         \u001b[0;32mif\u001b[0m \u001b[0mdest_filename\u001b[0m \u001b[0;32mis\u001b[0m \u001b[0;32mNone\u001b[0m\u001b[0;34m:\u001b[0m\u001b[0;34m\u001b[0m\u001b[0;34m\u001b[0m\u001b[0m\n\u001b[1;32m     89\u001b[0m             \u001b[0;32mtry\u001b[0m\u001b[0;34m:\u001b[0m\u001b[0;34m\u001b[0m\u001b[0;34m\u001b[0m\u001b[0m\n\u001b[0;32m---> 90\u001b[0;31m                 \u001b[0mround_number\u001b[0m \u001b[0;34m=\u001b[0m \u001b[0mself\u001b[0m\u001b[0;34m.\u001b[0m\u001b[0mget_current_round\u001b[0m\u001b[0;34m(\u001b[0m\u001b[0mtournament\u001b[0m\u001b[0;34m)\u001b[0m\u001b[0;34m\u001b[0m\u001b[0;34m\u001b[0m\u001b[0m\n\u001b[0m\u001b[1;32m     91\u001b[0m             \u001b[0;32mexcept\u001b[0m \u001b[0mValueError\u001b[0m\u001b[0;34m:\u001b[0m\u001b[0;34m\u001b[0m\u001b[0;34m\u001b[0m\u001b[0m\n\u001b[1;32m     92\u001b[0m                 \u001b[0mround_number\u001b[0m \u001b[0;34m=\u001b[0m \u001b[0;34m\"x\"\u001b[0m\u001b[0;34m\u001b[0m\u001b[0;34m\u001b[0m\u001b[0m\n",
      "\u001b[0;32m~/.virtualenvs/numerai/lib/python3.9/site-packages/numerapi/numerapi.py\u001b[0m in \u001b[0;36mget_current_round\u001b[0;34m(self, tournament)\u001b[0m\n\u001b[1;32m    265\u001b[0m         '''\n\u001b[1;32m    266\u001b[0m         \u001b[0marguments\u001b[0m \u001b[0;34m=\u001b[0m \u001b[0;34m{\u001b[0m\u001b[0;34m'tournament'\u001b[0m\u001b[0;34m:\u001b[0m \u001b[0mtournament\u001b[0m\u001b[0;34m}\u001b[0m\u001b[0;34m\u001b[0m\u001b[0;34m\u001b[0m\u001b[0m\n\u001b[0;32m--> 267\u001b[0;31m         \u001b[0mdata\u001b[0m \u001b[0;34m=\u001b[0m \u001b[0mself\u001b[0m\u001b[0;34m.\u001b[0m\u001b[0mraw_query\u001b[0m\u001b[0;34m(\u001b[0m\u001b[0mquery\u001b[0m\u001b[0;34m,\u001b[0m \u001b[0marguments\u001b[0m\u001b[0;34m)\u001b[0m\u001b[0;34m[\u001b[0m\u001b[0;34m'data'\u001b[0m\u001b[0;34m]\u001b[0m\u001b[0;34m[\u001b[0m\u001b[0;34m'rounds'\u001b[0m\u001b[0;34m]\u001b[0m\u001b[0;34m[\u001b[0m\u001b[0;36m0\u001b[0m\u001b[0;34m]\u001b[0m\u001b[0;34m\u001b[0m\u001b[0;34m\u001b[0m\u001b[0m\n\u001b[0m\u001b[1;32m    268\u001b[0m         \u001b[0;32mif\u001b[0m \u001b[0mdata\u001b[0m \u001b[0;32mis\u001b[0m \u001b[0;32mNone\u001b[0m\u001b[0;34m:\u001b[0m\u001b[0;34m\u001b[0m\u001b[0;34m\u001b[0m\u001b[0m\n\u001b[1;32m    269\u001b[0m             \u001b[0;32mreturn\u001b[0m \u001b[0;32mNone\u001b[0m\u001b[0;34m\u001b[0m\u001b[0;34m\u001b[0m\u001b[0m\n",
      "\u001b[0;32m~/.virtualenvs/numerai/lib/python3.9/site-packages/numerapi/base_api.py\u001b[0m in \u001b[0;36mraw_query\u001b[0;34m(self, query, variables, authorization)\u001b[0m\n\u001b[1;32m    112\u001b[0m                 \u001b[0;32mraise\u001b[0m \u001b[0mValueError\u001b[0m\u001b[0;34m(\u001b[0m\u001b[0;34m\"API keys required for this action.\"\u001b[0m\u001b[0;34m)\u001b[0m\u001b[0;34m\u001b[0m\u001b[0;34m\u001b[0m\u001b[0m\n\u001b[1;32m    113\u001b[0m \u001b[0;34m\u001b[0m\u001b[0m\n\u001b[0;32m--> 114\u001b[0;31m         result = utils.post_with_err_handling(\n\u001b[0m\u001b[1;32m    115\u001b[0m             API_TOURNAMENT_URL, body, headers)\n\u001b[1;32m    116\u001b[0m \u001b[0;34m\u001b[0m\u001b[0m\n",
      "\u001b[0;32m~/.virtualenvs/numerai/lib/python3.9/site-packages/numerapi/utils.py\u001b[0m in \u001b[0;36mpost_with_err_handling\u001b[0;34m(url, body, headers, timeout)\u001b[0m\n\u001b[1;32m     60\u001b[0m \u001b[0;32mdef\u001b[0m \u001b[0mpost_with_err_handling\u001b[0m\u001b[0;34m(\u001b[0m\u001b[0murl\u001b[0m\u001b[0;34m,\u001b[0m \u001b[0mbody\u001b[0m\u001b[0;34m,\u001b[0m \u001b[0mheaders\u001b[0m\u001b[0;34m,\u001b[0m \u001b[0mtimeout\u001b[0m\u001b[0;34m=\u001b[0m\u001b[0;32mNone\u001b[0m\u001b[0;34m)\u001b[0m\u001b[0;34m:\u001b[0m\u001b[0;34m\u001b[0m\u001b[0;34m\u001b[0m\u001b[0m\n\u001b[1;32m     61\u001b[0m     \u001b[0;32mtry\u001b[0m\u001b[0;34m:\u001b[0m\u001b[0;34m\u001b[0m\u001b[0;34m\u001b[0m\u001b[0m\n\u001b[0;32m---> 62\u001b[0;31m         \u001b[0mr\u001b[0m \u001b[0;34m=\u001b[0m \u001b[0mrequests\u001b[0m\u001b[0;34m.\u001b[0m\u001b[0mpost\u001b[0m\u001b[0;34m(\u001b[0m\u001b[0murl\u001b[0m\u001b[0;34m,\u001b[0m \u001b[0mjson\u001b[0m\u001b[0;34m=\u001b[0m\u001b[0mbody\u001b[0m\u001b[0;34m,\u001b[0m \u001b[0mheaders\u001b[0m\u001b[0;34m=\u001b[0m\u001b[0mheaders\u001b[0m\u001b[0;34m,\u001b[0m \u001b[0mtimeout\u001b[0m\u001b[0;34m=\u001b[0m\u001b[0mtimeout\u001b[0m\u001b[0;34m)\u001b[0m\u001b[0;34m\u001b[0m\u001b[0;34m\u001b[0m\u001b[0m\n\u001b[0m\u001b[1;32m     63\u001b[0m         \u001b[0mr\u001b[0m\u001b[0;34m.\u001b[0m\u001b[0mraise_for_status\u001b[0m\u001b[0;34m(\u001b[0m\u001b[0;34m)\u001b[0m\u001b[0;34m\u001b[0m\u001b[0;34m\u001b[0m\u001b[0m\n\u001b[1;32m     64\u001b[0m     \u001b[0;32mexcept\u001b[0m \u001b[0mrequests\u001b[0m\u001b[0;34m.\u001b[0m\u001b[0mexceptions\u001b[0m\u001b[0;34m.\u001b[0m\u001b[0mHTTPError\u001b[0m \u001b[0;32mas\u001b[0m \u001b[0me\u001b[0m\u001b[0;34m:\u001b[0m\u001b[0;34m\u001b[0m\u001b[0;34m\u001b[0m\u001b[0m\n",
      "\u001b[0;32m~/.virtualenvs/numerai/lib/python3.9/site-packages/requests/api.py\u001b[0m in \u001b[0;36mpost\u001b[0;34m(url, data, json, **kwargs)\u001b[0m\n\u001b[1;32m    117\u001b[0m     \"\"\"\n\u001b[1;32m    118\u001b[0m \u001b[0;34m\u001b[0m\u001b[0m\n\u001b[0;32m--> 119\u001b[0;31m     \u001b[0;32mreturn\u001b[0m \u001b[0mrequest\u001b[0m\u001b[0;34m(\u001b[0m\u001b[0;34m'post'\u001b[0m\u001b[0;34m,\u001b[0m \u001b[0murl\u001b[0m\u001b[0;34m,\u001b[0m \u001b[0mdata\u001b[0m\u001b[0;34m=\u001b[0m\u001b[0mdata\u001b[0m\u001b[0;34m,\u001b[0m \u001b[0mjson\u001b[0m\u001b[0;34m=\u001b[0m\u001b[0mjson\u001b[0m\u001b[0;34m,\u001b[0m \u001b[0;34m**\u001b[0m\u001b[0mkwargs\u001b[0m\u001b[0;34m)\u001b[0m\u001b[0;34m\u001b[0m\u001b[0;34m\u001b[0m\u001b[0m\n\u001b[0m\u001b[1;32m    120\u001b[0m \u001b[0;34m\u001b[0m\u001b[0m\n\u001b[1;32m    121\u001b[0m \u001b[0;34m\u001b[0m\u001b[0m\n",
      "\u001b[0;32m~/.virtualenvs/numerai/lib/python3.9/site-packages/requests/api.py\u001b[0m in \u001b[0;36mrequest\u001b[0;34m(method, url, **kwargs)\u001b[0m\n\u001b[1;32m     59\u001b[0m     \u001b[0;31m# cases, and look like a memory leak in others.\u001b[0m\u001b[0;34m\u001b[0m\u001b[0;34m\u001b[0m\u001b[0;34m\u001b[0m\u001b[0m\n\u001b[1;32m     60\u001b[0m     \u001b[0;32mwith\u001b[0m \u001b[0msessions\u001b[0m\u001b[0;34m.\u001b[0m\u001b[0mSession\u001b[0m\u001b[0;34m(\u001b[0m\u001b[0;34m)\u001b[0m \u001b[0;32mas\u001b[0m \u001b[0msession\u001b[0m\u001b[0;34m:\u001b[0m\u001b[0;34m\u001b[0m\u001b[0;34m\u001b[0m\u001b[0m\n\u001b[0;32m---> 61\u001b[0;31m         \u001b[0;32mreturn\u001b[0m \u001b[0msession\u001b[0m\u001b[0;34m.\u001b[0m\u001b[0mrequest\u001b[0m\u001b[0;34m(\u001b[0m\u001b[0mmethod\u001b[0m\u001b[0;34m=\u001b[0m\u001b[0mmethod\u001b[0m\u001b[0;34m,\u001b[0m \u001b[0murl\u001b[0m\u001b[0;34m=\u001b[0m\u001b[0murl\u001b[0m\u001b[0;34m,\u001b[0m \u001b[0;34m**\u001b[0m\u001b[0mkwargs\u001b[0m\u001b[0;34m)\u001b[0m\u001b[0;34m\u001b[0m\u001b[0;34m\u001b[0m\u001b[0m\n\u001b[0m\u001b[1;32m     62\u001b[0m \u001b[0;34m\u001b[0m\u001b[0m\n\u001b[1;32m     63\u001b[0m \u001b[0;34m\u001b[0m\u001b[0m\n",
      "\u001b[0;32m~/.virtualenvs/numerai/lib/python3.9/site-packages/requests/sessions.py\u001b[0m in \u001b[0;36m__exit__\u001b[0;34m(self, *args)\u001b[0m\n\u001b[1;32m    426\u001b[0m \u001b[0;34m\u001b[0m\u001b[0m\n\u001b[1;32m    427\u001b[0m     \u001b[0;32mdef\u001b[0m \u001b[0m__exit__\u001b[0m\u001b[0;34m(\u001b[0m\u001b[0mself\u001b[0m\u001b[0;34m,\u001b[0m \u001b[0;34m*\u001b[0m\u001b[0margs\u001b[0m\u001b[0;34m)\u001b[0m\u001b[0;34m:\u001b[0m\u001b[0;34m\u001b[0m\u001b[0;34m\u001b[0m\u001b[0m\n\u001b[0;32m--> 428\u001b[0;31m         \u001b[0mself\u001b[0m\u001b[0;34m.\u001b[0m\u001b[0mclose\u001b[0m\u001b[0;34m(\u001b[0m\u001b[0;34m)\u001b[0m\u001b[0;34m\u001b[0m\u001b[0;34m\u001b[0m\u001b[0m\n\u001b[0m\u001b[1;32m    429\u001b[0m \u001b[0;34m\u001b[0m\u001b[0m\n\u001b[1;32m    430\u001b[0m     \u001b[0;32mdef\u001b[0m \u001b[0mprepare_request\u001b[0m\u001b[0;34m(\u001b[0m\u001b[0mself\u001b[0m\u001b[0;34m,\u001b[0m \u001b[0mrequest\u001b[0m\u001b[0;34m)\u001b[0m\u001b[0;34m:\u001b[0m\u001b[0;34m\u001b[0m\u001b[0;34m\u001b[0m\u001b[0m\n",
      "\u001b[0;32m~/.virtualenvs/numerai/lib/python3.9/site-packages/requests/sessions.py\u001b[0m in \u001b[0;36mclose\u001b[0;34m(self)\u001b[0m\n\u001b[1;32m    745\u001b[0m         \u001b[0;34m\"\"\"Closes all adapters and as such the session\"\"\"\u001b[0m\u001b[0;34m\u001b[0m\u001b[0;34m\u001b[0m\u001b[0m\n\u001b[1;32m    746\u001b[0m         \u001b[0;32mfor\u001b[0m \u001b[0mv\u001b[0m \u001b[0;32min\u001b[0m \u001b[0mself\u001b[0m\u001b[0;34m.\u001b[0m\u001b[0madapters\u001b[0m\u001b[0;34m.\u001b[0m\u001b[0mvalues\u001b[0m\u001b[0;34m(\u001b[0m\u001b[0;34m)\u001b[0m\u001b[0;34m:\u001b[0m\u001b[0;34m\u001b[0m\u001b[0;34m\u001b[0m\u001b[0m\n\u001b[0;32m--> 747\u001b[0;31m             \u001b[0mv\u001b[0m\u001b[0;34m.\u001b[0m\u001b[0mclose\u001b[0m\u001b[0;34m(\u001b[0m\u001b[0;34m)\u001b[0m\u001b[0;34m\u001b[0m\u001b[0;34m\u001b[0m\u001b[0m\n\u001b[0m\u001b[1;32m    748\u001b[0m \u001b[0;34m\u001b[0m\u001b[0m\n\u001b[1;32m    749\u001b[0m     \u001b[0;32mdef\u001b[0m \u001b[0mmount\u001b[0m\u001b[0;34m(\u001b[0m\u001b[0mself\u001b[0m\u001b[0;34m,\u001b[0m \u001b[0mprefix\u001b[0m\u001b[0;34m,\u001b[0m \u001b[0madapter\u001b[0m\u001b[0;34m)\u001b[0m\u001b[0;34m:\u001b[0m\u001b[0;34m\u001b[0m\u001b[0;34m\u001b[0m\u001b[0m\n",
      "\u001b[0;32m~/.virtualenvs/numerai/lib/python3.9/site-packages/requests/adapters.py\u001b[0m in \u001b[0;36mclose\u001b[0;34m(self)\u001b[0m\n\u001b[1;32m    323\u001b[0m         \u001b[0mwhich\u001b[0m \u001b[0mcloses\u001b[0m \u001b[0many\u001b[0m \u001b[0mpooled\u001b[0m \u001b[0mconnections\u001b[0m\u001b[0;34m.\u001b[0m\u001b[0;34m\u001b[0m\u001b[0;34m\u001b[0m\u001b[0m\n\u001b[1;32m    324\u001b[0m         \"\"\"\n\u001b[0;32m--> 325\u001b[0;31m         \u001b[0mself\u001b[0m\u001b[0;34m.\u001b[0m\u001b[0mpoolmanager\u001b[0m\u001b[0;34m.\u001b[0m\u001b[0mclear\u001b[0m\u001b[0;34m(\u001b[0m\u001b[0;34m)\u001b[0m\u001b[0;34m\u001b[0m\u001b[0;34m\u001b[0m\u001b[0m\n\u001b[0m\u001b[1;32m    326\u001b[0m         \u001b[0;32mfor\u001b[0m \u001b[0mproxy\u001b[0m \u001b[0;32min\u001b[0m \u001b[0mself\u001b[0m\u001b[0;34m.\u001b[0m\u001b[0mproxy_manager\u001b[0m\u001b[0;34m.\u001b[0m\u001b[0mvalues\u001b[0m\u001b[0;34m(\u001b[0m\u001b[0;34m)\u001b[0m\u001b[0;34m:\u001b[0m\u001b[0;34m\u001b[0m\u001b[0;34m\u001b[0m\u001b[0m\n\u001b[1;32m    327\u001b[0m             \u001b[0mproxy\u001b[0m\u001b[0;34m.\u001b[0m\u001b[0mclear\u001b[0m\u001b[0;34m(\u001b[0m\u001b[0;34m)\u001b[0m\u001b[0;34m\u001b[0m\u001b[0;34m\u001b[0m\u001b[0m\n",
      "\u001b[0;32m~/.virtualenvs/numerai/lib/python3.9/site-packages/urllib3/poolmanager.py\u001b[0m in \u001b[0;36mclear\u001b[0;34m(self)\u001b[0m\n\u001b[1;32m    220\u001b[0m         \u001b[0mre\u001b[0m\u001b[0;34m-\u001b[0m\u001b[0mused\u001b[0m \u001b[0mafter\u001b[0m \u001b[0mcompletion\u001b[0m\u001b[0;34m.\u001b[0m\u001b[0;34m\u001b[0m\u001b[0;34m\u001b[0m\u001b[0m\n\u001b[1;32m    221\u001b[0m         \"\"\"\n\u001b[0;32m--> 222\u001b[0;31m         \u001b[0mself\u001b[0m\u001b[0;34m.\u001b[0m\u001b[0mpools\u001b[0m\u001b[0;34m.\u001b[0m\u001b[0mclear\u001b[0m\u001b[0;34m(\u001b[0m\u001b[0;34m)\u001b[0m\u001b[0;34m\u001b[0m\u001b[0;34m\u001b[0m\u001b[0m\n\u001b[0m\u001b[1;32m    223\u001b[0m \u001b[0;34m\u001b[0m\u001b[0m\n\u001b[1;32m    224\u001b[0m     \u001b[0;32mdef\u001b[0m \u001b[0mconnection_from_host\u001b[0m\u001b[0;34m(\u001b[0m\u001b[0mself\u001b[0m\u001b[0;34m,\u001b[0m \u001b[0mhost\u001b[0m\u001b[0;34m,\u001b[0m \u001b[0mport\u001b[0m\u001b[0;34m=\u001b[0m\u001b[0;32mNone\u001b[0m\u001b[0;34m,\u001b[0m \u001b[0mscheme\u001b[0m\u001b[0;34m=\u001b[0m\u001b[0;34m\"http\"\u001b[0m\u001b[0;34m,\u001b[0m \u001b[0mpool_kwargs\u001b[0m\u001b[0;34m=\u001b[0m\u001b[0;32mNone\u001b[0m\u001b[0;34m)\u001b[0m\u001b[0;34m:\u001b[0m\u001b[0;34m\u001b[0m\u001b[0;34m\u001b[0m\u001b[0m\n",
      "\u001b[0;32m~/.virtualenvs/numerai/lib/python3.9/site-packages/urllib3/_collections.py\u001b[0m in \u001b[0;36mclear\u001b[0;34m(self)\u001b[0m\n\u001b[1;32m     98\u001b[0m         \u001b[0;32mif\u001b[0m \u001b[0mself\u001b[0m\u001b[0;34m.\u001b[0m\u001b[0mdispose_func\u001b[0m\u001b[0;34m:\u001b[0m\u001b[0;34m\u001b[0m\u001b[0;34m\u001b[0m\u001b[0m\n\u001b[1;32m     99\u001b[0m             \u001b[0;32mfor\u001b[0m \u001b[0mvalue\u001b[0m \u001b[0;32min\u001b[0m \u001b[0mvalues\u001b[0m\u001b[0;34m:\u001b[0m\u001b[0;34m\u001b[0m\u001b[0;34m\u001b[0m\u001b[0m\n\u001b[0;32m--> 100\u001b[0;31m                 \u001b[0mself\u001b[0m\u001b[0;34m.\u001b[0m\u001b[0mdispose_func\u001b[0m\u001b[0;34m(\u001b[0m\u001b[0mvalue\u001b[0m\u001b[0;34m)\u001b[0m\u001b[0;34m\u001b[0m\u001b[0;34m\u001b[0m\u001b[0m\n\u001b[0m\u001b[1;32m    101\u001b[0m \u001b[0;34m\u001b[0m\u001b[0m\n\u001b[1;32m    102\u001b[0m     \u001b[0;32mdef\u001b[0m \u001b[0mkeys\u001b[0m\u001b[0;34m(\u001b[0m\u001b[0mself\u001b[0m\u001b[0;34m)\u001b[0m\u001b[0;34m:\u001b[0m\u001b[0;34m\u001b[0m\u001b[0;34m\u001b[0m\u001b[0m\n",
      "\u001b[0;32m~/.virtualenvs/numerai/lib/python3.9/site-packages/urllib3/poolmanager.py\u001b[0m in \u001b[0;36m<lambda>\u001b[0;34m(p)\u001b[0m\n\u001b[1;32m    171\u001b[0m         \u001b[0mRequestMethods\u001b[0m\u001b[0;34m.\u001b[0m\u001b[0m__init__\u001b[0m\u001b[0;34m(\u001b[0m\u001b[0mself\u001b[0m\u001b[0;34m,\u001b[0m \u001b[0mheaders\u001b[0m\u001b[0;34m)\u001b[0m\u001b[0;34m\u001b[0m\u001b[0;34m\u001b[0m\u001b[0m\n\u001b[1;32m    172\u001b[0m         \u001b[0mself\u001b[0m\u001b[0;34m.\u001b[0m\u001b[0mconnection_pool_kw\u001b[0m \u001b[0;34m=\u001b[0m \u001b[0mconnection_pool_kw\u001b[0m\u001b[0;34m\u001b[0m\u001b[0;34m\u001b[0m\u001b[0m\n\u001b[0;32m--> 173\u001b[0;31m         \u001b[0mself\u001b[0m\u001b[0;34m.\u001b[0m\u001b[0mpools\u001b[0m \u001b[0;34m=\u001b[0m \u001b[0mRecentlyUsedContainer\u001b[0m\u001b[0;34m(\u001b[0m\u001b[0mnum_pools\u001b[0m\u001b[0;34m,\u001b[0m \u001b[0mdispose_func\u001b[0m\u001b[0;34m=\u001b[0m\u001b[0;32mlambda\u001b[0m \u001b[0mp\u001b[0m\u001b[0;34m:\u001b[0m \u001b[0mp\u001b[0m\u001b[0;34m.\u001b[0m\u001b[0mclose\u001b[0m\u001b[0;34m(\u001b[0m\u001b[0;34m)\u001b[0m\u001b[0;34m)\u001b[0m\u001b[0;34m\u001b[0m\u001b[0;34m\u001b[0m\u001b[0m\n\u001b[0m\u001b[1;32m    174\u001b[0m \u001b[0;34m\u001b[0m\u001b[0m\n\u001b[1;32m    175\u001b[0m         \u001b[0;31m# Locally set the pool classes and keys so other PoolManagers can\u001b[0m\u001b[0;34m\u001b[0m\u001b[0;34m\u001b[0m\u001b[0;34m\u001b[0m\u001b[0m\n",
      "\u001b[0;32m~/.virtualenvs/numerai/lib/python3.9/site-packages/urllib3/connectionpool.py\u001b[0m in \u001b[0;36mclose\u001b[0;34m(self)\u001b[0m\n\u001b[1;32m    489\u001b[0m             \u001b[0;32mwhile\u001b[0m \u001b[0;32mTrue\u001b[0m\u001b[0;34m:\u001b[0m\u001b[0;34m\u001b[0m\u001b[0;34m\u001b[0m\u001b[0m\n\u001b[1;32m    490\u001b[0m                 \u001b[0mconn\u001b[0m \u001b[0;34m=\u001b[0m \u001b[0mold_pool\u001b[0m\u001b[0;34m.\u001b[0m\u001b[0mget\u001b[0m\u001b[0;34m(\u001b[0m\u001b[0mblock\u001b[0m\u001b[0;34m=\u001b[0m\u001b[0;32mFalse\u001b[0m\u001b[0;34m)\u001b[0m\u001b[0;34m\u001b[0m\u001b[0;34m\u001b[0m\u001b[0m\n\u001b[0;32m--> 491\u001b[0;31m                 \u001b[0;32mif\u001b[0m \u001b[0mconn\u001b[0m\u001b[0;34m:\u001b[0m\u001b[0;34m\u001b[0m\u001b[0;34m\u001b[0m\u001b[0m\n\u001b[0m\u001b[1;32m    492\u001b[0m                     \u001b[0mconn\u001b[0m\u001b[0;34m.\u001b[0m\u001b[0mclose\u001b[0m\u001b[0;34m(\u001b[0m\u001b[0;34m)\u001b[0m\u001b[0;34m\u001b[0m\u001b[0;34m\u001b[0m\u001b[0m\n\u001b[1;32m    493\u001b[0m \u001b[0;34m\u001b[0m\u001b[0m\n",
      "\u001b[0;31mKeyboardInterrupt\u001b[0m: "
     ]
    }
   ],
   "source": [
    "# install\n",
    "!pip install --upgrade python-dotenv fastai numerapi\n",
    "\n",
    "# import dependencies\n",
    "import os\n",
    "from dotenv import load_dotenv, find_dotenv\n",
    "import pandas as pd\n",
    "import numpy as np\n",
    "import numerapi\n",
    "from fastai.tabular.all import *\n",
    "\n",
    "# Secrets setup\n",
    "dotenv_path = find_dotenv()\n",
    "load_dotenv(dotenv_path)\n",
    "public_key = os.environ.get(\"NUMERAI_PUBLIC_KEY\")\n",
    "private_key = os.environ.get(\"NUMERAI_PRIVATE_KEY\")\n",
    "\n",
    "napi = numerapi.NumerAPI(verbosity=\"info\", public_id=public_key, secret_key=private_key)\n",
    "napi.download_current_dataset(dest_path=\"../input/\", unzip=True)"
   ]
  },
  {
   "cell_type": "markdown",
   "id": "correct-norwegian",
   "metadata": {
    "id": "polar-encounter"
   },
   "source": [
    "## Data Setup"
   ]
  },
  {
   "cell_type": "code",
   "execution_count": null,
   "id": "suitable-stack",
   "metadata": {
    "colab": {
     "base_uri": "https://localhost:8080/",
     "height": 256
    },
    "id": "floral-senate",
    "outputId": "4e326f6a-5867-4ab0-c69e-6339b87524e9"
   },
   "outputs": [],
   "source": [
    "filename = \"../input/numerai_dataset_252/numerai_tournament_data.csv\"\n",
    "chunksize = 100000\n",
    "iter_csv = pd.read_csv(filename, iterator=True, chunksize=chunksize)\n",
    "val_df = pd.concat([chunk[chunk['data_type'] == 'validation'] for chunk in iter_csv])\n",
    "val_df.head()"
   ]
  },
  {
   "cell_type": "code",
   "execution_count": null,
   "id": "imperial-bench",
   "metadata": {
    "colab": {
     "base_uri": "https://localhost:8080/",
     "height": 256
    },
    "id": "illegal-bhutan",
    "outputId": "4b224e38-31d3-4b4c-8fc4-4e015dfe5906"
   },
   "outputs": [],
   "source": [
    "training_data = pd.read_csv(\"../input/numerai_dataset_252/numerai_training_data.csv\")\n",
    "training_data.head()"
   ]
  },
  {
   "cell_type": "code",
   "execution_count": null,
   "id": "animal-counter",
   "metadata": {
    "id": "swedish-bouquet"
   },
   "outputs": [],
   "source": [
    "training_data = pd.concat([training_data, val_df])\n",
    "training_data.reset_index(drop=True, inplace=True)"
   ]
  },
  {
   "cell_type": "code",
   "execution_count": null,
   "id": "reliable-encyclopedia",
   "metadata": {
    "id": "abstract-employer"
   },
   "outputs": [],
   "source": [
    "feature_cols = training_data.columns[training_data.columns.str.startswith('feature')]\n",
    "target_cols = ['target']"
   ]
  },
  {
   "cell_type": "code",
   "execution_count": null,
   "id": "cardiac-mambo",
   "metadata": {
    "id": "governmental-humor"
   },
   "outputs": [],
   "source": [
    "train_idx, test_idx = training_data.index[training_data.data_type=='train'].tolist(),training_data.index[training_data.data_type=='validation'].tolist()\n",
    "splits = (list(train_idx), list(test_idx))\n",
    "#train_idx, test_idx"
   ]
  },
  {
   "cell_type": "code",
   "execution_count": null,
   "id": "nuclear-sunset",
   "metadata": {
    "colab": {
     "base_uri": "https://localhost:8080/"
    },
    "id": "acceptable-jungle",
    "outputId": "d7a198ab-b40f-4606-8697-05bc8a2708e9"
   },
   "outputs": [],
   "source": [
    "categorical = ['era']\n",
    "data = TabularPandas(training_data, cat_names=None,\n",
    "                    cont_names=list(feature_cols.values),\n",
    "                    y_names=target_cols, splits = splits)\n",
    "len(data.train), len(data.valid)"
   ]
  },
  {
   "cell_type": "code",
   "execution_count": null,
   "id": "descending-kenya",
   "metadata": {
    "id": "published-philippines"
   },
   "outputs": [],
   "source": [
    "dls = data.dataloaders()"
   ]
  },
  {
   "cell_type": "code",
   "execution_count": null,
   "id": "suffering-desire",
   "metadata": {
    "id": "revolutionary-western"
   },
   "outputs": [],
   "source": [
    "learn = tabular_learner(dls, layers=[200,100],\n",
    "                        loss_func=MSELossFlat(),\n",
    "                        metrics = [PearsonCorrCoef()])\n",
    "#learn.lr_find()"
   ]
  },
  {
   "cell_type": "code",
   "execution_count": null,
   "id": "offensive-alfred",
   "metadata": {
    "colab": {
     "base_uri": "https://localhost:8080/",
     "height": 81
    },
    "id": "still-refund",
    "outputId": "99dee285-96f2-457d-8ddf-493aa6040b50"
   },
   "outputs": [],
   "source": [
    "learn.fit_one_cycle(1, wd = 2)"
   ]
  },
  {
   "cell_type": "code",
   "execution_count": null,
   "id": "assured-protocol",
   "metadata": {
    "colab": {
     "base_uri": "https://localhost:8080/",
     "height": 265
    },
    "id": "french-belief",
    "outputId": "843f9c19-6db8-428f-99a0-1619b19bf4b2"
   },
   "outputs": [],
   "source": [
    "learn.recorder.plot_loss(skip_start = 500)"
   ]
  },
  {
   "cell_type": "code",
   "execution_count": null,
   "id": "timely-foster",
   "metadata": {
    "id": "sunset-honolulu",
    "outputId": "c1a13b3b-e381-4c24-b1c6-2cb629335a96"
   },
   "outputs": [],
   "source": [
    "from scipy.stats import spearmanr\n",
    "  \n",
    "def sharpe(df: pd.DataFrame) -> np.float32:\n",
    "    \"\"\"\n",
    "    Calculate the Sharpe ratio by using grouped per-era data\n",
    "    :param df: A Pandas DataFrame containing the columns \"era\", \"target\" and \"prediction\"\n",
    "    :return: The Sharpe ratio for your predictions.\n",
    "    \"\"\"\n",
    "    def _score(sub_df: pd.DataFrame) -> np.float32:\n",
    "        \"\"\" Calculate Spearman correlation for Pandas' apply method \"\"\"\n",
    "        return spearmanr(sub_df[\"target\"],  sub_df[\"prediction\"])[0]\n",
    "    corrs = df.groupby(\"era\").apply(_score)\n",
    "    return corrs.mean() / corrs.std()\n",
    "\n",
    "# Would like to make this a metric that can be tracked with\n",
    "# fastai but am not sure how.\n",
    "prediction, target = learn.get_preds()\n",
    "prediction = prediction.numpy().squeeze()\n",
    "target = target.numpy().squeeze()\n",
    "prediction, target\n",
    "\n",
    "era = dls.valid_ds.items['era']\n",
    "eval_df = pd.DataFrame({'prediction':prediction, 'target':target, 'era':era}).reset_index()\n",
    "spearmanr(eval_df.target, eval_df.prediction)\n",
    "\n",
    "sharpe(eval_df)"
   ]
  },
  {
   "cell_type": "code",
   "execution_count": null,
   "id": "selective-sessions",
   "metadata": {
    "id": "lRHX2Dd2eyz6"
   },
   "outputs": [],
   "source": [
    "class FastSubmission:\n",
    "  '''Class for generating numerai submissions from fastai learners'''\n",
    "\n",
    "  def __init__(self, dls, learner, filename, #test_features,\n",
    "               chunk:bool = True, chunksize:int = 60000,\n",
    "               debug:bool = False, numerapi=napi,\n",
    "               outpath = Path(\"../output/\")):\n",
    "    self.dls = dls\n",
    "    self.learn = learner\n",
    "    self.chunk = True\n",
    "    self.chunksize = chunksize\n",
    "    #self.test_features = test_features\n",
    "    self.filename = filename\n",
    "    self.debug = debug\n",
    "    self.napi = numerapi\n",
    "    self.outpath = outpath\n",
    "\n",
    "  def get_preds_and_ids(self, data_subset):\n",
    "    data_subset.drop(columns = 'target', inplace = True)\n",
    "    test_dl = self.dls.test_dl(data_subset) #[self.test_features]\n",
    "    preds_out,_ = self.learn.get_preds(dl = test_dl, inner = True)\n",
    "    preds_out = preds_out.tolist()\n",
    "    preds_out = [item for sublist in preds_out for item in sublist]\n",
    "\n",
    "    ids_out = data_subset[\"id\"]\n",
    "    return(preds_out, ids_out)\n",
    "  \n",
    "  def get_predictions(self):\n",
    "    out_list = []\n",
    "    if self.chunk:\n",
    "      iter_csv = pd.read_csv(self.filename, iterator=True,\n",
    "                             chunksize=self.chunksize)\n",
    "      out_list.extend(self.get_preds_and_ids(x) for x in iter_csv)\n",
    "    else:\n",
    "      pred_data = pd.read_csv(self.filename)\n",
    "      out_list.extend(self.get_preds_and_ids(pred_data))\n",
    "    \n",
    "    preds = []\n",
    "    ids = []\n",
    "    preds.extend(x[0] for x in out_list)\n",
    "    preds_out = [item for sublist in preds for item in sublist]\n",
    "    ids.extend(x[1] for x in out_list)\n",
    "    ids_out = [item for sublist in ids for item in sublist]\n",
    "\n",
    "    predictions_df = pd.DataFrame({\n",
    "    'id':ids_out,\n",
    "    'prediction_kazutsugi':preds_out\n",
    "    }) \n",
    "\n",
    "    self.predictions = predictions_df\n",
    "    return(predictions_df)\n",
    "  \n",
    "  def save_predictions(self):\n",
    "    try:\n",
    "      self.predictions\n",
    "    except AttributeError:\n",
    "      print(\"No predictions to save.\\nRemember to run get_predictions first\")\n",
    "    else:\n",
    "      print(\"Saving Predictions...\\n\")\n",
    "      if ~((self.outpath).exists()):\n",
    "        self.outpath.mkdir()\n",
    "      self.predictions.to_csv(self.outpath/ \"predictions.csv\", index=False)\n",
    "\n",
    "\n",
    "  def submit(self):\n",
    "    try:\n",
    "      self.predictions\n",
    "    except AttributeError:\n",
    "      print(\"No predictions to submit.\\nRemember to run get_predictions first!\")\n",
    "    else:\n",
    "      if ~((self.outpath / \"predictions.csv\").exists()):\n",
    "        self.save_predictions()\n",
    "      print(\"Submitting Predictions...\\n\")\n",
    "      self.napi.upload_predictions(self.outpath / \"predictions.csv\",\n",
    "                              model_id=os.environ.get(\"NUMERAI_MODEL_ID\"))"
   ]
  },
  {
   "cell_type": "code",
   "execution_count": null,
   "id": "hungry-chick",
   "metadata": {
    "id": "RZ7YsaUFj93k"
   },
   "outputs": [],
   "source": [
    "subtest = FastSubmission(dls = dls, learner=learn, chunk=True,\n",
    "                         chunksize = 100000,\n",
    "                         filename = \"../input/numerai_dataset_252/numerai_tournament_data.csv\")"
   ]
  },
  {
   "cell_type": "code",
   "execution_count": null,
   "id": "faced-negotiation",
   "metadata": {
    "colab": {
     "base_uri": "https://localhost:8080/",
     "height": 424
    },
    "id": "JcE-NXv9pt1D",
    "outputId": "456c1d84-c89a-4dfa-ac0b-64f122db8cc7"
   },
   "outputs": [],
   "source": [
    "subtest.get_predictions()"
   ]
  },
  {
   "cell_type": "code",
   "execution_count": null,
   "id": "decimal-gibraltar",
   "metadata": {
    "colab": {
     "base_uri": "https://localhost:8080/",
     "height": 418
    },
    "id": "KiS1ORPF2dOc",
    "outputId": "b5d9ab84-0be6-43a5-cef7-d7193a6eb016"
   },
   "outputs": [],
   "source": [
    "subtest.submit()"
   ]
  },
  {
   "cell_type": "code",
   "execution_count": null,
   "id": "behavioral-domain",
   "metadata": {
    "colab": {
     "base_uri": "https://localhost:8080/",
     "height": 206
    },
    "id": "GrnK-a98yQch",
    "outputId": "2f2f7706-af5b-4eb5-fac6-2dd46642086a"
   },
   "outputs": [],
   "source": [
    "predictions_df = pd.DataFrame({\n",
    "    'id':ids_out,\n",
    "    'prediction_kazutsugi':preds_out\n",
    "})\n",
    "predictions_df.head()"
   ]
  },
  {
   "cell_type": "code",
   "execution_count": null,
   "id": "residential-request",
   "metadata": {
    "colab": {
     "base_uri": "https://localhost:8080/",
     "height": 554
    },
    "id": "3RjKdAcboe3R",
    "outputId": "b47ae04b-7d79-4992-9f2d-3e69b1022d2e"
   },
   "outputs": [],
   "source": [
    "data = pd.DataFrame(testsub, columns =['prediction_kazutsugi', 'ids'])\n",
    "data.head()\n",
    "#len(testsub[0][1])"
   ]
  },
  {
   "cell_type": "code",
   "execution_count": null,
   "id": "urban-superior",
   "metadata": {
    "colab": {
     "base_uri": "https://localhost:8080/",
     "height": 238
    },
    "id": "military-captain",
    "outputId": "07f2ed88-37f5-42a0-eae2-5e9cdc717a67"
   },
   "outputs": [],
   "source": [
    "ids = []\n",
    "preds = []\n",
    "\n",
    "filename = \"../input/numerai_dataset_252/numerai_tournament_data.csv\"\n",
    "chunksize = 100000\n",
    "with pd.read_csv(filename, chunksize=chunksize) as reader:\n",
    "    for chunk in reader:\n",
    "        chunk.target = None\n",
    "        test_dl = dls.test_dl(chunk[feature_cols])\n",
    "        out,_ = learn.get_preds(dl=test_dl, inner=True)\n",
    "        #test_df = chunk[feature_cols]\n",
    "        #preds = learn.pred_batch(test_df)\n",
    "        out = out.tolist()\n",
    "        ids.extend(chunk[\"id\"])\n",
    "        preds.extend(out)"
   ]
  },
  {
   "cell_type": "code",
   "execution_count": null,
   "id": "metric-armor",
   "metadata": {
    "id": "durable-vacuum",
    "outputId": "0d92109c-fb2e-42b7-92d1-13343e7a80f2"
   },
   "outputs": [],
   "source": [
    "len(preds)"
   ]
  },
  {
   "cell_type": "code",
   "execution_count": null,
   "id": "bottom-honduras",
   "metadata": {
    "id": "neutral-scottish"
   },
   "outputs": [],
   "source": [
    "preds = [item for sublist in preds for item in sublist]"
   ]
  },
  {
   "cell_type": "code",
   "execution_count": null,
   "id": "satellite-sandwich",
   "metadata": {
    "id": "prompt-philip",
    "outputId": "dacc0ce5-b69f-4e8e-bcab-2605d85ea5e2"
   },
   "outputs": [],
   "source": [
    "preds[0:10], ids[0:10], len(preds), len(ids)"
   ]
  },
  {
   "cell_type": "code",
   "execution_count": null,
   "id": "monetary-carnival",
   "metadata": {
    "id": "injured-alexandria",
    "outputId": "145bd15e-0d0e-4a37-8d8a-cd99aae9ca41"
   },
   "outputs": [],
   "source": [
    "# predictions must have an `id` column and a `prediction_kazutsugi` column\n",
    "predictions_df = pd.DataFrame({\n",
    "    'id':ids,\n",
    "    'prediction_kazutsugi':preds\n",
    "})\n",
    "predictions_df.head()"
   ]
  },
  {
   "cell_type": "code",
   "execution_count": null,
   "id": "social-belize",
   "metadata": {
    "id": "demonstrated-criterion",
    "outputId": "bad30c26-2e54-42af-b335-8b58d603e2f3"
   },
   "outputs": [],
   "source": [
    "predictions_df.to_csv(\"../output/predictions.csv\", index=False)\n",
    "# Upload predictions\n",
    "submission_id = napi.upload_predictions(\"../output/predictions.csv\",\n",
    "                                        model_id=os.environ.get(\"NUMERAI_MODEL_ID\"))"
   ]
  },
  {
   "cell_type": "code",
   "execution_count": null,
   "id": "assumed-balloon",
   "metadata": {
    "id": "built-planner"
   },
   "outputs": [],
   "source": []
  }
 ],
 "metadata": {
  "accelerator": "GPU",
  "colab": {
   "include_colab_link": true,
   "name": "fastai_tabular.ipynb",
   "provenance": [],
   "toc_visible": true
  },
  "kernelspec": {
   "display_name": "numerai",
   "language": "python",
   "name": "numerai"
  },
  "language_info": {
   "codemirror_mode": {
    "name": "ipython",
    "version": 3
   },
   "file_extension": ".py",
   "mimetype": "text/x-python",
   "name": "python",
   "nbconvert_exporter": "python",
   "pygments_lexer": "ipython3",
   "version": "3.9.2"
  },
  "toc-showmarkdowntxt": false
 },
 "nbformat": 4,
 "nbformat_minor": 5
}
