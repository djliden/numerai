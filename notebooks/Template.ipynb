{
 "cells": [
  {
   "cell_type": "markdown",
   "id": "brief-biodiversity",
   "metadata": {},
   "source": [
    "# Introduction\n",
    "\n",
    "Previous iterations of this project attempted to reduce everything to a single command-line script that could read a configuration file, run the corresponding model or models, out output the results.\n",
    "\n",
    "This notebook takes a different approach. It loads and uses some of the utiltiies for e.g. loading data, making submissions, computing metrics, and handling configurations, but the training loop should be defined fully in the notebook. This will allow for faster iteration and more transparent model comparison. Models to be consistently re-used can be repackaged to run from the command line if that would be beneficial.\n",
    "\n",
    "## Imports and Setup"
   ]
  },
  {
   "cell_type": "code",
   "execution_count": 29,
   "id": "turkish-laundry",
   "metadata": {},
   "outputs": [
    {
     "name": "stdout",
     "output_type": "stream",
     "text": [
      "Collecting git+https://github.com/djliden/config-nest.git\n",
      "  Cloning https://github.com/djliden/config-nest.git to /tmp/pip-req-build-qdwvjz3y\n",
      "  Running command git clone -q https://github.com/djliden/config-nest.git /tmp/pip-req-build-qdwvjz3y\n",
      "Requirement already satisfied: pyyaml in /home/djliden91/.virtualenvs/numerai/lib/python3.9/site-packages (from confignest==0.0.1) (5.4.1)\n"
     ]
    }
   ],
   "source": [
    "import os\n",
    "from pathlib import Path\n",
    "if Path().resolve().name != 'numerai':\n",
    "    os.chdir(Path().resolve().parent)\n",
    "\n",
    "!pip install git+https://github.com/djliden/config-nest.git\n",
    "\n",
    "import confignest.confignest\n",
    "from pathlib import Path\n",
    "import pandas as pd\n",
    "import numpy as np\n",
    "import time\n",
    "from importlib import import_module\n",
    "from tqdm import tqdm\n",
    "\n",
    "import src.utils.setup\n",
    "import src.utils.cross_val\n",
    "import src.utils.eval\n",
    "import src.utils.metrics\n",
    "import gc\n",
    "np.random.seed(623)    "
   ]
  },
  {
   "cell_type": "markdown",
   "id": "taken-baltimore",
   "metadata": {},
   "source": [
    "## NumerAPI setup and Data Download"
   ]
  },
  {
   "cell_type": "code",
   "execution_count": 16,
   "id": "native-calcium",
   "metadata": {},
   "outputs": [
    {
     "name": "stdout",
     "output_type": "stream",
     "text": [
      "Loaded Numerai Public Key into Global Environment!\n",
      "Loaded Numerai Secret Key into Global Environment!\n"
     ]
    },
    {
     "name": "stderr",
     "output_type": "stream",
     "text": [
      "input/numerai_dataset_258.zip: 100%|█████████▉| 398M/398M [01:15<00:00, 6.49MB/s] 2021-04-06 14:56:16,038 INFO numerapi.base_api: unzipping file...\n"
     ]
    },
    {
     "name": "stdout",
     "output_type": "stream",
     "text": [
      "Loading the pickled training data from file\n",
      "\n"
     ]
    },
    {
     "name": "stderr",
     "output_type": "stream",
     "text": [
      "input/numerai_dataset_258.zip: 398MB [01:30, 6.49MB/s]                           "
     ]
    }
   ],
   "source": [
    "src.utils.setup.credential()\n",
    "napi = src.utils.setup.init_numerapi()\n",
    "\n",
    "round = napi.get_current_round()\n",
    "train = Path(f\"./input/numerai_dataset_{round}/numerai_training_data.csv\")\n",
    "tourn = Path(f\"./input/numerai_dataset_{round}/numerai_tournament_data.csv\")\n",
    "processed = Path('./input/training_processed.csv')\n",
    "processed_pkl = Path('./input/training_processed.pkl')\n",
    "output = Path(\"./output/\")\n",
    "\n",
    "src.utils.setup.download_current(napi=napi)\n",
    "training_data, feature_cols, target_cols = src.utils.setup.process_current(processed,\n",
    "                                                           processed_pkl, train, tourn)"
   ]
  },
  {
   "cell_type": "markdown",
   "id": "billion-address",
   "metadata": {},
   "source": [
    "## Initial Configuration Setup"
   ]
  },
  {
   "cell_type": "code",
   "execution_count": 15,
   "id": "unknown-shoulder",
   "metadata": {},
   "outputs": [
    {
     "data": {
      "text/plain": [
       "Config Object with Keys:\n",
       "CV:\n",
       "  GAP: 0\n",
       "  TRAIN_START: 0\n",
       "  TRAIN_STOP: null\n",
       "  VAL_END: 210\n",
       "  VAL_N_ERAS: 4\n",
       "  VAL_START: 206\n",
       "DATA:\n",
       "  REFRESH: false\n",
       "  SAVE_PROCESSED_TRAIN: true\n",
       "EVAL:\n",
       "  CHUNK_SIZE: 1000000\n",
       "  SAVE_PREDS: true\n",
       "  SUBMIT_PREDS: false\n",
       "SYSTEM:\n",
       "  DEBUG: false"
      ]
     },
     "execution_count": 15,
     "metadata": {},
     "output_type": "execute_result"
    }
   ],
   "source": [
    "default_config = Path(\"./src/config/default_config.yaml\")\n",
    "cfg = confignest.confignest.Config(default_config)\n",
    "cfg"
   ]
  },
  {
   "cell_type": "markdown",
   "id": "varying-accused",
   "metadata": {},
   "source": [
    "# Model Definition\n",
    "This involves two components: the \"default\" model configuration and the definition of the model itself. In this case, we'll look at a Lasso model (to continue exploring the unreasonably good effectiveness of these models)."
   ]
  },
  {
   "cell_type": "code",
   "execution_count": 36,
   "id": "little-peninsula",
   "metadata": {},
   "outputs": [
    {
     "data": {
      "text/plain": [
       "Config Object with Keys:\n",
       "alpha: 0.0005\n",
       "mod: Lasso"
      ]
     },
     "execution_count": 36,
     "metadata": {},
     "output_type": "execute_result"
    }
   ],
   "source": [
    "# Model Configuration\n",
    "mod_cfg = {'MODEL': {\n",
    "    'mod': 'Lasso',\n",
    "    'alpha': .0005\n",
    "}}\n",
    "cfg.update_config(mod_cfg)\n",
    "cfg.MODEL"
   ]
  },
  {
   "cell_type": "code",
   "execution_count": 47,
   "id": "unique-secret",
   "metadata": {},
   "outputs": [],
   "source": [
    "# Model Definition\n",
    "import sklearn.linear_model\n",
    "mod = getattr(sklearn.linear_model, cfg.MODEL.mod)(alpha=cfg.MODEL.alpha)"
   ]
  },
  {
   "cell_type": "markdown",
   "id": "racial-montreal",
   "metadata": {},
   "source": [
    "# Training Loop\n",
    "Similarly, the training loop has (or can have) its own configuration. Though it might be more convenient to keep this outside the configuration. It depends."
   ]
  },
  {
   "cell_type": "code",
   "execution_count": 43,
   "id": "celtic-aside",
   "metadata": {},
   "outputs": [
    {
     "data": {
      "text/plain": [
       "Config Object with Keys:\n",
       "GAP: 0\n",
       "TRAIN_START: 0\n",
       "TRAIN_STOP: 120\n",
       "VAL_END: 210\n",
       "VAL_N_ERAS: 4\n",
       "VAL_START: 206"
      ]
     },
     "execution_count": 43,
     "metadata": {},
     "output_type": "execute_result"
    }
   ],
   "source": [
    "cv_config = {'CV': {\n",
    "    'TRAIN_STOP': 120\n",
    "}}\n",
    "cfg.update_config(cv_config)\n",
    "cfg.CV"
   ]
  },
  {
   "cell_type": "code",
   "execution_count": 62,
   "id": "indonesian-device",
   "metadata": {},
   "outputs": [],
   "source": [
    "# Sweep\n",
    "from sklearn.model_selection import ParameterGrid\n",
    "param_grid = {\n",
    "    'alpha': np.linspace(.0001, .001, 10),\n",
    "    'mod': ['Lasso', 'Ridge'] \n",
    "}"
   ]
  },
  {
   "cell_type": "code",
   "execution_count": 108,
   "id": "separate-cabin",
   "metadata": {},
   "outputs": [
    {
     "name": "stderr",
     "output_type": "stream",
     "text": [
      "100%|██████████| 1/1 [00:06<00:00,  6.25s/it]\n",
      "  0%|          | 0/1 [00:00<?, ?it/s]"
     ]
    },
    {
     "name": "stdout",
     "output_type": "stream",
     "text": [
      "\n",
      "model: Lasso\n",
      "alpha: 0.0001\n",
      "mean validation corr: 0.003767937955538562\n",
      "mean validation sharpe: 0.08156784526645254\n"
     ]
    },
    {
     "name": "stderr",
     "output_type": "stream",
     "text": [
      "100%|██████████| 1/1 [00:01<00:00,  1.74s/it]\n",
      "  0%|          | 0/1 [00:00<?, ?it/s]"
     ]
    },
    {
     "name": "stdout",
     "output_type": "stream",
     "text": [
      "\n",
      "model: Ridge\n",
      "alpha: 0.0001\n",
      "mean validation corr: 0.005278566696775655\n",
      "mean validation sharpe: 0.13240229973041368\n"
     ]
    },
    {
     "name": "stderr",
     "output_type": "stream",
     "text": [
      "100%|██████████| 1/1 [00:04<00:00,  4.78s/it]\n",
      "  0%|          | 0/1 [00:00<?, ?it/s]"
     ]
    },
    {
     "name": "stdout",
     "output_type": "stream",
     "text": [
      "\n",
      "model: Lasso\n",
      "alpha: 0.00019999999999999998\n",
      "mean validation corr: 0.003857938886777868\n",
      "mean validation sharpe: 0.07693783097693367\n"
     ]
    },
    {
     "name": "stderr",
     "output_type": "stream",
     "text": [
      "100%|██████████| 1/1 [00:01<00:00,  1.68s/it]\n",
      "  0%|          | 0/1 [00:00<?, ?it/s]"
     ]
    },
    {
     "name": "stdout",
     "output_type": "stream",
     "text": [
      "\n",
      "model: Ridge\n",
      "alpha: 0.00019999999999999998\n",
      "mean validation corr: 0.005278566696775655\n",
      "mean validation sharpe: 0.13240229973041368\n"
     ]
    },
    {
     "name": "stderr",
     "output_type": "stream",
     "text": [
      "100%|██████████| 1/1 [00:04<00:00,  4.41s/it]\n",
      "  0%|          | 0/1 [00:00<?, ?it/s]"
     ]
    },
    {
     "name": "stdout",
     "output_type": "stream",
     "text": [
      "\n",
      "model: Lasso\n",
      "alpha: 0.0003\n",
      "mean validation corr: 0.006476573489574136\n",
      "mean validation sharpe: 0.13253236270839683\n"
     ]
    },
    {
     "name": "stderr",
     "output_type": "stream",
     "text": [
      "100%|██████████| 1/1 [00:01<00:00,  1.67s/it]\n",
      "  0%|          | 0/1 [00:00<?, ?it/s]"
     ]
    },
    {
     "name": "stdout",
     "output_type": "stream",
     "text": [
      "\n",
      "model: Ridge\n",
      "alpha: 0.0003\n",
      "mean validation corr: 0.005278566696775655\n",
      "mean validation sharpe: 0.13240229973041368\n"
     ]
    },
    {
     "name": "stderr",
     "output_type": "stream",
     "text": [
      "100%|██████████| 1/1 [00:04<00:00,  4.42s/it]\n",
      "  0%|          | 0/1 [00:00<?, ?it/s]"
     ]
    },
    {
     "name": "stdout",
     "output_type": "stream",
     "text": [
      "\n",
      "model: Lasso\n",
      "alpha: 0.00039999999999999996\n",
      "mean validation corr: 0.00824856587997525\n",
      "mean validation sharpe: 0.17570614001928694\n"
     ]
    },
    {
     "name": "stderr",
     "output_type": "stream",
     "text": [
      "100%|██████████| 1/1 [00:01<00:00,  1.79s/it]\n",
      "  0%|          | 0/1 [00:00<?, ?it/s]"
     ]
    },
    {
     "name": "stdout",
     "output_type": "stream",
     "text": [
      "\n",
      "model: Ridge\n",
      "alpha: 0.00039999999999999996\n",
      "mean validation corr: 0.005278566696775655\n",
      "mean validation sharpe: 0.13240229973041368\n"
     ]
    },
    {
     "name": "stderr",
     "output_type": "stream",
     "text": [
      "100%|██████████| 1/1 [00:04<00:00,  4.44s/it]\n",
      "  0%|          | 0/1 [00:00<?, ?it/s]"
     ]
    },
    {
     "name": "stdout",
     "output_type": "stream",
     "text": [
      "\n",
      "model: Lasso\n",
      "alpha: 0.0005\n",
      "mean validation corr: 0.009094310924760311\n",
      "mean validation sharpe: 0.19224294034779724\n"
     ]
    },
    {
     "name": "stderr",
     "output_type": "stream",
     "text": [
      "100%|██████████| 1/1 [00:01<00:00,  1.73s/it]\n",
      "  0%|          | 0/1 [00:00<?, ?it/s]"
     ]
    },
    {
     "name": "stdout",
     "output_type": "stream",
     "text": [
      "\n",
      "model: Ridge\n",
      "alpha: 0.0005\n",
      "mean validation corr: 0.005278566696775655\n",
      "mean validation sharpe: 0.13240229973041368\n"
     ]
    },
    {
     "name": "stderr",
     "output_type": "stream",
     "text": [
      "100%|██████████| 1/1 [00:04<00:00,  4.10s/it]\n",
      "  0%|          | 0/1 [00:00<?, ?it/s]"
     ]
    },
    {
     "name": "stdout",
     "output_type": "stream",
     "text": [
      "\n",
      "model: Lasso\n",
      "alpha: 0.0006000000000000001\n",
      "mean validation corr: 0.008701314275919737\n",
      "mean validation sharpe: 0.18406534489031698\n"
     ]
    },
    {
     "name": "stderr",
     "output_type": "stream",
     "text": [
      "100%|██████████| 1/1 [00:01<00:00,  1.76s/it]\n",
      "  0%|          | 0/1 [00:00<?, ?it/s]"
     ]
    },
    {
     "name": "stdout",
     "output_type": "stream",
     "text": [
      "\n",
      "model: Ridge\n",
      "alpha: 0.0006000000000000001\n",
      "mean validation corr: 0.005278610014463591\n",
      "mean validation sharpe: 0.1324032907428277\n"
     ]
    },
    {
     "name": "stderr",
     "output_type": "stream",
     "text": [
      "100%|██████████| 1/1 [00:03<00:00,  3.99s/it]\n",
      "  0%|          | 0/1 [00:00<?, ?it/s]"
     ]
    },
    {
     "name": "stdout",
     "output_type": "stream",
     "text": [
      "\n",
      "model: Lasso\n",
      "alpha: 0.0007\n",
      "mean validation corr: 0.008115213283697102\n",
      "mean validation sharpe: 0.17353177602904765\n"
     ]
    },
    {
     "name": "stderr",
     "output_type": "stream",
     "text": [
      "100%|██████████| 1/1 [00:01<00:00,  1.73s/it]\n",
      "  0%|          | 0/1 [00:00<?, ?it/s]"
     ]
    },
    {
     "name": "stdout",
     "output_type": "stream",
     "text": [
      "\n",
      "model: Ridge\n",
      "alpha: 0.0007\n",
      "mean validation corr: 0.005278566672569067\n",
      "mean validation sharpe: 0.1324022991766202\n"
     ]
    },
    {
     "name": "stderr",
     "output_type": "stream",
     "text": [
      "100%|██████████| 1/1 [00:04<00:00,  4.07s/it]\n",
      "  0%|          | 0/1 [00:00<?, ?it/s]"
     ]
    },
    {
     "name": "stdout",
     "output_type": "stream",
     "text": [
      "\n",
      "model: Lasso\n",
      "alpha: 0.0007999999999999999\n",
      "mean validation corr: 0.006853109283287171\n",
      "mean validation sharpe: 0.14457702043028617\n"
     ]
    },
    {
     "name": "stderr",
     "output_type": "stream",
     "text": [
      "100%|██████████| 1/1 [00:01<00:00,  1.83s/it]\n",
      "  0%|          | 0/1 [00:00<?, ?it/s]"
     ]
    },
    {
     "name": "stdout",
     "output_type": "stream",
     "text": [
      "\n",
      "model: Ridge\n",
      "alpha: 0.0007999999999999999\n",
      "mean validation corr: 0.005278566672569067\n",
      "mean validation sharpe: 0.1324022991766202\n"
     ]
    },
    {
     "name": "stderr",
     "output_type": "stream",
     "text": [
      "100%|██████████| 1/1 [00:04<00:00,  4.05s/it]\n",
      "  0%|          | 0/1 [00:00<?, ?it/s]"
     ]
    },
    {
     "name": "stdout",
     "output_type": "stream",
     "text": [
      "\n",
      "model: Lasso\n",
      "alpha: 0.0009\n",
      "mean validation corr: 0.005624869644309747\n",
      "mean validation sharpe: 0.116456060346192\n"
     ]
    },
    {
     "name": "stderr",
     "output_type": "stream",
     "text": [
      "100%|██████████| 1/1 [00:01<00:00,  1.82s/it]\n",
      "  0%|          | 0/1 [00:00<?, ?it/s]"
     ]
    },
    {
     "name": "stdout",
     "output_type": "stream",
     "text": [
      "\n",
      "model: Ridge\n",
      "alpha: 0.0009\n",
      "mean validation corr: 0.005278566672569067\n",
      "mean validation sharpe: 0.1324022991766202\n"
     ]
    },
    {
     "name": "stderr",
     "output_type": "stream",
     "text": [
      "100%|██████████| 1/1 [00:04<00:00,  4.34s/it]\n",
      "  0%|          | 0/1 [00:00<?, ?it/s]"
     ]
    },
    {
     "name": "stdout",
     "output_type": "stream",
     "text": [
      "\n",
      "model: Lasso\n",
      "alpha: 0.001\n",
      "mean validation corr: 0.0054332948510329\n",
      "mean validation sharpe: 0.11787188761595681\n"
     ]
    },
    {
     "name": "stderr",
     "output_type": "stream",
     "text": [
      "100%|██████████| 1/1 [00:01<00:00,  1.78s/it]"
     ]
    },
    {
     "name": "stdout",
     "output_type": "stream",
     "text": [
      "\n",
      "model: Ridge\n",
      "alpha: 0.001\n",
      "mean validation corr: 0.005278582129013011\n",
      "mean validation sharpe: 0.13240301790409006\n"
     ]
    },
    {
     "name": "stderr",
     "output_type": "stream",
     "text": [
      "\n"
     ]
    }
   ],
   "source": [
    "era_split = src.utils.cross_val.EraCV(eras = training_data.era)\n",
    "\n",
    "X, y, era = training_data[feature_cols], training_data.target, training_data.era\n",
    "\n",
    "for params in ParameterGrid(param_grid):\n",
    "    corrs = []\n",
    "    sharpes = []\n",
    "    cfg.MODEL.alpha = params['alpha']\n",
    "    cfg.MODEL.mod = params['mod']\n",
    "    mod = getattr(sklearn.linear_model, cfg.MODEL.mod)(alpha=cfg.MODEL.alpha)\n",
    "\n",
    "    for valid_era in tqdm(range(208,209)):\n",
    "        train, test = era_split.get_splits(valid_start = valid_era,\n",
    "                                           valid_n_eras = 4,\n",
    "                                           train_start = cfg.CV.TRAIN_START,\n",
    "                                           train_stop = valid_era - 150)\n",
    "        mod.fit(X.iloc[train], y.iloc[train])\n",
    "        val_preds = mod.predict(X.iloc[test])\n",
    "        eval_df = pd.DataFrame({'prediction':val_preds,\n",
    "                            'target':y.iloc[test],\n",
    "                            'era':era.iloc[test]}).reset_index()\n",
    "        corrs.append(src.utils.metrics.val_corr(eval_df))\n",
    "        sharpes.append(src.utils.metrics.sharpe(eval_df))\n",
    "    print(f'\\nmodel: {mod.__class__.__name__}')\n",
    "    if mod.__class__.__name__!=\"LinearRegression\":\n",
    "        print(f'alpha: {mod.alpha}')\n",
    "    if mod.__class__.__name__==\"ElasticNet\":\n",
    "        print(f'L1 Ratio: {mod.l1_ratio}')\n",
    "    print(f'mean validation corr: {np.array(corrs).mean()}')\n",
    "    print(f'mean validation sharpe: {np.array(sharpes).mean()}')"
   ]
  },
  {
   "cell_type": "code",
   "execution_count": null,
   "id": "surface-register",
   "metadata": {},
   "outputs": [],
   "source": []
  },
  {
   "cell_type": "code",
   "execution_count": 99,
   "id": "ranking-evidence",
   "metadata": {},
   "outputs": [
    {
     "data": {
      "text/plain": [
       "PosixPath('output')"
      ]
     },
     "execution_count": 99,
     "metadata": {},
     "output_type": "execute_result"
    }
   ],
   "source": [
    "output"
   ]
  },
  {
   "cell_type": "code",
   "execution_count": 103,
   "id": "deluxe-world",
   "metadata": {},
   "outputs": [
    {
     "name": "stdout",
     "output_type": "stream",
     "text": [
      "MEAN_CORR: 0.005278582129013011\n",
      "MEAN_SHARPE: 0.13240301790409006\n",
      "alpha: 0.001\n",
      "mod: Ridge\n",
      "\n"
     ]
    }
   ],
   "source": [
    "cfg.LOG.dump_config(path = './output/logs/test.yaml')"
   ]
  },
  {
   "cell_type": "code",
   "execution_count": null,
   "id": "worthy-richards",
   "metadata": {},
   "outputs": [],
   "source": []
  }
 ],
 "metadata": {
  "kernelspec": {
   "display_name": "numerai",
   "language": "python",
   "name": "numerai"
  },
  "language_info": {
   "codemirror_mode": {
    "name": "ipython",
    "version": 3
   },
   "file_extension": ".py",
   "mimetype": "text/x-python",
   "name": "python",
   "nbconvert_exporter": "python",
   "pygments_lexer": "ipython3",
   "version": "3.9.2"
  }
 },
 "nbformat": 4,
 "nbformat_minor": 5
}
