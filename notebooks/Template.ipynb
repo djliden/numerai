{
 "cells": [
  {
   "cell_type": "markdown",
   "id": "convenient-nudist",
   "metadata": {},
   "source": [
    "# Introduction\n",
    "\n",
    "Previous iterations of this project attempted to reduce everything to a single command-line script that could read a configuration file, run the corresponding model or models, out output the results.\n",
    "\n",
    "This notebook takes a different approach. It loads and uses some of the utiltiies for e.g. loading data, making submissions, computing metrics, and handling configurations, but the training loop should be defined fully in the notebook. This will allow for faster iteration and more transparent model comparison. Models to be consistently re-used can be repackaged to run from the command line if that would be beneficial.\n",
    "\n",
    "## Imports and Setup"
   ]
  },
  {
   "cell_type": "code",
   "execution_count": 1,
   "id": "viral-amber",
   "metadata": {},
   "outputs": [
    {
     "name": "stdout",
     "output_type": "stream",
     "text": [
      "Collecting git+https://github.com/djliden/config-nest.git\n",
      "  Cloning https://github.com/djliden/config-nest.git to /tmp/pip-req-build-ig1rh1_j\n",
      "  Running command git clone -q https://github.com/djliden/config-nest.git /tmp/pip-req-build-ig1rh1_j\n",
      "Collecting pyyaml\n",
      "  Using cached PyYAML-5.4.1-cp39-cp39-manylinux1_x86_64.whl (630 kB)\n",
      "Building wheels for collected packages: confignest\n",
      "  Building wheel for confignest (setup.py) ... \u001b[?25ldone\n",
      "\u001b[?25h  Created wheel for confignest: filename=confignest-0.0.1-py3-none-any.whl size=4507 sha256=7482fcc340db5d60986d73d080f7d84b08fb24add37f08a7413af8dd142e0ab6\n",
      "  Stored in directory: /tmp/pip-ephem-wheel-cache-xpdivqdi/wheels/29/69/48/50dde3920f402fc55419a3f1320199ea8556e31ed2e41417a6\n",
      "Successfully built confignest\n",
      "Installing collected packages: pyyaml, confignest\n",
      "Successfully installed confignest-0.0.1 pyyaml-5.4.1\n"
     ]
    }
   ],
   "source": [
    "import copy\n",
    "import os\n",
    "from pathlib import Path\n",
    "if Path().resolve().name != 'numerai':\n",
    "    os.chdir(Path().resolve().parent)\n",
    "\n",
    "!pip install --upgrade -I git+https://github.com/djliden/config-nest.git\n",
    "\n",
    "import confignest.confignest\n",
    "from pathlib import Path\n",
    "import pandas as pd\n",
    "import numpy as np\n",
    "import time\n",
    "from importlib import import_module\n",
    "import time\n",
    "from tqdm import tqdm\n",
    "import yaml\n",
    "\n",
    "import src.utils.setup\n",
    "import src.utils.cross_val\n",
    "import src.utils.eval\n",
    "import src.utils.metrics\n",
    "import gc\n",
    "np.random.seed(623)    "
   ]
  },
  {
   "cell_type": "markdown",
   "id": "internal-pressing",
   "metadata": {},
   "source": [
    "## NumerAPI setup and Data Download"
   ]
  },
  {
   "cell_type": "code",
   "execution_count": 2,
   "id": "alien-finding",
   "metadata": {},
   "outputs": [
    {
     "name": "stdout",
     "output_type": "stream",
     "text": [
      "Loaded Numerai Public Key into Global Environment!\n",
      "Loaded Numerai Secret Key into Global Environment!\n",
      "The dataset has already been downloaded.\n",
      "You can re-download it with refresh = True\n",
      "Loading the pickled training data from file\n",
      "\n"
     ]
    }
   ],
   "source": [
    "src.utils.setup.credential()\n",
    "napi = src.utils.setup.init_numerapi()\n",
    "\n",
    "round = napi.get_current_round()\n",
    "train = Path(f\"./input/numerai_dataset_{round}/numerai_training_data.csv\")\n",
    "tourn = Path(f\"./input/numerai_dataset_{round}/numerai_tournament_data.csv\")\n",
    "processed = Path(f'./input/training_processed_{round}.csv')\n",
    "processed_pkl = Path(f'./input/training_processed_{round}.pkl')\n",
    "output = Path(\"./output/\")\n",
    "\n",
    "src.utils.setup.download_current(napi=napi)\n",
    "training_data, feature_cols, target_cols = src.utils.setup.process_current(processed,\n",
    "                                                           processed_pkl, train, tourn)"
   ]
  },
  {
   "cell_type": "markdown",
   "id": "cooperative-questionnaire",
   "metadata": {},
   "source": [
    "## Initial Configuration Setup"
   ]
  },
  {
   "cell_type": "code",
   "execution_count": 3,
   "id": "finite-blowing",
   "metadata": {},
   "outputs": [
    {
     "data": {
      "text/plain": [
       "Config Object with Keys:\n",
       "CV:\n",
       "  GAP: 0\n",
       "  TRAIN_START: 0\n",
       "  TRAIN_STOP: null\n",
       "  VAL_END: 210\n",
       "  VAL_N_ERAS: 4\n",
       "  VAL_START: 206\n",
       "DATA:\n",
       "  REFRESH: false\n",
       "  SAVE_PROCESSED_TRAIN: true\n",
       "EVAL:\n",
       "  CHUNK_SIZE: 1000000\n",
       "  SAVE_PREDS: true\n",
       "  SUBMIT_PREDS: false\n",
       "SYSTEM:\n",
       "  DEBUG: false"
      ]
     },
     "execution_count": 3,
     "metadata": {},
     "output_type": "execute_result"
    }
   ],
   "source": [
    "default_config = Path(\"./src/config/default_config.yaml\")\n",
    "cfg = confignest.confignest.Config(default_config)\n",
    "cfg"
   ]
  },
  {
   "cell_type": "markdown",
   "id": "enclosed-dayton",
   "metadata": {},
   "source": [
    "# Model Definition\n",
    "This involves two components: the \"default\" model configuration and the definition of the model itself. In this case, we'll look at a Lasso model (to continue exploring the unreasonably good effectiveness of these models)."
   ]
  },
  {
   "cell_type": "code",
   "execution_count": 4,
   "id": "stable-intranet",
   "metadata": {},
   "outputs": [
    {
     "data": {
      "text/plain": [
       "Config Object with Keys:\n",
       "alpha: 0.0005\n",
       "mod: Lasso"
      ]
     },
     "execution_count": 4,
     "metadata": {},
     "output_type": "execute_result"
    }
   ],
   "source": [
    "# Model Configuration\n",
    "mod_cfg = {'MODEL': {\n",
    "    'mod': 'Lasso',\n",
    "    'alpha': .0005\n",
    "}}\n",
    "cfg.update_config(mod_cfg)\n",
    "cfg.MODEL"
   ]
  },
  {
   "cell_type": "code",
   "execution_count": 5,
   "id": "congressional-audit",
   "metadata": {},
   "outputs": [],
   "source": [
    "# Model Definition\n",
    "import sklearn.linear_model\n",
    "mod = getattr(sklearn.linear_model, cfg.MODEL.mod)(alpha=cfg.MODEL.alpha)"
   ]
  },
  {
   "cell_type": "markdown",
   "id": "limiting-subscription",
   "metadata": {},
   "source": [
    "# Training Loop\n",
    "Similarly, the training loop has (or can have) its own configuration. Though it might be more convenient to keep this outside the configuration. It depends."
   ]
  },
  {
   "cell_type": "code",
   "execution_count": 6,
   "id": "private-telescope",
   "metadata": {},
   "outputs": [
    {
     "data": {
      "text/plain": [
       "Config Object with Keys:\n",
       "GAP: 0\n",
       "TRAIN_START: 0\n",
       "TRAIN_STOP: 120\n",
       "VAL_END: 210\n",
       "VAL_N_ERAS: 4\n",
       "VAL_START: 209"
      ]
     },
     "execution_count": 6,
     "metadata": {},
     "output_type": "execute_result"
    }
   ],
   "source": [
    "cv_config = {'CV': {\n",
    "    'TRAIN_STOP': 120,\n",
    "    'VAL_START': 209\n",
    "}}\n",
    "cfg.update_config(cv_config)\n",
    "cfg.CV"
   ]
  },
  {
   "cell_type": "code",
   "execution_count": 7,
   "id": "enormous-russell",
   "metadata": {},
   "outputs": [],
   "source": [
    "# Sweep\n",
    "from sklearn.model_selection import ParameterGrid\n",
    "param_grid = {\n",
    "    'alpha': np.linspace(.0001, .001, 5),\n",
    "    'mod': ['Lasso'],\n",
    "    'train_stop': np.arange(25, 132)    \n",
    "}"
   ]
  },
  {
   "cell_type": "code",
   "execution_count": 10,
   "id": "municipal-garden",
   "metadata": {},
   "outputs": [
    {
     "name": "stderr",
     "output_type": "stream",
     "text": [
      "100%|██████████| 1/1 [00:03<00:00,  3.52s/it]\n",
      "  0%|          | 0/1 [00:00<?, ?it/s]"
     ]
    },
    {
     "name": "stdout",
     "output_type": "stream",
     "text": [
      "\n",
      "model: Lasso\n",
      "alpha: 0.0001\n",
      "train stop: 31\n",
      "mean validation corr: 0.0008642455229190497\n",
      "mean validation sharpe: 0.02132967967098023\n"
     ]
    },
    {
     "name": "stderr",
     "output_type": "stream",
     "text": [
      "100%|██████████| 1/1 [00:02<00:00,  2.89s/it]\n",
      "  0%|          | 0/1 [00:00<?, ?it/s]"
     ]
    },
    {
     "name": "stdout",
     "output_type": "stream",
     "text": [
      "\n",
      "model: Lasso\n",
      "alpha: 0.0001\n",
      "train stop: 31\n",
      "mean validation corr: 0.0021485006793837847\n",
      "mean validation sharpe: 0.05354602460769885\n"
     ]
    },
    {
     "name": "stderr",
     "output_type": "stream",
     "text": [
      "100%|██████████| 1/1 [00:05<00:00,  5.02s/it]\n",
      "  0%|          | 0/1 [00:00<?, ?it/s]"
     ]
    },
    {
     "name": "stdout",
     "output_type": "stream",
     "text": [
      "\n",
      "model: Lasso\n",
      "alpha: 0.0001\n",
      "train stop: 31\n",
      "mean validation corr: 0.0003556931830714441\n",
      "mean validation sharpe: 0.00919042893814813\n"
     ]
    },
    {
     "name": "stderr",
     "output_type": "stream",
     "text": [
      "100%|██████████| 1/1 [00:06<00:00,  6.16s/it]\n",
      "  0%|          | 0/1 [00:00<?, ?it/s]"
     ]
    },
    {
     "name": "stdout",
     "output_type": "stream",
     "text": [
      "\n",
      "model: Lasso\n",
      "alpha: 0.0001\n",
      "train stop: 31\n",
      "mean validation corr: 0.0012663277440892982\n",
      "mean validation sharpe: 0.03291229272942421\n"
     ]
    },
    {
     "name": "stderr",
     "output_type": "stream",
     "text": [
      "100%|██████████| 1/1 [00:07<00:00,  7.35s/it]\n",
      "  0%|          | 0/1 [00:00<?, ?it/s]"
     ]
    },
    {
     "name": "stdout",
     "output_type": "stream",
     "text": [
      "\n",
      "model: Lasso\n",
      "alpha: 0.0001\n",
      "train stop: 31\n",
      "mean validation corr: 0.0005675890839057507\n",
      "mean validation sharpe: 0.015160143373518955\n"
     ]
    },
    {
     "name": "stderr",
     "output_type": "stream",
     "text": [
      "100%|██████████| 1/1 [00:07<00:00,  7.59s/it]\n",
      "  0%|          | 0/1 [00:00<?, ?it/s]"
     ]
    },
    {
     "name": "stdout",
     "output_type": "stream",
     "text": [
      "\n",
      "model: Lasso\n",
      "alpha: 0.0001\n",
      "train stop: 31\n",
      "mean validation corr: 0.002426275310608234\n",
      "mean validation sharpe: 0.05951983264223677\n"
     ]
    },
    {
     "name": "stderr",
     "output_type": "stream",
     "text": [
      "100%|██████████| 1/1 [00:07<00:00,  7.95s/it]\n",
      "  0%|          | 0/1 [00:00<?, ?it/s]"
     ]
    },
    {
     "name": "stdout",
     "output_type": "stream",
     "text": [
      "\n",
      "model: Lasso\n",
      "alpha: 0.0001\n",
      "train stop: 31\n",
      "mean validation corr: 0.0007765774670524285\n",
      "mean validation sharpe: 0.018899917648136987\n"
     ]
    },
    {
     "name": "stderr",
     "output_type": "stream",
     "text": [
      "100%|██████████| 1/1 [00:07<00:00,  7.38s/it]\n",
      "  0%|          | 0/1 [00:00<?, ?it/s]"
     ]
    },
    {
     "name": "stdout",
     "output_type": "stream",
     "text": [
      "\n",
      "model: Lasso\n",
      "alpha: 0.0001\n",
      "train stop: 31\n",
      "mean validation corr: 0.0013817583749474362\n",
      "mean validation sharpe: 0.03253933643156772\n"
     ]
    },
    {
     "name": "stderr",
     "output_type": "stream",
     "text": [
      "100%|██████████| 1/1 [00:04<00:00,  4.13s/it]\n",
      "  0%|          | 0/1 [00:00<?, ?it/s]"
     ]
    },
    {
     "name": "stdout",
     "output_type": "stream",
     "text": [
      "\n",
      "model: Lasso\n",
      "alpha: 0.0001\n",
      "train stop: 31\n",
      "mean validation corr: 0.0023567132836472826\n",
      "mean validation sharpe: 0.05498533597032796\n"
     ]
    },
    {
     "name": "stderr",
     "output_type": "stream",
     "text": [
      "100%|██████████| 1/1 [00:04<00:00,  4.48s/it]\n",
      "  0%|          | 0/1 [00:00<?, ?it/s]"
     ]
    },
    {
     "name": "stdout",
     "output_type": "stream",
     "text": [
      "\n",
      "model: Lasso\n",
      "alpha: 0.0001\n",
      "train stop: 31\n",
      "mean validation corr: 0.0029103160404439447\n",
      "mean validation sharpe: 0.07280837304510804\n"
     ]
    },
    {
     "name": "stderr",
     "output_type": "stream",
     "text": [
      "100%|██████████| 1/1 [00:07<00:00,  7.03s/it]\n",
      "  0%|          | 0/1 [00:00<?, ?it/s]"
     ]
    },
    {
     "name": "stdout",
     "output_type": "stream",
     "text": [
      "\n",
      "model: Lasso\n",
      "alpha: 0.0001\n",
      "train stop: 31\n",
      "mean validation corr: 0.002484105775501507\n",
      "mean validation sharpe: 0.06517909980723498\n"
     ]
    },
    {
     "name": "stderr",
     "output_type": "stream",
     "text": [
      "100%|██████████| 1/1 [00:13<00:00, 13.74s/it]\n",
      "  0%|          | 0/1 [00:00<?, ?it/s]"
     ]
    },
    {
     "name": "stdout",
     "output_type": "stream",
     "text": [
      "\n",
      "model: Lasso\n",
      "alpha: 0.0001\n",
      "train stop: 31\n",
      "mean validation corr: 0.0034659905613519375\n",
      "mean validation sharpe: 0.08903435171537188\n"
     ]
    },
    {
     "name": "stderr",
     "output_type": "stream",
     "text": [
      "100%|██████████| 1/1 [00:12<00:00, 12.72s/it]\n",
      "  0%|          | 0/1 [00:00<?, ?it/s]"
     ]
    },
    {
     "name": "stdout",
     "output_type": "stream",
     "text": [
      "\n",
      "model: Lasso\n",
      "alpha: 0.0001\n",
      "train stop: 31\n",
      "mean validation corr: 0.0035437315642392817\n",
      "mean validation sharpe: 0.08229070837775151\n"
     ]
    },
    {
     "name": "stderr",
     "output_type": "stream",
     "text": [
      "100%|██████████| 1/1 [00:09<00:00,  9.42s/it]\n",
      "  0%|          | 0/1 [00:00<?, ?it/s]"
     ]
    },
    {
     "name": "stdout",
     "output_type": "stream",
     "text": [
      "\n",
      "model: Lasso\n",
      "alpha: 0.0001\n",
      "train stop: 31\n",
      "mean validation corr: 0.0026653697836884083\n",
      "mean validation sharpe: 0.0641684649732623\n"
     ]
    },
    {
     "name": "stderr",
     "output_type": "stream",
     "text": [
      "100%|██████████| 1/1 [00:08<00:00,  8.01s/it]\n",
      "  0%|          | 0/1 [00:00<?, ?it/s]"
     ]
    },
    {
     "name": "stdout",
     "output_type": "stream",
     "text": [
      "\n",
      "model: Lasso\n",
      "alpha: 0.0001\n",
      "train stop: 31\n",
      "mean validation corr: 0.003608655470907827\n",
      "mean validation sharpe: 0.0867082277430618\n"
     ]
    },
    {
     "name": "stderr",
     "output_type": "stream",
     "text": [
      "100%|██████████| 1/1 [00:07<00:00,  7.93s/it]\n",
      "  0%|          | 0/1 [00:00<?, ?it/s]"
     ]
    },
    {
     "name": "stdout",
     "output_type": "stream",
     "text": [
      "\n",
      "model: Lasso\n",
      "alpha: 0.0001\n",
      "train stop: 31\n",
      "mean validation corr: 0.0022916021974798088\n",
      "mean validation sharpe: 0.05779048104210449\n"
     ]
    },
    {
     "name": "stderr",
     "output_type": "stream",
     "text": [
      "100%|██████████| 1/1 [00:10<00:00, 10.03s/it]\n",
      "  0%|          | 0/1 [00:00<?, ?it/s]"
     ]
    },
    {
     "name": "stdout",
     "output_type": "stream",
     "text": [
      "\n",
      "model: Lasso\n",
      "alpha: 0.0001\n",
      "train stop: 31\n",
      "mean validation corr: 0.0014595812179043662\n",
      "mean validation sharpe: 0.03894571343260078\n"
     ]
    },
    {
     "name": "stderr",
     "output_type": "stream",
     "text": [
      "100%|██████████| 1/1 [00:08<00:00,  8.76s/it]\n",
      "  0%|          | 0/1 [00:00<?, ?it/s]"
     ]
    },
    {
     "name": "stdout",
     "output_type": "stream",
     "text": [
      "\n",
      "model: Lasso\n",
      "alpha: 0.0001\n",
      "train stop: 31\n",
      "mean validation corr: 0.0017284712299475286\n",
      "mean validation sharpe: 0.047968020501432354\n"
     ]
    },
    {
     "name": "stderr",
     "output_type": "stream",
     "text": [
      "100%|██████████| 1/1 [00:08<00:00,  8.81s/it]\n",
      "  0%|          | 0/1 [00:00<?, ?it/s]"
     ]
    },
    {
     "name": "stdout",
     "output_type": "stream",
     "text": [
      "\n",
      "model: Lasso\n",
      "alpha: 0.0001\n",
      "train stop: 31\n",
      "mean validation corr: 0.0008439358112685529\n",
      "mean validation sharpe: 0.02224634317223394\n"
     ]
    },
    {
     "name": "stderr",
     "output_type": "stream",
     "text": [
      "100%|██████████| 1/1 [00:09<00:00,  9.17s/it]\n",
      "  0%|          | 0/1 [00:00<?, ?it/s]"
     ]
    },
    {
     "name": "stdout",
     "output_type": "stream",
     "text": [
      "\n",
      "model: Lasso\n",
      "alpha: 0.0001\n",
      "train stop: 31\n",
      "mean validation corr: 0.0016998557498441695\n",
      "mean validation sharpe: 0.04390509878621877\n"
     ]
    },
    {
     "name": "stderr",
     "output_type": "stream",
     "text": [
      "100%|██████████| 1/1 [00:06<00:00,  7.00s/it]\n",
      "  0%|          | 0/1 [00:00<?, ?it/s]"
     ]
    },
    {
     "name": "stdout",
     "output_type": "stream",
     "text": [
      "\n",
      "model: Lasso\n",
      "alpha: 0.0001\n",
      "train stop: 31\n",
      "mean validation corr: 0.0022945966574472645\n",
      "mean validation sharpe: 0.05654796938010011\n"
     ]
    },
    {
     "name": "stderr",
     "output_type": "stream",
     "text": [
      "100%|██████████| 1/1 [00:06<00:00,  6.09s/it]\n",
      "  0%|          | 0/1 [00:00<?, ?it/s]"
     ]
    },
    {
     "name": "stdout",
     "output_type": "stream",
     "text": [
      "\n",
      "model: Lasso\n",
      "alpha: 0.0001\n",
      "train stop: 31\n",
      "mean validation corr: 0.0012982119984624833\n",
      "mean validation sharpe: 0.033972940833696445\n"
     ]
    },
    {
     "name": "stderr",
     "output_type": "stream",
     "text": [
      "100%|██████████| 1/1 [00:05<00:00,  5.87s/it]\n",
      "  0%|          | 0/1 [00:00<?, ?it/s]"
     ]
    },
    {
     "name": "stdout",
     "output_type": "stream",
     "text": [
      "\n",
      "model: Lasso\n",
      "alpha: 0.0001\n",
      "train stop: 31\n",
      "mean validation corr: 0.0020454985999369575\n",
      "mean validation sharpe: 0.05395795749446915\n"
     ]
    },
    {
     "name": "stderr",
     "output_type": "stream",
     "text": [
      "100%|██████████| 1/1 [00:12<00:00, 12.68s/it]\n",
      "  0%|          | 0/1 [00:00<?, ?it/s]"
     ]
    },
    {
     "name": "stdout",
     "output_type": "stream",
     "text": [
      "\n",
      "model: Lasso\n",
      "alpha: 0.0001\n",
      "train stop: 31\n",
      "mean validation corr: 0.004238125269086566\n",
      "mean validation sharpe: 0.11395964437872405\n"
     ]
    },
    {
     "name": "stderr",
     "output_type": "stream",
     "text": [
      "100%|██████████| 1/1 [00:23<00:00, 23.73s/it]\n",
      "  0%|          | 0/1 [00:00<?, ?it/s]"
     ]
    },
    {
     "name": "stdout",
     "output_type": "stream",
     "text": [
      "\n",
      "model: Lasso\n",
      "alpha: 0.0001\n",
      "train stop: 31\n",
      "mean validation corr: 0.005424658043742795\n",
      "mean validation sharpe: 0.14316754398109777\n"
     ]
    },
    {
     "name": "stderr",
     "output_type": "stream",
     "text": [
      "100%|██████████| 1/1 [00:09<00:00,  9.35s/it]\n",
      "  0%|          | 0/1 [00:00<?, ?it/s]"
     ]
    },
    {
     "name": "stdout",
     "output_type": "stream",
     "text": [
      "\n",
      "model: Lasso\n",
      "alpha: 0.0001\n",
      "train stop: 31\n",
      "mean validation corr: 0.006222233946375574\n",
      "mean validation sharpe: 0.1527333919600322\n"
     ]
    },
    {
     "name": "stderr",
     "output_type": "stream",
     "text": [
      "100%|██████████| 1/1 [00:08<00:00,  8.24s/it]\n",
      "  0%|          | 0/1 [00:00<?, ?it/s]"
     ]
    },
    {
     "name": "stdout",
     "output_type": "stream",
     "text": [
      "\n",
      "model: Lasso\n",
      "alpha: 0.0001\n",
      "train stop: 31\n",
      "mean validation corr: 0.006417801304448764\n",
      "mean validation sharpe: 0.14955572962078267\n"
     ]
    },
    {
     "name": "stderr",
     "output_type": "stream",
     "text": [
      "100%|██████████| 1/1 [00:07<00:00,  7.23s/it]\n",
      "  0%|          | 0/1 [00:00<?, ?it/s]"
     ]
    },
    {
     "name": "stdout",
     "output_type": "stream",
     "text": [
      "\n",
      "model: Lasso\n",
      "alpha: 0.0001\n",
      "train stop: 31\n",
      "mean validation corr: 0.006990357704402497\n",
      "mean validation sharpe: 0.16898539740902482\n"
     ]
    },
    {
     "name": "stderr",
     "output_type": "stream",
     "text": [
      "100%|██████████| 1/1 [00:07<00:00,  7.24s/it]\n",
      "  0%|          | 0/1 [00:00<?, ?it/s]"
     ]
    },
    {
     "name": "stdout",
     "output_type": "stream",
     "text": [
      "\n",
      "model: Lasso\n",
      "alpha: 0.0001\n",
      "train stop: 31\n",
      "mean validation corr: 0.006987881714181609\n",
      "mean validation sharpe: 0.16484442710193978\n"
     ]
    },
    {
     "name": "stderr",
     "output_type": "stream",
     "text": [
      "100%|██████████| 1/1 [00:10<00:00, 10.39s/it]\n",
      "  0%|          | 0/1 [00:00<?, ?it/s]"
     ]
    },
    {
     "name": "stdout",
     "output_type": "stream",
     "text": [
      "\n",
      "model: Lasso\n",
      "alpha: 0.0001\n",
      "train stop: 31\n",
      "mean validation corr: 0.006720806009109605\n",
      "mean validation sharpe: 0.14630770464407747\n"
     ]
    },
    {
     "name": "stderr",
     "output_type": "stream",
     "text": [
      "100%|██████████| 1/1 [00:08<00:00,  8.20s/it]\n",
      "  0%|          | 0/1 [00:00<?, ?it/s]"
     ]
    },
    {
     "name": "stdout",
     "output_type": "stream",
     "text": [
      "\n",
      "model: Lasso\n",
      "alpha: 0.0001\n",
      "train stop: 31\n",
      "mean validation corr: 0.005497978986243258\n",
      "mean validation sharpe: 0.1191354763233436\n"
     ]
    },
    {
     "name": "stderr",
     "output_type": "stream",
     "text": [
      "100%|██████████| 1/1 [00:06<00:00,  6.23s/it]\n",
      "  0%|          | 0/1 [00:00<?, ?it/s]"
     ]
    },
    {
     "name": "stdout",
     "output_type": "stream",
     "text": [
      "\n",
      "model: Lasso\n",
      "alpha: 0.0001\n",
      "train stop: 31\n",
      "mean validation corr: 0.004609242763983546\n",
      "mean validation sharpe: 0.09752610284199328\n"
     ]
    },
    {
     "name": "stderr",
     "output_type": "stream",
     "text": [
      "100%|██████████| 1/1 [00:10<00:00, 10.62s/it]\n",
      "  0%|          | 0/1 [00:00<?, ?it/s]"
     ]
    },
    {
     "name": "stdout",
     "output_type": "stream",
     "text": [
      "\n",
      "model: Lasso\n",
      "alpha: 0.0001\n",
      "train stop: 31\n",
      "mean validation corr: 0.0048046014232852995\n",
      "mean validation sharpe: 0.10154017851314974\n"
     ]
    },
    {
     "name": "stderr",
     "output_type": "stream",
     "text": [
      "100%|██████████| 1/1 [00:07<00:00,  7.43s/it]\n",
      "  0%|          | 0/1 [00:00<?, ?it/s]"
     ]
    },
    {
     "name": "stdout",
     "output_type": "stream",
     "text": [
      "\n",
      "model: Lasso\n",
      "alpha: 0.0001\n",
      "train stop: 31\n",
      "mean validation corr: 0.003767937955538562\n",
      "mean validation sharpe: 0.08156784526645254\n"
     ]
    },
    {
     "name": "stderr",
     "output_type": "stream",
     "text": [
      "100%|██████████| 1/1 [00:08<00:00,  8.61s/it]\n",
      "  0%|          | 0/1 [00:00<?, ?it/s]"
     ]
    },
    {
     "name": "stdout",
     "output_type": "stream",
     "text": [
      "\n",
      "model: Lasso\n",
      "alpha: 0.0001\n",
      "train stop: 31\n",
      "mean validation corr: 0.00430239845444875\n",
      "mean validation sharpe: 0.09441182187951588\n"
     ]
    },
    {
     "name": "stderr",
     "output_type": "stream",
     "text": [
      "100%|██████████| 1/1 [00:08<00:00,  8.38s/it]\n",
      "  0%|          | 0/1 [00:00<?, ?it/s]"
     ]
    },
    {
     "name": "stdout",
     "output_type": "stream",
     "text": [
      "\n",
      "model: Lasso\n",
      "alpha: 0.0001\n",
      "train stop: 31\n",
      "mean validation corr: 0.004279841781371575\n",
      "mean validation sharpe: 0.09936301035066468\n"
     ]
    },
    {
     "name": "stderr",
     "output_type": "stream",
     "text": [
      "  0%|          | 0/1 [00:16<?, ?it/s]\n"
     ]
    },
    {
     "ename": "KeyboardInterrupt",
     "evalue": "",
     "output_type": "error",
     "traceback": [
      "\u001b[0;31m-----------------------------------\u001b[0m",
      "\u001b[0;31mKeyboardInterrupt\u001b[0mTraceback (most recent call last)",
      "\u001b[0;32m<ipython-input-10-36f09be0914b>\u001b[0m in \u001b[0;36m<module>\u001b[0;34m\u001b[0m\n\u001b[1;32m     20\u001b[0m                                            \u001b[0mtrain_start\u001b[0m \u001b[0;34m=\u001b[0m \u001b[0mcfg\u001b[0m\u001b[0;34m.\u001b[0m\u001b[0mCV\u001b[0m\u001b[0;34m.\u001b[0m\u001b[0mTRAIN_START\u001b[0m\u001b[0;34m,\u001b[0m\u001b[0;34m\u001b[0m\u001b[0;34m\u001b[0m\u001b[0m\n\u001b[1;32m     21\u001b[0m                                            train_stop = cfg.CV.TRAIN_STOP)\n\u001b[0;32m---> 22\u001b[0;31m         \u001b[0mmod\u001b[0m\u001b[0;34m.\u001b[0m\u001b[0mfit\u001b[0m\u001b[0;34m(\u001b[0m\u001b[0mX\u001b[0m\u001b[0;34m.\u001b[0m\u001b[0miloc\u001b[0m\u001b[0;34m[\u001b[0m\u001b[0mtrain\u001b[0m\u001b[0;34m]\u001b[0m\u001b[0;34m,\u001b[0m \u001b[0my\u001b[0m\u001b[0;34m.\u001b[0m\u001b[0miloc\u001b[0m\u001b[0;34m[\u001b[0m\u001b[0mtrain\u001b[0m\u001b[0;34m]\u001b[0m\u001b[0;34m)\u001b[0m\u001b[0;34m\u001b[0m\u001b[0;34m\u001b[0m\u001b[0m\n\u001b[0m\u001b[1;32m     23\u001b[0m         \u001b[0mval_preds\u001b[0m \u001b[0;34m=\u001b[0m \u001b[0mmod\u001b[0m\u001b[0;34m.\u001b[0m\u001b[0mpredict\u001b[0m\u001b[0;34m(\u001b[0m\u001b[0mX\u001b[0m\u001b[0;34m.\u001b[0m\u001b[0miloc\u001b[0m\u001b[0;34m[\u001b[0m\u001b[0mtest\u001b[0m\u001b[0;34m]\u001b[0m\u001b[0;34m)\u001b[0m\u001b[0;34m\u001b[0m\u001b[0;34m\u001b[0m\u001b[0m\n\u001b[1;32m     24\u001b[0m         eval_df = pd.DataFrame({'prediction':val_preds,\n",
      "\u001b[0;32m~/.virtualenvs/numerai/lib/python3.9/site-packages/sklearn/linear_model/_coordinate_descent.py\u001b[0m in \u001b[0;36mfit\u001b[0;34m(self, X, y, sample_weight, check_input)\u001b[0m\n\u001b[1;32m    842\u001b[0m                 \u001b[0mthis_Xy\u001b[0m \u001b[0;34m=\u001b[0m \u001b[0;32mNone\u001b[0m\u001b[0;34m\u001b[0m\u001b[0;34m\u001b[0m\u001b[0m\n\u001b[1;32m    843\u001b[0m             \u001b[0m_\u001b[0m\u001b[0;34m,\u001b[0m \u001b[0mthis_coef\u001b[0m\u001b[0;34m,\u001b[0m \u001b[0mthis_dual_gap\u001b[0m\u001b[0;34m,\u001b[0m \u001b[0mthis_iter\u001b[0m \u001b[0;34m=\u001b[0m\u001b[0;31m \u001b[0m\u001b[0;31m\\\u001b[0m\u001b[0;34m\u001b[0m\u001b[0;34m\u001b[0m\u001b[0m\n\u001b[0;32m--> 844\u001b[0;31m                 self.path(X, y[:, k],\n\u001b[0m\u001b[1;32m    845\u001b[0m                           \u001b[0ml1_ratio\u001b[0m\u001b[0;34m=\u001b[0m\u001b[0mself\u001b[0m\u001b[0;34m.\u001b[0m\u001b[0ml1_ratio\u001b[0m\u001b[0;34m,\u001b[0m \u001b[0meps\u001b[0m\u001b[0;34m=\u001b[0m\u001b[0;32mNone\u001b[0m\u001b[0;34m,\u001b[0m\u001b[0;34m\u001b[0m\u001b[0;34m\u001b[0m\u001b[0m\n\u001b[1;32m    846\u001b[0m                           \u001b[0mn_alphas\u001b[0m\u001b[0;34m=\u001b[0m\u001b[0;32mNone\u001b[0m\u001b[0;34m,\u001b[0m \u001b[0malphas\u001b[0m\u001b[0;34m=\u001b[0m\u001b[0;34m[\u001b[0m\u001b[0malpha\u001b[0m\u001b[0;34m]\u001b[0m\u001b[0;34m,\u001b[0m\u001b[0;34m\u001b[0m\u001b[0;34m\u001b[0m\u001b[0m\n",
      "\u001b[0;32m~/.virtualenvs/numerai/lib/python3.9/site-packages/sklearn/utils/validation.py\u001b[0m in \u001b[0;36minner_f\u001b[0;34m(*args, **kwargs)\u001b[0m\n\u001b[1;32m     61\u001b[0m             \u001b[0mextra_args\u001b[0m \u001b[0;34m=\u001b[0m \u001b[0mlen\u001b[0m\u001b[0;34m(\u001b[0m\u001b[0margs\u001b[0m\u001b[0;34m)\u001b[0m \u001b[0;34m-\u001b[0m \u001b[0mlen\u001b[0m\u001b[0;34m(\u001b[0m\u001b[0mall_args\u001b[0m\u001b[0;34m)\u001b[0m\u001b[0;34m\u001b[0m\u001b[0;34m\u001b[0m\u001b[0m\n\u001b[1;32m     62\u001b[0m             \u001b[0;32mif\u001b[0m \u001b[0mextra_args\u001b[0m \u001b[0;34m<=\u001b[0m \u001b[0;36m0\u001b[0m\u001b[0;34m:\u001b[0m\u001b[0;34m\u001b[0m\u001b[0;34m\u001b[0m\u001b[0m\n\u001b[0;32m---> 63\u001b[0;31m                 \u001b[0;32mreturn\u001b[0m \u001b[0mf\u001b[0m\u001b[0;34m(\u001b[0m\u001b[0;34m*\u001b[0m\u001b[0margs\u001b[0m\u001b[0;34m,\u001b[0m \u001b[0;34m**\u001b[0m\u001b[0mkwargs\u001b[0m\u001b[0;34m)\u001b[0m\u001b[0;34m\u001b[0m\u001b[0;34m\u001b[0m\u001b[0m\n\u001b[0m\u001b[1;32m     64\u001b[0m \u001b[0;34m\u001b[0m\u001b[0m\n\u001b[1;32m     65\u001b[0m             \u001b[0;31m# extra_args > 0\u001b[0m\u001b[0;34m\u001b[0m\u001b[0;34m\u001b[0m\u001b[0;34m\u001b[0m\u001b[0m\n",
      "\u001b[0;32m~/.virtualenvs/numerai/lib/python3.9/site-packages/sklearn/linear_model/_coordinate_descent.py\u001b[0m in \u001b[0;36menet_path\u001b[0;34m(X, y, l1_ratio, eps, n_alphas, alphas, precompute, Xy, copy_X, coef_init, verbose, return_n_iter, positive, check_input, **params)\u001b[0m\n\u001b[1;32m    528\u001b[0m                 tol, rng, random, positive)\n\u001b[1;32m    529\u001b[0m         \u001b[0;32melif\u001b[0m \u001b[0mprecompute\u001b[0m \u001b[0;32mis\u001b[0m \u001b[0;32mFalse\u001b[0m\u001b[0;34m:\u001b[0m\u001b[0;34m\u001b[0m\u001b[0;34m\u001b[0m\u001b[0m\n\u001b[0;32m--> 530\u001b[0;31m             model = cd_fast.enet_coordinate_descent(\n\u001b[0m\u001b[1;32m    531\u001b[0m                 \u001b[0mcoef_\u001b[0m\u001b[0;34m,\u001b[0m \u001b[0ml1_reg\u001b[0m\u001b[0;34m,\u001b[0m \u001b[0ml2_reg\u001b[0m\u001b[0;34m,\u001b[0m \u001b[0mX\u001b[0m\u001b[0;34m,\u001b[0m \u001b[0my\u001b[0m\u001b[0;34m,\u001b[0m \u001b[0mmax_iter\u001b[0m\u001b[0;34m,\u001b[0m \u001b[0mtol\u001b[0m\u001b[0;34m,\u001b[0m \u001b[0mrng\u001b[0m\u001b[0;34m,\u001b[0m \u001b[0mrandom\u001b[0m\u001b[0;34m,\u001b[0m\u001b[0;34m\u001b[0m\u001b[0;34m\u001b[0m\u001b[0m\n\u001b[1;32m    532\u001b[0m                 positive)\n",
      "\u001b[0;31mKeyboardInterrupt\u001b[0m: "
     ]
    }
   ],
   "source": [
    "era_split = src.utils.cross_val.EraCV(eras = training_data.era)\n",
    "\n",
    "X, y, era = training_data[feature_cols], training_data.target, training_data.era\n",
    "name = 'TEST'\n",
    "logs = []\n",
    "for params in ParameterGrid(param_grid):\n",
    "    corrs = []\n",
    "    sharpes = []\n",
    "    cfg_update = {'MODEL': {'alpha': params['alpha'].item(),\n",
    "                           'mod': params['mod']},\n",
    "                 'RESULTS': {'mean_corr': None,\n",
    "                            'mean_sharpe': None},\n",
    "                 'CV': {'TRAIN_STOP':params['train_stop']}}\n",
    "    cfg.update_config(cfg_update)\n",
    "    mod = getattr(sklearn.linear_model, cfg.MODEL.mod)(alpha=cfg.MODEL.alpha)   \n",
    "\n",
    "    for valid_era in tqdm(range(208,209)):\n",
    "        train, test = era_split.get_splits(valid_start = valid_era,\n",
    "                                           valid_n_eras = 4,\n",
    "                                           train_start = cfg.CV.TRAIN_START,\n",
    "                                           train_stop = cfg.CV.TRAIN_STOP)\n",
    "        mod.fit(X.iloc[train], y.iloc[train])\n",
    "        val_preds = mod.predict(X.iloc[test])\n",
    "        eval_df = pd.DataFrame({'prediction':val_preds,\n",
    "                            'target':y.iloc[test],\n",
    "                            'era':era.iloc[test]}).reset_index()\n",
    "        corrs.append(src.utils.metrics.val_corr(eval_df))\n",
    "        sharpes.append(src.utils.metrics.sharpe(eval_df))\n",
    "    print(f'\\nmodel: {mod.__class__.__name__}')\n",
    "    if mod.__class__.__name__!=\"LinearRegression\":\n",
    "        print(f'alpha: {mod.alpha}')\n",
    "    if mod.__class__.__name__==\"ElasticNet\":\n",
    "        print(f'L1 Ratio: {mod.l1_ratio}')\n",
    "    print(f'train stop: {cfg.CV.TRAIN_STOP}')\n",
    "    print(f'mean validation corr: {np.array(corrs).mean()}')\n",
    "    print(f'mean validation sharpe: {np.array(sharpes).mean()}')\n",
    "    results = {'RESULTS': {'mean_corr': np.array(corrs).mean().item(),\n",
    "                          'mean_sharpe': np.array(sharpes).mean().item()}\n",
    "              }\n",
    "    cfg.update_config(results)\n",
    "    logs.append(copy.deepcopy(cfg.config))"
   ]
  },
  {
   "cell_type": "markdown",
   "id": "critical-underwear",
   "metadata": {},
   "source": [
    "# Parse Output Files\n",
    "This part is still experimental."
   ]
  },
  {
   "cell_type": "code",
   "execution_count": 42,
   "id": "backed-flooring",
   "metadata": {},
   "outputs": [],
   "source": [
    "ct = time.localtime()\n",
    "current_time = f'{ct[0]}_{ct[1]}_{ct[2]}_{ct[3]}{ct[4]}_{ct[5]}'\n",
    "outfile = f'logs/log_{name}_{current_time}.yaml'\n",
    "stream = open(output/outfile, 'w')\n",
    "yaml.dump_all(logs, stream)\n",
    "stream.close()\n",
    "\n",
    "X = yaml.load_all(open(output/outfile, 'r'), Loader=yaml.SafeLoader)"
   ]
  },
  {
   "cell_type": "code",
   "execution_count": 58,
   "id": "accepting-samba",
   "metadata": {},
   "outputs": [],
   "source": [
    "stop_eras = []; corrs = []; sharpes = []; alphas = []\n",
    "for dict in X:\n",
    "    stop_eras.append(dict['CV']['TRAIN_STOP'])\n",
    "    alphas.append(dict['MODEL']['alpha'])\n",
    "    corrs.append(dict['RESULTS']['mean_corr'])\n",
    "    sharpes.append(dict['RESULTS']['mean_sharpe'])"
   ]
  },
  {
   "cell_type": "code",
   "execution_count": 65,
   "id": "recognized-underwear",
   "metadata": {},
   "outputs": [
    {
     "data": {
      "text/html": [
       "<div>\n",
       "<style scoped>\n",
       "    .dataframe tbody tr th:only-of-type {\n",
       "        vertical-align: middle;\n",
       "    }\n",
       "\n",
       "    .dataframe tbody tr th {\n",
       "        vertical-align: top;\n",
       "    }\n",
       "\n",
       "    .dataframe thead th {\n",
       "        text-align: right;\n",
       "    }\n",
       "</style>\n",
       "<table border=\"1\" class=\"dataframe\">\n",
       "  <thead>\n",
       "    <tr style=\"text-align: right;\">\n",
       "      <th></th>\n",
       "      <th>model</th>\n",
       "      <th>alpha</th>\n",
       "      <th>Mean Corr</th>\n",
       "      <th>Mean Sharpe</th>\n",
       "    </tr>\n",
       "  </thead>\n",
       "  <tbody>\n",
       "    <tr>\n",
       "      <th>0</th>\n",
       "      <td>Lasso</td>\n",
       "      <td>0.000325</td>\n",
       "      <td>0.007055</td>\n",
       "      <td>0.146216</td>\n",
       "    </tr>\n",
       "    <tr>\n",
       "      <th>2</th>\n",
       "      <td>Lasso</td>\n",
       "      <td>0.000550</td>\n",
       "      <td>0.008793</td>\n",
       "      <td>0.184469</td>\n",
       "    </tr>\n",
       "    <tr>\n",
       "      <th>4</th>\n",
       "      <td>Lasso</td>\n",
       "      <td>0.000775</td>\n",
       "      <td>0.007247</td>\n",
       "      <td>0.153249</td>\n",
       "    </tr>\n",
       "    <tr>\n",
       "      <th>6</th>\n",
       "      <td>Lasso</td>\n",
       "      <td>0.001000</td>\n",
       "      <td>0.005433</td>\n",
       "      <td>0.117872</td>\n",
       "    </tr>\n",
       "    <tr>\n",
       "      <th>1</th>\n",
       "      <td>Ridge</td>\n",
       "      <td>0.000325</td>\n",
       "      <td>0.005279</td>\n",
       "      <td>0.132402</td>\n",
       "    </tr>\n",
       "    <tr>\n",
       "      <th>3</th>\n",
       "      <td>Ridge</td>\n",
       "      <td>0.000550</td>\n",
       "      <td>0.005279</td>\n",
       "      <td>0.132402</td>\n",
       "    </tr>\n",
       "    <tr>\n",
       "      <th>5</th>\n",
       "      <td>Ridge</td>\n",
       "      <td>0.000775</td>\n",
       "      <td>0.005279</td>\n",
       "      <td>0.132402</td>\n",
       "    </tr>\n",
       "    <tr>\n",
       "      <th>7</th>\n",
       "      <td>Ridge</td>\n",
       "      <td>0.001000</td>\n",
       "      <td>0.005279</td>\n",
       "      <td>0.132403</td>\n",
       "    </tr>\n",
       "  </tbody>\n",
       "</table>\n",
       "</div>"
      ],
      "text/plain": [
       "   model     alpha  Mean Corr  Mean Sharpe\n",
       "0  Lasso  0.000325   0.007055     0.146216\n",
       "2  Lasso  0.000550   0.008793     0.184469\n",
       "4  Lasso  0.000775   0.007247     0.153249\n",
       "6  Lasso  0.001000   0.005433     0.117872\n",
       "1  Ridge  0.000325   0.005279     0.132402\n",
       "3  Ridge  0.000550   0.005279     0.132402\n",
       "5  Ridge  0.000775   0.005279     0.132402\n",
       "7  Ridge  0.001000   0.005279     0.132403"
      ]
     },
     "execution_count": 65,
     "metadata": {},
     "output_type": "execute_result"
    }
   ],
   "source": [
    "results_summary = pd.DataFrame({'model': mods,\n",
    "                               'alpha': alphas,\n",
    "                               'Mean Corr': corrs,\n",
    "                               'Mean Sharpe': sharpes})\n",
    "results_summary.sort_values(['model', 'alpha'])"
   ]
  },
  {
   "cell_type": "code",
   "execution_count": 76,
   "id": "prescription-matter",
   "metadata": {},
   "outputs": [
    {
     "data": {
      "text/plain": [
       "array(['era1', 'era2', 'era3', 'era4', 'era5', 'era6', 'era7', 'era8',\n",
       "       'era9', 'era10', 'era11', 'era12', 'era13', 'era14', 'era15',\n",
       "       'era16', 'era17', 'era18', 'era19', 'era20', 'era21', 'era22',\n",
       "       'era23', 'era24', 'era25', 'era26', 'era27', 'era28', 'era29',\n",
       "       'era30', 'era31', 'era32', 'era33', 'era34', 'era35', 'era36',\n",
       "       'era37', 'era38', 'era39', 'era40', 'era41', 'era42', 'era43',\n",
       "       'era44', 'era45', 'era46', 'era47', 'era48', 'era49', 'era50',\n",
       "       'era51', 'era52', 'era53', 'era54', 'era55', 'era56', 'era57',\n",
       "       'era58', 'era59', 'era60', 'era61', 'era62', 'era63', 'era64',\n",
       "       'era65', 'era66', 'era67', 'era68', 'era69', 'era70', 'era71',\n",
       "       'era72', 'era73', 'era74', 'era75', 'era76', 'era77', 'era78',\n",
       "       'era79', 'era80', 'era81', 'era82', 'era83', 'era84', 'era85',\n",
       "       'era86', 'era87', 'era88', 'era89', 'era90', 'era91', 'era92',\n",
       "       'era93', 'era94', 'era95', 'era96', 'era97', 'era98', 'era99',\n",
       "       'era100', 'era101', 'era102', 'era103', 'era104', 'era105',\n",
       "       'era106', 'era107', 'era108', 'era109', 'era110', 'era111',\n",
       "       'era112', 'era113', 'era114', 'era115', 'era116', 'era117',\n",
       "       'era118', 'era119', 'era120', 'era121', 'era122', 'era123',\n",
       "       'era124', 'era125', 'era126', 'era127', 'era128', 'era129',\n",
       "       'era130', 'era131', 'era132', 'era197', 'era198', 'era199',\n",
       "       'era200', 'era201', 'era202', 'era203', 'era204', 'era205',\n",
       "       'era206', 'era207', 'era208', 'era209', 'era210', 'era211',\n",
       "       'era212'], dtype=object)"
      ]
     },
     "execution_count": 76,
     "metadata": {},
     "output_type": "execute_result"
    }
   ],
   "source": [
    "era_split.eras.unique()"
   ]
  },
  {
   "cell_type": "code",
   "execution_count": null,
   "id": "orange-match",
   "metadata": {},
   "outputs": [],
   "source": []
  }
 ],
 "metadata": {
  "kernelspec": {
   "display_name": "numerai",
   "language": "python",
   "name": "numerai"
  },
  "language_info": {
   "codemirror_mode": {
    "name": "ipython",
    "version": 3
   },
   "file_extension": ".py",
   "mimetype": "text/x-python",
   "name": "python",
   "nbconvert_exporter": "python",
   "pygments_lexer": "ipython3",
   "version": "3.9.2"
  }
 },
 "nbformat": 4,
 "nbformat_minor": 5
}
