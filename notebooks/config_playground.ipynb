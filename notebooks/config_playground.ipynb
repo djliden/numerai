{
 "cells": [
  {
   "cell_type": "markdown",
   "id": "periodic-appraisal",
   "metadata": {},
   "source": [
    "# Tests of New Config System"
   ]
  },
  {
   "cell_type": "code",
   "execution_count": 7,
   "id": "circular-crossing",
   "metadata": {},
   "outputs": [
    {
     "data": {
      "text/plain": [
       "<module 'src.config.config' from '/home/djliden91/git/projects/numerai/src/config/config.py'>"
      ]
     },
     "execution_count": 7,
     "metadata": {},
     "output_type": "execute_result"
    }
   ],
   "source": [
    "import importlib\n",
    "import yaml\n",
    "from pathlib import Path\n",
    "import src.config.config as config\n",
    "importlib.reload(config)"
   ]
  },
  {
   "cell_type": "code",
   "execution_count": 8,
   "id": "narrow-montreal",
   "metadata": {},
   "outputs": [],
   "source": [
    "default_config = Path(\"./src/config/default_config.yaml\")\n",
    "update_config = Path(\"./src/config/experiments/config_debug.yaml\")"
   ]
  },
  {
   "cell_type": "code",
   "execution_count": 50,
   "id": "informative-nirvana",
   "metadata": {},
   "outputs": [],
   "source": [
    "class Config:\n",
    "    def __init__(self):\n",
    "        self.config = dict()\n",
    "        self._freeze()\n",
    "        \n",
    "    def _freeze(self):\n",
    "        \"\"\"Prevent changes to the __dict__\"\"\"\n",
    "        self.__isFrozen = True\n",
    "        \n",
    "    def _thaw(self):\n",
    "        \"\"\"Allow changes to the __dict__\"\"\"\n",
    "        self.__isFrozen = False\n",
    "\n",
    "    def update_from_yaml(self, new_config):\n",
    "        \"\"\"Update the stored configuration\n",
    "\n",
    "        kwargs:\n",
    "        * new_config: path to YAML file\n",
    "\n",
    "        If new_config includes a key/value pair already included in the\n",
    "        existing config, the existing config will be overwritten with\n",
    "        the new value. If new_config includes new key/value pairs, they\n",
    "        will be added to the existing config.\n",
    "        \"\"\"\n",
    "        self._thaw()\n",
    "        new_config = yaml.load(open(new_config, 'r'), Loader = yaml.SafeLoader)\n",
    "        self.config.update(new_config)\n",
    "        self.__dict__.update(self.config)\n",
    "        self._freeze()\n",
    "        \n",
    "    def update_to_subclass(self, new_config):\n",
    "        self._thaw()\n",
    "        new_config = yaml.load(open(new_config, 'r'), Loader = yaml.SafeLoader)\n",
    "        for key in new_config.keys():\n",
    "            self.__setattr__(key, Config())\n",
    "            self.__getattribute__(key).update_from_dict(new_config[key])\n",
    "        \n",
    "        \n",
    "    def update_from_dict(self, new_config:dict):\n",
    "        \"\"\"Update the stored configuration\n",
    "\n",
    "        kwargs:\n",
    "        * new_config: python dict\n",
    "\n",
    "        If new_config includes a key/value pair already included in the\n",
    "        existing config, the existing config will be overwritten with\n",
    "        the new value. If new_config includes new key/value pairs, they\n",
    "        will be added to the existing config.\n",
    "        \"\"\"\n",
    "        self._thaw()\n",
    "        self.config.update(new_config)    \n",
    "        self.__dict__.update(new_config)\n",
    "        self._freeze() "
   ]
  },
  {
   "cell_type": "code",
   "execution_count": 142,
   "id": "atmospheric-cartoon",
   "metadata": {},
   "outputs": [],
   "source": [
    "import textwrap\n",
    "\n",
    "class Config():\n",
    "    __isFrozen = True\n",
    "    def __init__(self, config):\n",
    "        self._thaw()\n",
    "        self.config = dict()\n",
    "        if isinstance(config, dict):\n",
    "            self.update_from_dict(config)\n",
    "        else:\n",
    "            self.update_from_yaml(config)\n",
    "        self._update_state()\n",
    "        self._freeze()\n",
    "        \n",
    "    def _freeze(self):\n",
    "        \"\"\"Prevent changes to the __dict__\"\"\"\n",
    "        self.__isFrozen = True\n",
    "        \n",
    "    def _thaw(self):\n",
    "        \"\"\"Allow changes to the __dict__\"\"\"\n",
    "        self.__isFrozen = False\n",
    "    \n",
    "    def _update_state(self):\n",
    "        for key in self.config.keys():\n",
    "            if isinstance(self.config[key], dict):\n",
    "                self.__setattr__(key, Config(self.config[key]))\n",
    "                \n",
    "    def __setattr__(self, key, value):\n",
    "        \"\"\"Prevent directly setting attributes\n",
    "\n",
    "        This is to ensure that all configuration options are defined\n",
    "        directly through the dictionary or YAML adding methods. This\n",
    "        limitation could be lifted in the future.\n",
    "        \"\"\"\n",
    "        if self.__isFrozen and not hasattr(self, key):\n",
    "            raise TypeError(textwrap.fill(textwrap.dedent(\"\"\"\n",
    "            Directly adding new attributes to a Configuration \n",
    "            object using dot notation is not supported. Please use \n",
    "            the update_config() method\"\"\")))\n",
    "        object.__setattr__(self, key, value)\n",
    "\n",
    "                \n",
    "    def update_config(self, new_config):\n",
    "        self._thaw()\n",
    "        if isinstance(new_config, dict):\n",
    "            self.update_from_dict(new_config)\n",
    "        else:\n",
    "            self.update_from_yaml(new_config)\n",
    "        self._update_state()\n",
    "        self._freeze()\n",
    "        \n",
    "    def update_from_yaml(self, new_config):\n",
    "        \"\"\"Update the stored configuration\n",
    "\n",
    "        kwargs:\n",
    "        * new_config: path to YAML file\n",
    "\n",
    "        If new_config includes a key/value pair already included in the\n",
    "        existing config, the existing config will be overwritten with\n",
    "        the new value. If new_config includes new key/value pairs, they\n",
    "        will be added to the existing config.\n",
    "        \"\"\"\n",
    "        new_config = yaml.load(open(new_config, 'r'), Loader = yaml.SafeLoader)\n",
    "        self.config.update(new_config)\n",
    "        self.__dict__.update(self.config)\n",
    "        \n",
    "    def update_from_dict(self, new_config:dict):\n",
    "        \"\"\"Update the stored configuration\n",
    "\n",
    "        kwargs:\n",
    "        * new_config: python dict\n",
    "\n",
    "        If new_config includes a key/value pair already included in the\n",
    "        existing config, the existing config will be overwritten with\n",
    "        the new value. If new_config includes new key/value pairs, they\n",
    "        will be added to the existing config.\n",
    "        \"\"\"\n",
    "        self.config.update(new_config)    \n",
    "        self.__dict__.update(new_config)"
   ]
  },
  {
   "cell_type": "code",
   "execution_count": 143,
   "id": "external-identity",
   "metadata": {},
   "outputs": [
    {
     "data": {
      "text/plain": [
       "'Unnamed'"
      ]
     },
     "execution_count": 143,
     "metadata": {},
     "output_type": "execute_result"
    }
   ],
   "source": [
    "X = Config2(default_config)\n",
    "X.MODEL.NAME"
   ]
  },
  {
   "cell_type": "code",
   "execution_count": 144,
   "id": "pregnant-flash",
   "metadata": {},
   "outputs": [
    {
     "data": {
      "text/plain": [
       "'config_debug'"
      ]
     },
     "execution_count": 144,
     "metadata": {},
     "output_type": "execute_result"
    }
   ],
   "source": [
    "X.update_config(update_config)\n",
    "X.MODEL.NAME"
   ]
  },
  {
   "cell_type": "code",
   "execution_count": 145,
   "id": "creative-scanning",
   "metadata": {},
   "outputs": [
    {
     "data": {
      "text/plain": [
       "{'MODEL': {'NAME': 'config_debug', 'WEIGHT_DECAY': 0.5, 'LAYERS': [400, 200]},\n",
       " 'EVAL': {'SAVE_PREDS': False},\n",
       " 'TRAIN': {'N_EPOCHS': 2}}"
      ]
     },
     "execution_count": 145,
     "metadata": {},
     "output_type": "execute_result"
    }
   ],
   "source": [
    "cfg_dict = yaml.load(open(update_config, 'r'), Loader=yaml.SafeLoader)\n",
    "cfg_dict"
   ]
  },
  {
   "cell_type": "code",
   "execution_count": 146,
   "id": "fatal-mapping",
   "metadata": {},
   "outputs": [
    {
     "data": {
      "text/plain": [
       "'Unnamed'"
      ]
     },
     "execution_count": 146,
     "metadata": {},
     "output_type": "execute_result"
    }
   ],
   "source": [
    "Y = Config2(default_config)\n",
    "Y.MODEL.NAME"
   ]
  },
  {
   "cell_type": "code",
   "execution_count": 147,
   "id": "nonprofit-lesbian",
   "metadata": {},
   "outputs": [
    {
     "data": {
      "text/plain": [
       "'config_debug'"
      ]
     },
     "execution_count": 147,
     "metadata": {},
     "output_type": "execute_result"
    }
   ],
   "source": [
    "Y.update_config(cfg_dict)\n",
    "Y.MODEL.NAME"
   ]
  },
  {
   "cell_type": "code",
   "execution_count": 149,
   "id": "hourly-avenue",
   "metadata": {},
   "outputs": [
    {
     "ename": "TypeError",
     "evalue": " Directly adding new attributes to a Configuration  object using dot\nnotation is not supported. Please use  the update_config() method",
     "output_type": "error",
     "traceback": [
      "\u001b[0;31m---------------------------------------------------------------------------\u001b[0m",
      "\u001b[0;31mTypeError\u001b[0m                                 Traceback (most recent call last)",
      "\u001b[0;32m<ipython-input-149-2d5d7bcb5f53>\u001b[0m in \u001b[0;36m<module>\u001b[0;34m\u001b[0m\n\u001b[0;32m----> 1\u001b[0;31m \u001b[0mY\u001b[0m\u001b[0;34m.\u001b[0m\u001b[0mCAT\u001b[0m \u001b[0;34m=\u001b[0m \u001b[0;34m'Jasper'\u001b[0m\u001b[0;34m\u001b[0m\u001b[0;34m\u001b[0m\u001b[0m\n\u001b[0m",
      "\u001b[0;32m<ipython-input-142-4305b58a1050>\u001b[0m in \u001b[0;36m__setattr__\u001b[0;34m(self, key, value)\u001b[0m\n\u001b[1;32m     34\u001b[0m         \"\"\"\n\u001b[1;32m     35\u001b[0m         \u001b[0;32mif\u001b[0m \u001b[0mself\u001b[0m\u001b[0;34m.\u001b[0m\u001b[0m__isFrozen\u001b[0m \u001b[0;32mand\u001b[0m \u001b[0;32mnot\u001b[0m \u001b[0mhasattr\u001b[0m\u001b[0;34m(\u001b[0m\u001b[0mself\u001b[0m\u001b[0;34m,\u001b[0m \u001b[0mkey\u001b[0m\u001b[0;34m)\u001b[0m\u001b[0;34m:\u001b[0m\u001b[0;34m\u001b[0m\u001b[0;34m\u001b[0m\u001b[0m\n\u001b[0;32m---> 36\u001b[0;31m             raise TypeError(textwrap.fill(textwrap.dedent(\"\"\"\n\u001b[0m\u001b[1;32m     37\u001b[0m             \u001b[0mDirectly\u001b[0m \u001b[0madding\u001b[0m \u001b[0mnew\u001b[0m \u001b[0mattributes\u001b[0m \u001b[0mto\u001b[0m \u001b[0ma\u001b[0m \u001b[0mConfiguration\u001b[0m\u001b[0;34m\u001b[0m\u001b[0;34m\u001b[0m\u001b[0m\n\u001b[1;32m     38\u001b[0m             \u001b[0mobject\u001b[0m \u001b[0musing\u001b[0m \u001b[0mdot\u001b[0m \u001b[0mnotation\u001b[0m \u001b[0;32mis\u001b[0m \u001b[0;32mnot\u001b[0m \u001b[0msupported\u001b[0m\u001b[0;34m.\u001b[0m \u001b[0mPlease\u001b[0m \u001b[0muse\u001b[0m\u001b[0;34m\u001b[0m\u001b[0;34m\u001b[0m\u001b[0m\n",
      "\u001b[0;31mTypeError\u001b[0m:  Directly adding new attributes to a Configuration  object using dot\nnotation is not supported. Please use  the update_config() method"
     ]
    }
   ],
   "source": [
    "Y.CAT = 'Jasper'"
   ]
  },
  {
   "cell_type": "code",
   "execution_count": 155,
   "id": "separated-favor",
   "metadata": {},
   "outputs": [
    {
     "data": {
      "text/plain": [
       "'And we can keep going!'"
      ]
     },
     "execution_count": 155,
     "metadata": {},
     "output_type": "execute_result"
    }
   ],
   "source": [
    "triple_nest = {'A':2,\n",
    "               'B':{'C':1, 'D':2, 'E':3},\n",
    "               'C':{'D':{'E':\"And we can keep going!\"}}}\n",
    "Y.update_config(triple_nest)\n",
    "Y.C.D.E"
   ]
  },
  {
   "cell_type": "code",
   "execution_count": 47,
   "id": "catholic-advocate",
   "metadata": {},
   "outputs": [],
   "source": [
    "x.__setattr__('B', {'a':1, 'b':2})"
   ]
  },
  {
   "cell_type": "code",
   "execution_count": 49,
   "id": "catholic-wound",
   "metadata": {},
   "outputs": [
    {
     "data": {
      "text/plain": [
       "dict_items([('a', 1), ('b', 2)])"
      ]
     },
     "execution_count": 49,
     "metadata": {},
     "output_type": "execute_result"
    }
   ],
   "source": [
    "x.__getattribute__('B').items()"
   ]
  },
  {
   "cell_type": "code",
   "execution_count": 42,
   "id": "muslim-japanese",
   "metadata": {},
   "outputs": [
    {
     "data": {
      "text/plain": [
       "123"
      ]
     },
     "execution_count": 42,
     "metadata": {},
     "output_type": "execute_result"
    }
   ],
   "source": [
    "x.B"
   ]
  },
  {
   "cell_type": "code",
   "execution_count": 123,
   "id": "alert-celtic",
   "metadata": {},
   "outputs": [
    {
     "data": {
      "text/plain": [
       "{'MODEL': {'NAME': 'config_debug', 'WEIGHT_DECAY': 0.5, 'LAYERS': [400, 200]},\n",
       " 'EVAL': {'SAVE_PREDS': False},\n",
       " 'TRAIN': {'N_EPOCHS': 2}}"
      ]
     },
     "execution_count": 123,
     "metadata": {},
     "output_type": "execute_result"
    }
   ],
   "source": [
    "yaml.load(open(update_config, 'r'), Loader=yaml.SafeLoader)"
   ]
  },
  {
   "cell_type": "markdown",
   "id": "humanitarian-adjustment",
   "metadata": {},
   "source": [
    "# Try to Figure Out Inheritance"
   ]
  },
  {
   "cell_type": "code",
   "execution_count": 26,
   "id": "automatic-divorce",
   "metadata": {},
   "outputs": [],
   "source": [
    "import textwrap\n",
    "class Froze:\n",
    "    __isFrozen = True\n",
    "    def __init__(self):\n",
    "        self._thaw()\n",
    "        self.A = 12\n",
    "        self._freeze()\n",
    "        \n",
    "    def _freeze(self):\n",
    "        \"\"\"Prevent changes to the __dict__\"\"\"\n",
    "        self.__isFrozen = True\n",
    "        \n",
    "    def _thaw(self):\n",
    "        \"\"\"Allow changes to the __dict__\"\"\"\n",
    "        self.__isFrozen = False\n",
    "        \n",
    "    def __setattr__(self, key, value):\n",
    "        \"\"\"Prevent directly setting attributes\n",
    "\n",
    "        This is to ensure that all configuration options are defined\n",
    "        directly through the dictionary or YAML adding methods. This\n",
    "        limitation could be lifted in the future.\n",
    "        \"\"\"\n",
    "        if self.__isFrozen and not hasattr(self, key):\n",
    "            raise TypeError(textwrap.fill(textwrap.dedent(\"\"\"\n",
    "            Directly adding new attributes to a Configuration \n",
    "            object using dot notation is not supported. Please use \n",
    "            the update_config() method\"\"\")))\n",
    "        object.__setattr__(self, key, value)\n",
    "        \n",
    "class Snow(Froze):\n",
    "    __isFrozen = True\n",
    "    def __init__(self):\n",
    "        #self._thaw = super()._thaw\n",
    "        #self._freeze = super()._freeze\n",
    "        super().__init__()"
   ]
  },
  {
   "cell_type": "code",
   "execution_count": 27,
   "id": "continuous-punch",
   "metadata": {},
   "outputs": [],
   "source": [
    "s = Snow()"
   ]
  },
  {
   "cell_type": "code",
   "execution_count": 30,
   "id": "labeled-cradle",
   "metadata": {},
   "outputs": [
    {
     "ename": "TypeError",
     "evalue": " Directly adding new attributes to a Configuration  object using dot\nnotation is not supported. Please use  the update_config() method",
     "output_type": "error",
     "traceback": [
      "\u001b[0;31m---------------------------------------------------------------------------\u001b[0m",
      "\u001b[0;31mTypeError\u001b[0m                                 Traceback (most recent call last)",
      "\u001b[0;32m<ipython-input-30-000cf432fc8b>\u001b[0m in \u001b[0;36m<module>\u001b[0;34m\u001b[0m\n\u001b[0;32m----> 1\u001b[0;31m \u001b[0ms\u001b[0m\u001b[0;34m.\u001b[0m\u001b[0mB\u001b[0m \u001b[0;34m=\u001b[0m \u001b[0;36m13\u001b[0m\u001b[0;34m\u001b[0m\u001b[0;34m\u001b[0m\u001b[0m\n\u001b[0m",
      "\u001b[0;32m<ipython-input-26-59f625e6d095>\u001b[0m in \u001b[0;36m__setattr__\u001b[0;34m(self, key, value)\u001b[0m\n\u001b[1;32m     23\u001b[0m         \"\"\"\n\u001b[1;32m     24\u001b[0m         \u001b[0;32mif\u001b[0m \u001b[0mself\u001b[0m\u001b[0;34m.\u001b[0m\u001b[0m__isFrozen\u001b[0m \u001b[0;32mand\u001b[0m \u001b[0;32mnot\u001b[0m \u001b[0mhasattr\u001b[0m\u001b[0;34m(\u001b[0m\u001b[0mself\u001b[0m\u001b[0;34m,\u001b[0m \u001b[0mkey\u001b[0m\u001b[0;34m)\u001b[0m\u001b[0;34m:\u001b[0m\u001b[0;34m\u001b[0m\u001b[0;34m\u001b[0m\u001b[0m\n\u001b[0;32m---> 25\u001b[0;31m             raise TypeError(textwrap.fill(textwrap.dedent(\"\"\"\n\u001b[0m\u001b[1;32m     26\u001b[0m             \u001b[0mDirectly\u001b[0m \u001b[0madding\u001b[0m \u001b[0mnew\u001b[0m \u001b[0mattributes\u001b[0m \u001b[0mto\u001b[0m \u001b[0ma\u001b[0m \u001b[0mConfiguration\u001b[0m\u001b[0;34m\u001b[0m\u001b[0;34m\u001b[0m\u001b[0m\n\u001b[1;32m     27\u001b[0m             \u001b[0mobject\u001b[0m \u001b[0musing\u001b[0m \u001b[0mdot\u001b[0m \u001b[0mnotation\u001b[0m \u001b[0;32mis\u001b[0m \u001b[0;32mnot\u001b[0m \u001b[0msupported\u001b[0m\u001b[0;34m.\u001b[0m \u001b[0mPlease\u001b[0m \u001b[0muse\u001b[0m\u001b[0;34m\u001b[0m\u001b[0;34m\u001b[0m\u001b[0m\n",
      "\u001b[0;31mTypeError\u001b[0m:  Directly adding new attributes to a Configuration  object using dot\nnotation is not supported. Please use  the update_config() method"
     ]
    }
   ],
   "source": [
    "s.B = 13"
   ]
  },
  {
   "cell_type": "code",
   "execution_count": 2,
   "id": "biblical-device",
   "metadata": {},
   "outputs": [
    {
     "data": {
      "text/plain": [
       "'/home/djliden91/git/projects/numerai'"
      ]
     },
     "execution_count": 2,
     "metadata": {},
     "output_type": "execute_result"
    }
   ],
   "source": [
    "import os\n",
    "os.chdir('..')\n",
    "os.getcwd()\n",
    "#import ..src.config.config as config\n",
    "#!cd ..\n"
   ]
  },
  {
   "cell_type": "code",
   "execution_count": 3,
   "id": "ruled-antique",
   "metadata": {},
   "outputs": [],
   "source": [
    "from src.config import config"
   ]
  },
  {
   "cell_type": "code",
   "execution_count": 4,
   "id": "false-client",
   "metadata": {},
   "outputs": [],
   "source": [
    "A = config.BaseConfig()"
   ]
  },
  {
   "cell_type": "code",
   "execution_count": 9,
   "id": "administrative-annotation",
   "metadata": {},
   "outputs": [],
   "source": [
    "B = config.ConfigI(default_config)"
   ]
  },
  {
   "cell_type": "code",
   "execution_count": 10,
   "id": "permanent-teens",
   "metadata": {},
   "outputs": [
    {
     "data": {
      "text/plain": [
       "'This is from the parent class'"
      ]
     },
     "execution_count": 10,
     "metadata": {},
     "output_type": "execute_result"
    }
   ],
   "source": [
    "B.A"
   ]
  },
  {
   "cell_type": "code",
   "execution_count": 12,
   "id": "former-turner",
   "metadata": {},
   "outputs": [
    {
     "data": {
      "text/plain": [
       "'Unnamed'"
      ]
     },
     "execution_count": 12,
     "metadata": {},
     "output_type": "execute_result"
    }
   ],
   "source": [
    "B.MODEL.NAME"
   ]
  },
  {
   "cell_type": "code",
   "execution_count": 13,
   "id": "shaped-mercury",
   "metadata": {},
   "outputs": [],
   "source": [
    "B.update_from_yaml(update_config)"
   ]
  },
  {
   "cell_type": "code",
   "execution_count": 14,
   "id": "atlantic-immune",
   "metadata": {},
   "outputs": [
    {
     "ename": "AttributeError",
     "evalue": "'dict' object has no attribute 'NAME'",
     "output_type": "error",
     "traceback": [
      "\u001b[0;31m---------------------------------------------------------------------------\u001b[0m",
      "\u001b[0;31mAttributeError\u001b[0m                            Traceback (most recent call last)",
      "\u001b[0;32m<ipython-input-14-883476d09cb7>\u001b[0m in \u001b[0;36m<module>\u001b[0;34m\u001b[0m\n\u001b[0;32m----> 1\u001b[0;31m \u001b[0mB\u001b[0m\u001b[0;34m.\u001b[0m\u001b[0mMODEL\u001b[0m\u001b[0;34m.\u001b[0m\u001b[0mNAME\u001b[0m\u001b[0;34m\u001b[0m\u001b[0;34m\u001b[0m\u001b[0m\n\u001b[0m",
      "\u001b[0;31mAttributeError\u001b[0m: 'dict' object has no attribute 'NAME'"
     ]
    }
   ],
   "source": [
    "B.MODEL.NAME"
   ]
  },
  {
   "cell_type": "code",
   "execution_count": null,
   "id": "amateur-tomorrow",
   "metadata": {},
   "outputs": [],
   "source": []
  }
 ],
 "metadata": {
  "kernelspec": {
   "display_name": "numerai",
   "language": "python",
   "name": "numerai"
  },
  "language_info": {
   "codemirror_mode": {
    "name": "ipython",
    "version": 3
   },
   "file_extension": ".py",
   "mimetype": "text/x-python",
   "name": "python",
   "nbconvert_exporter": "python",
   "pygments_lexer": "ipython3",
   "version": "3.9.2"
  }
 },
 "nbformat": 4,
 "nbformat_minor": 5
}
