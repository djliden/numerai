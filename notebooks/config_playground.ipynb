{
 "cells": [
  {
   "cell_type": "markdown",
   "id": "designed-carol",
   "metadata": {},
   "source": [
    "# Tests of New Config System"
   ]
  },
  {
   "cell_type": "code",
   "execution_count": 1,
   "id": "turned-repository",
   "metadata": {},
   "outputs": [
    {
     "data": {
      "text/plain": [
       "<module 'src.config.config' from '/home/djliden91/git/projects/numerai/src/config/config.py'>"
      ]
     },
     "execution_count": 1,
     "metadata": {},
     "output_type": "execute_result"
    }
   ],
   "source": [
    "import os\n",
    "os.chdir('/home/djliden91/git/projects/numerai')\n",
    "os.getcwd()\n",
    "from src.config import config\n",
    "import importlib\n",
    "import yaml\n",
    "from pathlib import Path\n",
    "importlib.reload(config)"
   ]
  },
  {
   "cell_type": "code",
   "execution_count": 2,
   "id": "lucky-steam",
   "metadata": {},
   "outputs": [],
   "source": [
    "default_config = Path(\"./src/config/default_config.yaml\")\n",
    "update_config = Path(\"./src/config/experiments/config_debug.yaml\")"
   ]
  },
  {
   "cell_type": "code",
   "execution_count": 3,
   "id": "abroad-afghanistan",
   "metadata": {},
   "outputs": [
    {
     "data": {
      "text/plain": [
       "{'MODEL': {'NAME': 'config_debug', 'WEIGHT_DECAY': 0.5, 'LAYERS': [400, 200]},\n",
       " 'EVAL': {'SAVE_PREDS': False},\n",
       " 'TRAIN': {'N_EPOCHS': 2}}"
      ]
     },
     "execution_count": 3,
     "metadata": {},
     "output_type": "execute_result"
    }
   ],
   "source": [
    "cfg_dict = yaml.load(open(update_config, 'r'), Loader=yaml.SafeLoader)\n",
    "cfg_dict"
   ]
  },
  {
   "cell_type": "code",
   "execution_count": 4,
   "id": "understanding-pearl",
   "metadata": {},
   "outputs": [
    {
     "data": {
      "text/plain": [
       "{'_BaseConfig__isFrozen': True,\n",
       " 'config': {'SYSTEM': {'DEBUG': False},\n",
       "  'DATA': {'REFRESH': False, 'SAVE_PROCESSED_TRAIN': True},\n",
       "  'EVAL': {'SAVE_PREDS': True, 'SUBMIT_PREDS': False},\n",
       "  'MODEL': {'NAME': 'Unnamed'}},\n",
       " 'SYSTEM': <src.config.config.Config at 0x7f1388349220>,\n",
       " 'DATA': <src.config.config.Config at 0x7f1388349bb0>,\n",
       " 'EVAL': <src.config.config.Config at 0x7f13883498e0>,\n",
       " 'MODEL': <src.config.config.Config at 0x7f1388349c10>}"
      ]
     },
     "execution_count": 4,
     "metadata": {},
     "output_type": "execute_result"
    }
   ],
   "source": [
    "test = config.Config(default_config)\n",
    "#test.update_config(cfg_dict)\n",
    "\n",
    "test.__dict__"
   ]
  },
  {
   "cell_type": "code",
   "execution_count": 5,
   "id": "color-abuse",
   "metadata": {},
   "outputs": [
    {
     "data": {
      "text/plain": [
       "'Unnamed'"
      ]
     },
     "execution_count": 5,
     "metadata": {},
     "output_type": "execute_result"
    }
   ],
   "source": [
    "test.MODEL.NAME"
   ]
  },
  {
   "cell_type": "code",
   "execution_count": 8,
   "id": "trained-chrome",
   "metadata": {},
   "outputs": [
    {
     "data": {
      "text/plain": [
       "'config_debug'"
      ]
     },
     "execution_count": 8,
     "metadata": {},
     "output_type": "execute_result"
    }
   ],
   "source": [
    "test.update_config(cfg_dict)\n",
    "test.MODEL.NAME"
   ]
  },
  {
   "cell_type": "code",
   "execution_count": 7,
   "id": "characteristic-probe",
   "metadata": {},
   "outputs": [
    {
     "ename": "TypeError",
     "evalue": " Directly adding new attributes to a Configuration  object using dot\nnotation is not supported. Please use  the update_config() method",
     "output_type": "error",
     "traceback": [
      "\u001b[0;31m---------------------------------------------------------------------------\u001b[0m",
      "\u001b[0;31mTypeError\u001b[0m                                 Traceback (most recent call last)",
      "\u001b[0;32m<ipython-input-7-7b94301d170f>\u001b[0m in \u001b[0;36m<module>\u001b[0;34m\u001b[0m\n\u001b[0;32m----> 1\u001b[0;31m \u001b[0mtest\u001b[0m\u001b[0;34m.\u001b[0m\u001b[0mA\u001b[0m \u001b[0;34m=\u001b[0m \u001b[0;34m'cat'\u001b[0m\u001b[0;34m\u001b[0m\u001b[0;34m\u001b[0m\u001b[0m\n\u001b[0m",
      "\u001b[0;32m~/git/projects/numerai/src/config/config.py\u001b[0m in \u001b[0;36m__setattr__\u001b[0;34m(self, key, value)\u001b[0m\n\u001b[1;32m     15\u001b[0m         \"\"\"\n\u001b[1;32m     16\u001b[0m         \u001b[0;32mif\u001b[0m \u001b[0mself\u001b[0m\u001b[0;34m.\u001b[0m\u001b[0m__isFrozen\u001b[0m \u001b[0;32mand\u001b[0m \u001b[0;32mnot\u001b[0m \u001b[0mhasattr\u001b[0m\u001b[0;34m(\u001b[0m\u001b[0mself\u001b[0m\u001b[0;34m,\u001b[0m \u001b[0mkey\u001b[0m\u001b[0;34m)\u001b[0m\u001b[0;34m:\u001b[0m\u001b[0;34m\u001b[0m\u001b[0;34m\u001b[0m\u001b[0m\n\u001b[0;32m---> 17\u001b[0;31m             raise TypeError(textwrap.fill(textwrap.dedent(\"\"\"\n\u001b[0m\u001b[1;32m     18\u001b[0m             \u001b[0mDirectly\u001b[0m \u001b[0madding\u001b[0m \u001b[0mnew\u001b[0m \u001b[0mattributes\u001b[0m \u001b[0mto\u001b[0m \u001b[0ma\u001b[0m \u001b[0mConfiguration\u001b[0m\u001b[0;34m\u001b[0m\u001b[0;34m\u001b[0m\u001b[0m\n\u001b[1;32m     19\u001b[0m             \u001b[0mobject\u001b[0m \u001b[0musing\u001b[0m \u001b[0mdot\u001b[0m \u001b[0mnotation\u001b[0m \u001b[0;32mis\u001b[0m \u001b[0;32mnot\u001b[0m \u001b[0msupported\u001b[0m\u001b[0;34m.\u001b[0m \u001b[0mPlease\u001b[0m \u001b[0muse\u001b[0m\u001b[0;34m\u001b[0m\u001b[0;34m\u001b[0m\u001b[0m\n",
      "\u001b[0;31mTypeError\u001b[0m:  Directly adding new attributes to a Configuration  object using dot\nnotation is not supported. Please use  the update_config() method"
     ]
    }
   ],
   "source": [
    "test.A = 'cat'"
   ]
  },
  {
   "cell_type": "code",
   "execution_count": null,
   "id": "systematic-chase",
   "metadata": {},
   "outputs": [],
   "source": [
    "os.path.splitext(default_config)[1]"
   ]
  },
  {
   "cell_type": "code",
   "execution_count": null,
   "id": "international-produce",
   "metadata": {},
   "outputs": [],
   "source": [
    "test.dump_config(path = \"./deleteme.yaml\")"
   ]
  },
  {
   "cell_type": "code",
   "execution_count": null,
   "id": "incorporated-distinction",
   "metadata": {},
   "outputs": [],
   "source": [
    "from pathlib import Path\n",
    "x = Path(\"./cargo/cats.yaml\")\n",
    "w = \"./cargo/cats.yaml\""
   ]
  },
  {
   "cell_type": "code",
   "execution_count": null,
   "id": "commercial-mills",
   "metadata": {},
   "outputs": [],
   "source": [
    "y = os.path.splitext(x)\n",
    "y[1]"
   ]
  },
  {
   "cell_type": "code",
   "execution_count": null,
   "id": "acquired-neighbor",
   "metadata": {},
   "outputs": [],
   "source": [
    "z = os.path.splitext(w)\n",
    "z[1]"
   ]
  },
  {
   "cell_type": "code",
   "execution_count": 10,
   "id": "composite-utility",
   "metadata": {},
   "outputs": [
    {
     "data": {
      "text/plain": [
       "('~/dir/.emacs.d/.cats/dogs', '.yaml')"
      ]
     },
     "execution_count": 10,
     "metadata": {},
     "output_type": "execute_result"
    }
   ],
   "source": [
    "j = \"~/dir/.emacs.d/.cats/dogs.yaml\"\n",
    "os.path.splitext(j)"
   ]
  },
  {
   "cell_type": "code",
   "execution_count": null,
   "id": "agreed-literacy",
   "metadata": {},
   "outputs": [],
   "source": []
  }
 ],
 "metadata": {
  "kernelspec": {
   "display_name": "numerai",
   "language": "python",
   "name": "numerai"
  },
  "language_info": {
   "codemirror_mode": {
    "name": "ipython",
    "version": 3
   },
   "file_extension": ".py",
   "mimetype": "text/x-python",
   "name": "python",
   "nbconvert_exporter": "python",
   "pygments_lexer": "ipython3",
   "version": "3.9.2"
  }
 },
 "nbformat": 4,
 "nbformat_minor": 5
}
