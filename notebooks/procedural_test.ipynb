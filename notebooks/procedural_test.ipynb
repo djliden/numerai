{
 "cells": [
  {
   "cell_type": "markdown",
   "id": "assisted-dayton",
   "metadata": {},
   "source": [
    "# TO-DO\n",
    "1. (DONE) Make config updates recursive. Currently nested dicts are just overwriting. That is, if two config files have a MODEL keyword, the whole model is being overwritten.\n",
    "2. switch model to `**kwargs`-based setup so we can list all possibly-relevant ones.\n",
    "3. more-efficient CSV processing"
   ]
  },
  {
   "cell_type": "code",
   "execution_count": 1,
   "id": "frequent-introduction",
   "metadata": {},
   "outputs": [
    {
     "name": "stderr",
     "output_type": "stream",
     "text": [
      "/home/djliden91/.virtualenvs/numerai/lib/python3.9/site-packages/torch/cuda/__init__.py:52: UserWarning: CUDA initialization: Found no NVIDIA driver on your system. Please check that you have an NVIDIA GPU and installed a driver from http://www.nvidia.com/Download/index.aspx (Triggered internally at  /pytorch/c10/cuda/CUDAFunctions.cpp:100.)\n",
      "  return torch._C._cuda_getDeviceCount() > 0\n"
     ]
    }
   ],
   "source": [
    "import os\n",
    "os.chdir('/home/djliden91/git/projects/numerai')\n",
    "from src.config import config\n",
    "import yaml\n",
    "from pathlib import Path\n",
    "from src.models import fastai_tabular\n",
    "import sys\n",
    "import pandas as pd\n",
    "import numpy as np\n",
    "import time\n",
    "from src.config.config import Config\n",
    "#from fastai.tabular.all import *\n",
    "from importlib import import_module\n",
    "from pathlib import Path\n",
    "\n",
    "from src.utils.eval import FastSubmission\n",
    "from src.utils.setup import credential\n",
    "from src.utils.setup import download_current\n",
    "from src.utils.setup import process_current\n",
    "from src.utils.setup import init_numerapi\n",
    "from src.utils.cross_val import EraCV\n",
    "\n",
    "from src.utils.eval import save_preds\n",
    "\n",
    "#import src.models\n",
    "\n",
    "from src.utils.metrics import sharpe, val_corr\n",
    "\n",
    "# SET THIS TORCH STUFF IN FASTAI SECTION\n",
    "# set flags / seeds\n",
    "import gc\n",
    "#torch.backends.cudnn.benchmark = True\n",
    "np.random.seed(1)\n",
    "#torch.manual_seed(1)\n",
    "#torch.cuda.manual_seed(1)"
   ]
  },
  {
   "cell_type": "code",
   "execution_count": 2,
   "id": "innovative-highlight",
   "metadata": {},
   "outputs": [
    {
     "name": "stdout",
     "output_type": "stream",
     "text": [
      "CV:\n",
      "  GAP: 0\n",
      "  TRAIN_START: 0\n",
      "  TRAIN_STOP: null\n",
      "  VAL_END: 209\n",
      "  VAL_N_ERAS: 4\n",
      "  VAL_START: 205\n",
      "DATA:\n",
      "  REFRESH: false\n",
      "  SAVE_PROCESSED_TRAIN: true\n",
      "EVAL:\n",
      "  SAVE_PREDS: false\n",
      "  SUBMIT_PREDS: false\n",
      "MODEL:\n",
      "  BATCHNORM_FINAL: true\n",
      "  BATCH_SIZE: 2048\n",
      "  DROPOUT_P: 0\n",
      "  LAYERS:\n",
      "  - 400\n",
      "  - 400\n",
      "  LEARNING_RATE: null\n",
      "  NAME: Unnamed\n",
      "  N_EPOCHS: 1\n",
      "  TYPE: fastai tabular\n",
      "  USE_BATCHNORM: true\n",
      "  WEIGHT_DECAY: 0\n",
      "  Y_RANGE:\n",
      "  - 0\n",
      "  - 1\n",
      "SYSTEM:\n",
      "  DEBUG: false\n",
      "  TIME: '2021_3_21_1014'\n",
      "\n"
     ]
    }
   ],
   "source": [
    "model = \"fastai_tabular\"\n",
    "configpath = \"./src/config/experiments/config_debug.yaml\"\n",
    "default_config = Path(\"./src/config/default_config.yaml\")\n",
    "cfg = Config(default_config)\n",
    "model_cfg = Path(f'./src/models/default_configs/{model}.yaml')\n",
    "model_cls = model.title().replace(\"_\",\"\")\n",
    "cfg.update_config(model_cfg)\n",
    "cfg.update_config(configpath)\n",
    "ct = time.localtime()\n",
    "current_time = f'{ct[0]}_{ct[1]}_{ct[2]}_{ct[3]}{ct[4]}'\n",
    "cfg.update_config({'SYSTEM':{'TIME':current_time}})\n",
    "print(cfg)\n"
   ]
  },
  {
   "cell_type": "code",
   "execution_count": 3,
   "id": "boxed-momentum",
   "metadata": {},
   "outputs": [
    {
     "name": "stdout",
     "output_type": "stream",
     "text": [
      "Loaded Numerai Public Key into Global Environment!\n",
      "Loaded Numerai Secret Key into Global Environment!\n"
     ]
    }
   ],
   "source": [
    "credential()\n",
    "napi = init_numerapi()"
   ]
  },
  {
   "cell_type": "code",
   "execution_count": 4,
   "id": "scientific-meeting",
   "metadata": {},
   "outputs": [],
   "source": [
    "# 2. Define key paths\n",
    "round = napi.get_current_round()\n",
    "#current_file = Path(data_dir/f\"numerai_dataset_{round}.zip\")\n",
    "train = Path(f\"./input/numerai_dataset_{round}/numerai_training_data.csv\")\n",
    "tourn = Path(f\"./input/numerai_dataset_{round}/numerai_tournament_data.csv\")\n",
    "processed = Path('./input/training_processed.csv')\n",
    "output = Path(\"./output/\")"
   ]
  },
  {
   "cell_type": "code",
   "execution_count": 5,
   "id": "verified-veteran",
   "metadata": {},
   "outputs": [
    {
     "name": "stdout",
     "output_type": "stream",
     "text": [
      "The dataset has already been downloaded.\n",
      "You can re-download it with refresh = True\n",
      "Loading the processed training data from file\n",
      "\n"
     ]
    }
   ],
   "source": [
    "download_current(napi=napi)\n",
    "training_data, feature_cols, target_cols = process_current(processed, train, tourn)"
   ]
  },
  {
   "cell_type": "code",
   "execution_count": 6,
   "id": "unauthorized-toolbox",
   "metadata": {},
   "outputs": [
    {
     "name": "stdout",
     "output_type": "stream",
     "text": [
      "BATCHNORM_FINAL: true\n",
      "BATCH_SIZE: 2048\n",
      "DROPOUT_P: 0\n",
      "LAYERS:\n",
      "- 400\n",
      "- 400\n",
      "LEARNING_RATE: null\n",
      "NAME: Unnamed\n",
      "N_EPOCHS: 1\n",
      "TYPE: fastai tabular\n",
      "USE_BATCHNORM: true\n",
      "WEIGHT_DECAY: 0\n",
      "Y_RANGE:\n",
      "- 0\n",
      "- 1\n",
      "\n"
     ]
    },
    {
     "data": {
      "text/plain": [
       "'FastaiTabular'"
      ]
     },
     "execution_count": 6,
     "metadata": {},
     "output_type": "execute_result"
    }
   ],
   "source": [
    "print(cfg.MODEL)\n",
    "model_cls"
   ]
  },
  {
   "cell_type": "code",
   "execution_count": 7,
   "id": "previous-inside",
   "metadata": {},
   "outputs": [],
   "source": [
    "# Load Model\n",
    "modmod = import_module(f'src.models.{model}')\n",
    "mod = getattr(modmod, model_cls)(**cfg.MODEL.config)"
   ]
  },
  {
   "cell_type": "code",
   "execution_count": 8,
   "id": "equal-exception",
   "metadata": {},
   "outputs": [],
   "source": [
    "era_split = EraCV(eras = training_data.era)"
   ]
  },
  {
   "cell_type": "code",
   "execution_count": 9,
   "id": "international-smile",
   "metadata": {},
   "outputs": [
    {
     "data": {
      "text/plain": [
       "EraCV(last era:212)"
      ]
     },
     "execution_count": 9,
     "metadata": {},
     "output_type": "execute_result"
    }
   ],
   "source": [
    "era_split"
   ]
  },
  {
   "cell_type": "code",
   "execution_count": 10,
   "id": "proved-branch",
   "metadata": {},
   "outputs": [],
   "source": [
    "train_idx, test_idx = era_split.get_splits(valid_start = 209,\n",
    "                                           valid_n_eras = cfg.CV.VAL_N_ERAS,\n",
    "                                           train_start = cfg.CV.TRAIN_START,\n",
    "                                           train_stop = cfg.CV.TRAIN_STOP)"
   ]
  },
  {
   "cell_type": "code",
   "execution_count": 11,
   "id": "super-complement",
   "metadata": {},
   "outputs": [
    {
     "data": {
      "text/html": [
       "<table border=\"1\" class=\"dataframe\">\n",
       "  <thead>\n",
       "    <tr style=\"text-align: left;\">\n",
       "      <th>epoch</th>\n",
       "      <th>train_loss</th>\n",
       "      <th>valid_loss</th>\n",
       "      <th>spearmanr</th>\n",
       "      <th>time</th>\n",
       "    </tr>\n",
       "  </thead>\n",
       "  <tbody>\n",
       "    <tr>\n",
       "      <td>0</td>\n",
       "      <td>0.349135</td>\n",
       "      <td>0.357738</td>\n",
       "      <td>0.014734</td>\n",
       "      <td>00:41</td>\n",
       "    </tr>\n",
       "  </tbody>\n",
       "</table>"
      ],
      "text/plain": [
       "<IPython.core.display.HTML object>"
      ]
     },
     "metadata": {},
     "output_type": "display_data"
    }
   ],
   "source": [
    "mod.fit(df = training_data, cont_names = list(feature_cols),\n",
    "          train_idx = list(train_idx), val_idx = list(test_idx))"
   ]
  },
  {
   "cell_type": "code",
   "execution_count": 12,
   "id": "auburn-public",
   "metadata": {},
   "outputs": [
    {
     "data": {
      "text/html": [],
      "text/plain": [
       "<IPython.core.display.HTML object>"
      ]
     },
     "metadata": {},
     "output_type": "display_data"
    },
    {
     "name": "stdout",
     "output_type": "stream",
     "text": [
      "0.8501802522929379\n",
      "0.014772592710707605\n"
     ]
    }
   ],
   "source": [
    "val_preds = mod.predict(training_data.iloc[test_idx])\n",
    "\n",
    "prediction = val_preds\n",
    "target = list(training_data.target.iloc[test_idx])\n",
    "val_era = list(training_data.era[test_idx])\n",
    "eval_df = pd.DataFrame({'prediction':prediction,\n",
    "                        'target':target, 'era':val_era})\n",
    "eval_df\n",
    "print(sharpe(eval_df))\n",
    "print(val_corr(eval_df))"
   ]
  },
  {
   "cell_type": "code",
   "execution_count": 13,
   "id": "wired-distinction",
   "metadata": {},
   "outputs": [],
   "source": [
    "%%script false --no-raise-error\n",
    "# might be necessary\n",
    "print(\"training the model\\n\")\n",
    "print((\"[N | train --------- | valid ----------- |\"\n",
    "       \" corr ------------- | time]\"))\n",
    "start = time.time()\n",
    "with learn.no_bar():\n",
    "    learn.fit_one_cycle(n_epoch = cfg.TRAIN.N_EPOCHS,\n",
    "                        wd = cfg.MODEL.WEIGHT_DECAY)\n",
    "end = time. time()\n"
   ]
  },
  {
   "cell_type": "code",
   "execution_count": 14,
   "id": "eastern-kuwait",
   "metadata": {},
   "outputs": [
    {
     "data": {
      "text/html": [],
      "text/plain": [
       "<IPython.core.display.HTML object>"
      ]
     },
     "metadata": {},
     "output_type": "display_data"
    },
    {
     "data": {
      "text/html": [],
      "text/plain": [
       "<IPython.core.display.HTML object>"
      ]
     },
     "metadata": {},
     "output_type": "display_data"
    }
   ],
   "source": [
    "save_preds(model=mod, chunksize=1e6,\n",
    "           pred_path = output/\"preds.csv\",\n",
    "           feature_cols = feature_cols, tourn_path=tourn)"
   ]
  },
  {
   "cell_type": "code",
   "execution_count": null,
   "id": "effective-coach",
   "metadata": {},
   "outputs": [],
   "source": []
  }
 ],
 "metadata": {
  "kernelspec": {
   "display_name": "numerai",
   "language": "python",
   "name": "numerai"
  },
  "language_info": {
   "codemirror_mode": {
    "name": "ipython",
    "version": 3
   },
   "file_extension": ".py",
   "mimetype": "text/x-python",
   "name": "python",
   "nbconvert_exporter": "python",
   "pygments_lexer": "ipython3",
   "version": "3.9.2"
  }
 },
 "nbformat": 4,
 "nbformat_minor": 5
}
