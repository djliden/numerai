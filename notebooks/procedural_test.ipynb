{
 "cells": [
  {
   "cell_type": "code",
   "execution_count": 1,
   "id": "spectacular-liabilities",
   "metadata": {},
   "outputs": [],
   "source": [
    "import os\n",
    "os.chdir('/home/djliden91/git/projects/numerai')\n",
    "from src.config import config\n",
    "import yaml\n",
    "from pathlib import Path\n",
    "from src.models import fastai_tabular\n",
    "import sys\n",
    "import pandas as pd\n",
    "import numpy as np\n",
    "import time\n",
    "from src.config.config import Config\n",
    "#from fastai.tabular.all import *\n",
    "from importlib import import_module\n",
    "from pathlib import Path\n",
    "\n",
    "from src.utils.eval import FastSubmission\n",
    "from src.utils.setup import credential\n",
    "from src.utils.setup import download_current\n",
    "from src.utils.setup import process_current\n",
    "from src.utils.setup import init_numerapi\n",
    "\n",
    "#import src.models\n",
    "\n",
    "from src.utils.metrics import sharpe, val_corr\n",
    "\n",
    "# SET THIS TORCH STUFF IN FASTAI SECTION\n",
    "# set flags / seeds\n",
    "import gc\n",
    "#torch.backends.cudnn.benchmark = True\n",
    "np.random.seed(1)\n",
    "#torch.manual_seed(1)\n",
    "#torch.cuda.manual_seed(1)"
   ]
  },
  {
   "cell_type": "code",
   "execution_count": 4,
   "id": "prepared-liver",
   "metadata": {},
   "outputs": [
    {
     "name": "stdout",
     "output_type": "stream",
     "text": [
      "DATA:\n",
      "  REFRESH: false\n",
      "  SAVE_PROCESSED_TRAIN: true\n",
      "EVAL:\n",
      "  SAVE_PREDS: false\n",
      "MODEL:\n",
      "  LAYERS:\n",
      "  - 400\n",
      "  - 200\n",
      "  NAME: config_debug\n",
      "  WEIGHT_DECAY: 0.5\n",
      "SYSTEM:\n",
      "  TIME: '2021_3_19_918'\n",
      "TRAIN:\n",
      "  N_EPOCHS: 2\n",
      "\n"
     ]
    }
   ],
   "source": [
    "model = \"fastai_tabular\"\n",
    "configpath = \"./src/config/experiments/config_debug.yaml\"\n",
    "default_config = Path(\"./src/config/default_config.yaml\")\n",
    "cfg = Config(default_config)\n",
    "model_cfg = Path(f'./src/models/default_configs/{model}.yaml')\n",
    "model_cls = model.title().replace(\"_\",\"\")\n",
    "cfg.update_config(model_cfg)\n",
    "cfg.update_config(configpath)\n",
    "ct = time.localtime()\n",
    "current_time = f'{ct[0]}_{ct[1]}_{ct[2]}_{ct[3]}{ct[4]}'\n",
    "cfg.update_config({'SYSTEM':{'TIME':current_time}})\n",
    "print(cfg)\n"
   ]
  },
  {
   "cell_type": "code",
   "execution_count": null,
   "id": "impaired-necessity",
   "metadata": {},
   "outputs": [],
   "source": []
  },
  {
   "cell_type": "code",
   "execution_count": null,
   "id": "vital-divorce",
   "metadata": {},
   "outputs": [],
   "source": []
  }
 ],
 "metadata": {
  "kernelspec": {
   "display_name": "numerai",
   "language": "python",
   "name": "numerai"
  },
  "language_info": {
   "codemirror_mode": {
    "name": "ipython",
    "version": 3
   },
   "file_extension": ".py",
   "mimetype": "text/x-python",
   "name": "python",
   "nbconvert_exporter": "python",
   "pygments_lexer": "ipython3",
   "version": "3.9.2"
  }
 },
 "nbformat": 4,
 "nbformat_minor": 5
}
